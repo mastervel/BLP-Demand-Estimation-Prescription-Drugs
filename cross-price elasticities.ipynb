{
 "cells": [
  {
   "cell_type": "code",
   "execution_count": 4,
   "id": "2a70e9fb",
   "metadata": {},
   "outputs": [],
   "source": [
    "using CSV, LinearAlgebra, Statistics, DataFrames, Optim, ForwardDiff, Distributed, FixedEffectModels"
   ]
  },
  {
   "cell_type": "code",
   "execution_count": 5,
   "id": "a3ed57a2",
   "metadata": {},
   "outputs": [
    {
     "name": "stdout",
     "output_type": "stream",
     "text": [
      "Julia Version 1.9.1\n",
      "Commit 147bdf428c (2023-06-07 08:27 UTC)\n",
      "Platform Info:\n",
      "  OS: Windows (x86_64-w64-mingw32)\n",
      "  CPU: 8 × Intel(R) Core(TM) i7-4770 CPU @ 3.40GHz\n",
      "  WORD_SIZE: 64\n",
      "  LIBM: libopenlibm\n",
      "  LLVM: libLLVM-14.0.6 (ORCJIT, haswell)\n",
      "  Threads: 5 on 8 virtual cores\n",
      "Environment:\n",
      "  JULIA_NUM_THREADS = 4\n"
     ]
    }
   ],
   "source": [
    "versioninfo()"
   ]
  },
  {
   "cell_type": "code",
   "execution_count": 6,
   "id": "9f1bfa8e",
   "metadata": {},
   "outputs": [],
   "source": [
    "cd(\"C:\\\\Users\\\\Veli\\\\Downloads\\\\Code\\\\data\\\\clean\")"
   ]
  },
  {
   "cell_type": "code",
   "execution_count": 7,
   "id": "51271a22",
   "metadata": {},
   "outputs": [],
   "source": [
    "data = CSV.read(\"NH_MA_data_2014.csv\", DataFrame);\n",
    "\n",
    "df = data[data.DEASCHEDULE .== \"CII\",:];\n",
    "\n",
    "df = filter(row -> row.QTY > 0, df);\n",
    "\n",
    "df = filter(row -> row.AGE != \"90+\", df);\n",
    "df.AGE = string.(df.AGE)\n",
    "df.AGE = parse.(Int, df.AGE);\n",
    "\n",
    "filter!(row -> row.NH_COUNTY_CODE != 999, df)\n",
    "filter!(row -> row.MEMBER_COUNTY != 999, df)\n",
    "filter!(row -> row.PROPRIETARYNAME != \"ENDOCET\", df)\n",
    "filter!(row -> row.SV_STAT == \"P\", df)\n",
    "filter!(row -> row.AMT_BILLED != 0.0, df);\n",
    "\n",
    "df.PRICE = df.AMT_BILLED ./ df.QTY;"
   ]
  },
  {
   "cell_type": "code",
   "execution_count": 8,
   "id": "7caa2e30",
   "metadata": {},
   "outputs": [],
   "source": [
    "product_ids = unique(df.PROPRIETARYNAME);"
   ]
  },
  {
   "cell_type": "code",
   "execution_count": 9,
   "id": "a010da12",
   "metadata": {},
   "outputs": [],
   "source": [
    "product_dict = Dict{String, Int64}()\n",
    "for (index, value) in enumerate(product_ids)\n",
    "    product_dict[value] = index\n",
    "end"
   ]
  },
  {
   "cell_type": "code",
   "execution_count": 10,
   "id": "b65e7479",
   "metadata": {},
   "outputs": [
    {
     "data": {
      "text/plain": [
       "Dict{Int64, String} with 40 entries:\n",
       "  5  => \"Hydrocodone Bitartrate and Acetaminophen\"\n",
       "  35 => \"Hydromet\"\n",
       "  20 => \"OXYCODONE HYDROCHLORIDE\"\n",
       "  16 => \"Dexmethylphenidate Hydrochloride\"\n",
       "  12 => \"Oxymorphone Hydrochloride\"\n",
       "  30 => \"OxyContin\"\n",
       "  24 => \"Oxycodone and Acetaminophen\"\n",
       "  28 => \"Adderall\"\n",
       "  17 => \"Oxymorphone hydrochloride\"\n",
       "  8  => \"Methylphenidate Hydrochloride\"\n",
       "  23 => \"Hydrocodone Bitartrate And Acetaminophen\"\n",
       "  1  => \"Morphine Sulfate\"\n",
       "  32 => \"Daytrana\"\n",
       "  19 => \"Hydromorphone Hydrochloride\"\n",
       "  37 => \"PERCOCET\"\n",
       "  22 => \"Belladonna and Opium\"\n",
       "  11 => \"Codeine sulfate\"\n",
       "  36 => \"Opium Tincture Deodorized\"\n",
       "  6  => \"Vyvanse\"\n",
       "  9  => \"Dextroamphetamine saccharate, amphetamine aspartate monohydrate, dextr…\n",
       "  31 => \"Oxycodone Hydrochloride\"\n",
       "  14 => \"METHADONE HYDROCHLORIDE\"\n",
       "  3  => \"OXYCODONE AND ACETAMINOPHEN\"\n",
       "  39 => \"Dextroamphetamine Sulfate\"\n",
       "  29 => \"oxycodone hydrochloride\"\n",
       "  ⋮  => ⋮"
      ]
     },
     "execution_count": 10,
     "metadata": {},
     "output_type": "execute_result"
    }
   ],
   "source": [
    "swapped_dict = Dict(value => key for (key, value) in product_dict)"
   ]
  },
  {
   "cell_type": "code",
   "execution_count": 11,
   "id": "0df99e76",
   "metadata": {},
   "outputs": [
    {
     "name": "stdout",
     "output_type": "stream",
     "text": [
      "Product Oxymorphone Hydrochloride has 10 claims.\n",
      "Product Belladonna and Opium has 3 claims.\n",
      "Product Meperidine Hydrochloride has 6 claims.\n",
      "Product Opium Tincture Deodorized has 10 claims.\n",
      "Product Morphine sulfate has 5 claims.\n"
     ]
    }
   ],
   "source": [
    "df.product_id = map(x -> product_dict[x], df.PROPRIETARYNAME)\n",
    "prod_id_grped = groupby(df, :product_id)\n",
    "product_ids_to_drop = []\n",
    "for i in 1:length(prod_id_grped)\n",
    "    length = size(prod_id_grped[i],1)\n",
    "    product = prod_id_grped[i].product_id[1]\n",
    "    if length <= 10 \n",
    "        println(\"Product \", swapped_dict[product], \" has \", length, \" claims.\")\n",
    "        push!(product_ids_to_drop, product)\n",
    "    end\n",
    "end\n",
    "filter!(row -> !(row.product_id in product_ids_to_drop), df);"
   ]
  },
  {
   "cell_type": "code",
   "execution_count": 12,
   "id": "94a5e2e8",
   "metadata": {},
   "outputs": [],
   "source": [
    "product_ids = unique(df.PROPRIETARYNAME);\n",
    "\n",
    "product_dict = Dict{String, Int64}()\n",
    "\n",
    "for (index, value) in enumerate(product_ids)\n",
    "    product_dict[value] = index\n",
    "end\n",
    "\n",
    "df.product_id = map(x -> product_dict[x], df.PROPRIETARYNAME)\n",
    "\n",
    "avg_price_df = combine(groupby(df, :product_id), :PRICE => mean => :AVG_PRICE)\n",
    "\n",
    "avg_price_dict = Dict(zip(avg_price_df.product_id, avg_price_df.AVG_PRICE))\n",
    "\n",
    "    \n",
    "# price_vector = []\n",
    "# for (prod_id,price) in enumerate(avg_price_dict)\n",
    "#     push!(price_vector, avg_price_dict[prod_id])\n",
    "# end\n",
    "\n",
    "other_prices_list = []\n",
    "for row in eachrow(df)\n",
    "    new_dict = copy(avg_price_dict)\n",
    "    new_dict[row.product_id] = row.PRICE\n",
    "    price_vector = []\n",
    "    for (prod_id,price) in enumerate(new_dict)\n",
    "        push!(price_vector, avg_price_dict[prod_id])\n",
    "    end\n",
    "    push!(other_prices_list, price_vector)\n",
    "end"
   ]
  },
  {
   "cell_type": "code",
   "execution_count": 13,
   "id": "a36a8fc4",
   "metadata": {},
   "outputs": [],
   "source": [
    "prices = collect(df.PRICE)\n",
    "\n",
    "df.COINS_PERCENT = df.AMT_COINS ./ df.AMT_BILLED\n",
    "\n",
    "coinsurance = collect(df.COINS_PERCENT)\n",
    "\n",
    "df.FLAT_PAY = (df.AMT_COPAY + df.AMT_DEDUCT) ./ df.QTY\n",
    "\n",
    "copay = collect(df.FLAT_PAY);"
   ]
  },
  {
   "cell_type": "code",
   "execution_count": 14,
   "id": "b8749062",
   "metadata": {},
   "outputs": [
    {
     "data": {
      "text/plain": [
       "choice_prob_denominator_v2 (generic function with 1 method)"
      ]
     },
     "execution_count": 14,
     "metadata": {},
     "output_type": "execute_result"
    }
   ],
   "source": [
    "function choice_prob_numerator_v4(α,δ_j,price,coinsurance,copay)\n",
    "    util(α, p, δ_j) = exp.(α .* p .+ δ_j)\n",
    "    p = price .* coinsurance .+ copay\n",
    "    utility = util(α,p,δ_j)\n",
    "    return utility\n",
    "end\n",
    "\n",
    "function choice_prob_denominator_v2(α_scalar,δ_vector,price_vector,coinsurance_scalar,copay_scalar)\n",
    "    util_values = choice_prob_numerator_v4.(α_scalar, δ_vector, price_vector, coinsurance_scalar, copay_scalar)\n",
    "    total = sum.(util_values)\n",
    "    return total\n",
    "end"
   ]
  },
  {
   "cell_type": "code",
   "execution_count": 15,
   "id": "07057419",
   "metadata": {},
   "outputs": [
    {
     "data": {
      "text/html": [
       "<div><div style = \"float: left;\"><span>1×39 DataFrame</span></div><div style = \"clear: both;\"></div></div><div class = \"data-frame\" style = \"overflow-x: scroll;\"><table class = \"data-frame\" style = \"margin-bottom: 6px;\"><thead><tr class = \"header\"><th class = \"rowNumber\" style = \"font-weight: bold; text-align: right;\">Row</th><th style = \"text-align: left;\">Adderall</th><th style = \"text-align: left;\">CONCERTA</th><th style = \"text-align: left;\">Codeine sulfate</th><th style = \"text-align: left;\">DEXTROAMPHETAMINE SULFATE</th><th style = \"text-align: left;\">Daytrana</th><th style = \"text-align: left;\">Dexmethylphenidate Hydrochloride</th><th style = \"text-align: left;\">Dextroamphetamine Saccharate and Amphetamine Aspartate and Dextroamphetamine Sulfate and Amphetamine Sulfate</th><th style = \"text-align: left;\">Dextroamphetamine Saccharate, Amphetamine Aspartate, Dextroamphetamine Sulfate and Amphetamine Sulfate</th><th style = \"text-align: left;\">Dextroamphetamine Sulfate</th><th style = \"text-align: left;\">Dextroamphetamine saccharate, amphetamine aspartate monohydrate, dextroamphetamine sulfate, amphetamine sulfate</th><th style = \"text-align: left;\">FENTANYL</th><th style = \"text-align: left;\">FENTANYL TRANSDERMAL</th><th style = \"text-align: left;\">Focalin</th><th style = \"text-align: left;\">HYDROCODONE BITARTRATE AND ACETAMINOPHEN</th><th style = \"text-align: left;\">Hydrocodone Bitartrate And Acetaminophen</th><th style = \"text-align: left;\">Hydrocodone Bitartrate and Acetaminophen</th><th style = \"text-align: left;\">Hydrocodone Bitartrate and Homatropine Methylbromide</th><th style = \"text-align: left;\">Hydrocodone Bitartrate and Ibuprofen</th><th style = \"text-align: left;\">Hydromet</th><th style = \"text-align: left;\">Hydromorphone Hydrochloride</th><th style = \"text-align: left;\">METHADONE HYDROCHLORIDE</th><th style = \"text-align: left;\">MORPHINE SULFATE</th><th style = \"text-align: left;\">Methadone Hydrochloride</th><th style = \"text-align: left;\">Methylphenidate Hydrochloride</th><th style = \"text-align: left;\">Morphine Sulfate</th><th style = \"text-align: left;\">OXYCODONE AND ACETAMINOPHEN</th><th style = \"text-align: left;\">OXYCODONE HYDROCHLORIDE</th><th style = \"text-align: left;\">OxyContin</th><th style = \"text-align: left;\">Oxycodone Hydrochloride</th><th style = \"text-align: left;\">Oxycodone and Acetaminophen</th><th style = \"text-align: left;\">Oxycodone hydrochloride</th><th style = \"text-align: left;\">Oxymorphone Hydrochloride</th><th style = \"text-align: left;\">Oxymorphone hydrochloride</th><th style = \"text-align: left;\">PERCOCET</th><th style = \"text-align: left;\">Ritalin</th><th style = \"text-align: left;\">Vyvanse</th><th style = \"text-align: left;\">Year</th><th style = \"text-align: left;\">oxycodone hydrochloride</th><th style = \"text-align: left;\">α</th></tr><tr class = \"subheader headerLastRow\"><th class = \"rowNumber\" style = \"font-weight: bold; text-align: right;\"></th><th title = \"Float64\" style = \"text-align: left;\">Float64</th><th title = \"Float64\" style = \"text-align: left;\">Float64</th><th title = \"Float64\" style = \"text-align: left;\">Float64</th><th title = \"Float64\" style = \"text-align: left;\">Float64</th><th title = \"Float64\" style = \"text-align: left;\">Float64</th><th title = \"Float64\" style = \"text-align: left;\">Float64</th><th title = \"Float64\" style = \"text-align: left;\">Float64</th><th title = \"Float64\" style = \"text-align: left;\">Float64</th><th title = \"Float64\" style = \"text-align: left;\">Float64</th><th title = \"Float64\" style = \"text-align: left;\">Float64</th><th title = \"Float64\" style = \"text-align: left;\">Float64</th><th title = \"Float64\" style = \"text-align: left;\">Float64</th><th title = \"Float64\" style = \"text-align: left;\">Float64</th><th title = \"Float64\" style = \"text-align: left;\">Float64</th><th title = \"Float64\" style = \"text-align: left;\">Float64</th><th title = \"Float64\" style = \"text-align: left;\">Float64</th><th title = \"Float64\" style = \"text-align: left;\">Float64</th><th title = \"Float64\" style = \"text-align: left;\">Float64</th><th title = \"Float64\" style = \"text-align: left;\">Float64</th><th title = \"Float64\" style = \"text-align: left;\">Float64</th><th title = \"Float64\" style = \"text-align: left;\">Float64</th><th title = \"Float64\" style = \"text-align: left;\">Float64</th><th title = \"Float64\" style = \"text-align: left;\">Float64</th><th title = \"Float64\" style = \"text-align: left;\">Float64</th><th title = \"Float64\" style = \"text-align: left;\">Float64</th><th title = \"Float64\" style = \"text-align: left;\">Float64</th><th title = \"Float64\" style = \"text-align: left;\">Float64</th><th title = \"Float64\" style = \"text-align: left;\">Float64</th><th title = \"Float64\" style = \"text-align: left;\">Float64</th><th title = \"Float64\" style = \"text-align: left;\">Float64</th><th title = \"Float64\" style = \"text-align: left;\">Float64</th><th title = \"Float64\" style = \"text-align: left;\">Float64</th><th title = \"Float64\" style = \"text-align: left;\">Float64</th><th title = \"Float64\" style = \"text-align: left;\">Float64</th><th title = \"Float64\" style = \"text-align: left;\">Float64</th><th title = \"Float64\" style = \"text-align: left;\">Float64</th><th title = \"Int64\" style = \"text-align: left;\">Int64</th><th title = \"Float64\" style = \"text-align: left;\">Float64</th><th title = \"Float64\" style = \"text-align: left;\">Float64</th></tr></thead><tbody><tr><td class = \"rowNumber\" style = \"font-weight: bold; text-align: right;\">1</td><td style = \"text-align: right;\">19.6051</td><td style = \"text-align: right;\">17.2907</td><td style = \"text-align: right;\">15.5686</td><td style = \"text-align: right;\">16.3096</td><td style = \"text-align: right;\">17.7373</td><td style = \"text-align: right;\">17.5111</td><td style = \"text-align: right;\">16.5335</td><td style = \"text-align: right;\">21.1006</td><td style = \"text-align: right;\">18.0837</td><td style = \"text-align: right;\">20.0405</td><td style = \"text-align: right;\">19.6154</td><td style = \"text-align: right;\">16.3703</td><td style = \"text-align: right;\">19.3495</td><td style = \"text-align: right;\">19.5913</td><td style = \"text-align: right;\">18.2034</td><td style = \"text-align: right;\">19.5555</td><td style = \"text-align: right;\">17.7584</td><td style = \"text-align: right;\">16.8859</td><td style = \"text-align: right;\">17.7533</td><td style = \"text-align: right;\">19.926</td><td style = \"text-align: right;\">19.509</td><td style = \"text-align: right;\">18.9486</td><td style = \"text-align: right;\">16.8643</td><td style = \"text-align: right;\">20.8849</td><td style = \"text-align: right;\">19.2204</td><td style = \"text-align: right;\">20.2114</td><td style = \"text-align: right;\">21.0806</td><td style = \"text-align: right;\">20.4151</td><td style = \"text-align: right;\">18.2353</td><td style = \"text-align: right;\">19.6112</td><td style = \"text-align: right;\">13.3901</td><td style = \"text-align: right;\">13.842</td><td style = \"text-align: right;\">17.8227</td><td style = \"text-align: right;\">15.9201</td><td style = \"text-align: right;\">17.7259</td><td style = \"text-align: right;\">20.8541</td><td style = \"text-align: right;\">2014</td><td style = \"text-align: right;\">19.4409</td><td style = \"text-align: right;\">-0.465751</td></tr></tbody></table></div>"
      ],
      "text/latex": [
       "\\begin{tabular}{r|ccccccc}\n",
       "\t& Adderall & CONCERTA & Codeine sulfate & DEXTROAMPHETAMINE SULFATE & Daytrana & Dexmethylphenidate Hydrochloride & \\\\\n",
       "\t\\hline\n",
       "\t& Float64 & Float64 & Float64 & Float64 & Float64 & Float64 & \\\\\n",
       "\t\\hline\n",
       "\t1 & 19.6051 & 17.2907 & 15.5686 & 16.3096 & 17.7373 & 17.5111 & $\\dots$ \\\\\n",
       "\\end{tabular}\n"
      ],
      "text/plain": [
       "\u001b[1m1×39 DataFrame\u001b[0m\n",
       "\u001b[1m Row \u001b[0m│\u001b[1m Adderall \u001b[0m\u001b[1m CONCERTA \u001b[0m\u001b[1m Codeine sulfate \u001b[0m\u001b[1m DEXTROAMPHETAMINE SULFATE \u001b[0m\u001b[1m Daytran\u001b[0m ⋯\n",
       "     │\u001b[90m Float64  \u001b[0m\u001b[90m Float64  \u001b[0m\u001b[90m Float64         \u001b[0m\u001b[90m Float64                   \u001b[0m\u001b[90m Float64\u001b[0m ⋯\n",
       "─────┼──────────────────────────────────────────────────────────────────────────\n",
       "   1 │  19.6051   17.2907          15.5686                    16.3096   17.737 ⋯\n",
       "\u001b[36m                                                              35 columns omitted\u001b[0m"
      ]
     },
     "execution_count": 15,
     "metadata": {},
     "output_type": "execute_result"
    }
   ],
   "source": [
    "est_coefs = CSV.read(\"est_coefs_2014.csv\", DataFrame)"
   ]
  },
  {
   "cell_type": "code",
   "execution_count": 16,
   "id": "72cd620b",
   "metadata": {},
   "outputs": [
    {
     "data": {
      "text/html": [
       "<div><div style = \"float: left;\"><span>1×37 DataFrame</span></div><div style = \"clear: both;\"></div></div><div class = \"data-frame\" style = \"overflow-x: scroll;\"><table class = \"data-frame\" style = \"margin-bottom: 6px;\"><thead><tr class = \"header\"><th class = \"rowNumber\" style = \"font-weight: bold; text-align: right;\">Row</th><th style = \"text-align: left;\">Adderall</th><th style = \"text-align: left;\">CONCERTA</th><th style = \"text-align: left;\">Codeine sulfate</th><th style = \"text-align: left;\">DEXTROAMPHETAMINE SULFATE</th><th style = \"text-align: left;\">Daytrana</th><th style = \"text-align: left;\">Dexmethylphenidate Hydrochloride</th><th style = \"text-align: left;\">Dextroamphetamine Saccharate and Amphetamine Aspartate and Dextroamphetamine Sulfate and Amphetamine Sulfate</th><th style = \"text-align: left;\">Dextroamphetamine Saccharate, Amphetamine Aspartate, Dextroamphetamine Sulfate and Amphetamine Sulfate</th><th style = \"text-align: left;\">Dextroamphetamine Sulfate</th><th style = \"text-align: left;\">Dextroamphetamine saccharate, amphetamine aspartate monohydrate, dextroamphetamine sulfate, amphetamine sulfate</th><th style = \"text-align: left;\">FENTANYL</th><th style = \"text-align: left;\">FENTANYL TRANSDERMAL</th><th style = \"text-align: left;\">Focalin</th><th style = \"text-align: left;\">HYDROCODONE BITARTRATE AND ACETAMINOPHEN</th><th style = \"text-align: left;\">Hydrocodone Bitartrate And Acetaminophen</th><th style = \"text-align: left;\">Hydrocodone Bitartrate and Acetaminophen</th><th style = \"text-align: left;\">Hydrocodone Bitartrate and Homatropine Methylbromide</th><th style = \"text-align: left;\">Hydrocodone Bitartrate and Ibuprofen</th><th style = \"text-align: left;\">Hydromet</th><th style = \"text-align: left;\">Hydromorphone Hydrochloride</th><th style = \"text-align: left;\">METHADONE HYDROCHLORIDE</th><th style = \"text-align: left;\">MORPHINE SULFATE</th><th style = \"text-align: left;\">Methadone Hydrochloride</th><th style = \"text-align: left;\">Methylphenidate Hydrochloride</th><th style = \"text-align: left;\">Morphine Sulfate</th><th style = \"text-align: left;\">OXYCODONE AND ACETAMINOPHEN</th><th style = \"text-align: left;\">OXYCODONE HYDROCHLORIDE</th><th style = \"text-align: left;\">OxyContin</th><th style = \"text-align: left;\">Oxycodone Hydrochloride</th><th style = \"text-align: left;\">Oxycodone and Acetaminophen</th><th style = \"text-align: left;\">Oxycodone hydrochloride</th><th style = \"text-align: left;\">Oxymorphone Hydrochloride</th><th style = \"text-align: left;\">Oxymorphone hydrochloride</th><th style = \"text-align: left;\">PERCOCET</th><th style = \"text-align: left;\">Ritalin</th><th style = \"text-align: left;\">Vyvanse</th><th style = \"text-align: left;\">oxycodone hydrochloride</th></tr><tr class = \"subheader headerLastRow\"><th class = \"rowNumber\" style = \"font-weight: bold; text-align: right;\"></th><th title = \"Float64\" style = \"text-align: left;\">Float64</th><th title = \"Float64\" style = \"text-align: left;\">Float64</th><th title = \"Float64\" style = \"text-align: left;\">Float64</th><th title = \"Float64\" style = \"text-align: left;\">Float64</th><th title = \"Float64\" style = \"text-align: left;\">Float64</th><th title = \"Float64\" style = \"text-align: left;\">Float64</th><th title = \"Float64\" style = \"text-align: left;\">Float64</th><th title = \"Float64\" style = \"text-align: left;\">Float64</th><th title = \"Float64\" style = \"text-align: left;\">Float64</th><th title = \"Float64\" style = \"text-align: left;\">Float64</th><th title = \"Float64\" style = \"text-align: left;\">Float64</th><th title = \"Float64\" style = \"text-align: left;\">Float64</th><th title = \"Float64\" style = \"text-align: left;\">Float64</th><th title = \"Float64\" style = \"text-align: left;\">Float64</th><th title = \"Float64\" style = \"text-align: left;\">Float64</th><th title = \"Float64\" style = \"text-align: left;\">Float64</th><th title = \"Float64\" style = \"text-align: left;\">Float64</th><th title = \"Float64\" style = \"text-align: left;\">Float64</th><th title = \"Float64\" style = \"text-align: left;\">Float64</th><th title = \"Float64\" style = \"text-align: left;\">Float64</th><th title = \"Float64\" style = \"text-align: left;\">Float64</th><th title = \"Float64\" style = \"text-align: left;\">Float64</th><th title = \"Float64\" style = \"text-align: left;\">Float64</th><th title = \"Float64\" style = \"text-align: left;\">Float64</th><th title = \"Float64\" style = \"text-align: left;\">Float64</th><th title = \"Float64\" style = \"text-align: left;\">Float64</th><th title = \"Float64\" style = \"text-align: left;\">Float64</th><th title = \"Float64\" style = \"text-align: left;\">Float64</th><th title = \"Float64\" style = \"text-align: left;\">Float64</th><th title = \"Float64\" style = \"text-align: left;\">Float64</th><th title = \"Float64\" style = \"text-align: left;\">Float64</th><th title = \"Float64\" style = \"text-align: left;\">Float64</th><th title = \"Float64\" style = \"text-align: left;\">Float64</th><th title = \"Float64\" style = \"text-align: left;\">Float64</th><th title = \"Float64\" style = \"text-align: left;\">Float64</th><th title = \"Float64\" style = \"text-align: left;\">Float64</th><th title = \"Float64\" style = \"text-align: left;\">Float64</th></tr></thead><tbody><tr><td class = \"rowNumber\" style = \"font-weight: bold; text-align: right;\">1</td><td style = \"text-align: right;\">19.6051</td><td style = \"text-align: right;\">17.2907</td><td style = \"text-align: right;\">15.5686</td><td style = \"text-align: right;\">16.3096</td><td style = \"text-align: right;\">17.7373</td><td style = \"text-align: right;\">17.5111</td><td style = \"text-align: right;\">16.5335</td><td style = \"text-align: right;\">21.1006</td><td style = \"text-align: right;\">18.0837</td><td style = \"text-align: right;\">20.0405</td><td style = \"text-align: right;\">19.6154</td><td style = \"text-align: right;\">16.3703</td><td style = \"text-align: right;\">19.3495</td><td style = \"text-align: right;\">19.5913</td><td style = \"text-align: right;\">18.2034</td><td style = \"text-align: right;\">19.5555</td><td style = \"text-align: right;\">17.7584</td><td style = \"text-align: right;\">16.8859</td><td style = \"text-align: right;\">17.7533</td><td style = \"text-align: right;\">19.926</td><td style = \"text-align: right;\">19.509</td><td style = \"text-align: right;\">18.9486</td><td style = \"text-align: right;\">16.8643</td><td style = \"text-align: right;\">20.8849</td><td style = \"text-align: right;\">19.2204</td><td style = \"text-align: right;\">20.2114</td><td style = \"text-align: right;\">21.0806</td><td style = \"text-align: right;\">20.4151</td><td style = \"text-align: right;\">18.2353</td><td style = \"text-align: right;\">19.6112</td><td style = \"text-align: right;\">13.3901</td><td style = \"text-align: right;\">13.842</td><td style = \"text-align: right;\">17.8227</td><td style = \"text-align: right;\">15.9201</td><td style = \"text-align: right;\">17.7259</td><td style = \"text-align: right;\">20.8541</td><td style = \"text-align: right;\">19.4409</td></tr></tbody></table></div>"
      ],
      "text/latex": [
       "\\begin{tabular}{r|ccccccc}\n",
       "\t& Adderall & CONCERTA & Codeine sulfate & DEXTROAMPHETAMINE SULFATE & Daytrana & Dexmethylphenidate Hydrochloride & \\\\\n",
       "\t\\hline\n",
       "\t& Float64 & Float64 & Float64 & Float64 & Float64 & Float64 & \\\\\n",
       "\t\\hline\n",
       "\t1 & 19.6051 & 17.2907 & 15.5686 & 16.3096 & 17.7373 & 17.5111 & $\\dots$ \\\\\n",
       "\\end{tabular}\n"
      ],
      "text/plain": [
       "\u001b[1m1×37 DataFrame\u001b[0m\n",
       "\u001b[1m Row \u001b[0m│\u001b[1m Adderall \u001b[0m\u001b[1m CONCERTA \u001b[0m\u001b[1m Codeine sulfate \u001b[0m\u001b[1m DEXTROAMPHETAMINE SULFATE \u001b[0m\u001b[1m Daytran\u001b[0m ⋯\n",
       "     │\u001b[90m Float64  \u001b[0m\u001b[90m Float64  \u001b[0m\u001b[90m Float64         \u001b[0m\u001b[90m Float64                   \u001b[0m\u001b[90m Float64\u001b[0m ⋯\n",
       "─────┼──────────────────────────────────────────────────────────────────────────\n",
       "   1 │  19.6051   17.2907          15.5686                    16.3096   17.737 ⋯\n",
       "\u001b[36m                                                              33 columns omitted\u001b[0m"
      ]
     },
     "execution_count": 16,
     "metadata": {},
     "output_type": "execute_result"
    }
   ],
   "source": [
    "δ_df = select(est_coefs, Not([:α,:Year]))"
   ]
  },
  {
   "cell_type": "code",
   "execution_count": 17,
   "id": "149cdde5",
   "metadata": {},
   "outputs": [
    {
     "data": {
      "text/plain": [
       "2-element Vector{String}:\n",
       " \"Oxycodone hydrochloride\"\n",
       " \"Oxymorphone Hydrochloride\""
      ]
     },
     "execution_count": 17,
     "metadata": {},
     "output_type": "execute_result"
    }
   ],
   "source": [
    "setdiff(names(δ_df),unique(df.PROPRIETARYNAME))"
   ]
  },
  {
   "cell_type": "code",
   "execution_count": 18,
   "id": "ebc4a643",
   "metadata": {},
   "outputs": [
    {
     "data": {
      "text/plain": [
       "-0.46575145336857554"
      ]
     },
     "execution_count": 18,
     "metadata": {},
     "output_type": "execute_result"
    }
   ],
   "source": [
    "α_hat = est_coefs.α[1]"
   ]
  },
  {
   "cell_type": "markdown",
   "id": "94b95135",
   "metadata": {},
   "source": [
    "Need to reorder the $\\delta$ vector to match indexing of the functions that will be used later."
   ]
  },
  {
   "cell_type": "code",
   "execution_count": 19,
   "id": "997cd646",
   "metadata": {},
   "outputs": [],
   "source": [
    "δ_hat = zeros(size(δ_df,2))\n",
    "for (i,j) in enumerate(product_dict)\n",
    "    #println(δ_df[1,j[1]], \"  \", j[2])\n",
    "    δ_hat[j[2]] = δ_df[1,j[1]]\n",
    "end"
   ]
  },
  {
   "cell_type": "code",
   "execution_count": 21,
   "id": "dd0b2ae1",
   "metadata": {
    "collapsed": true
   },
   "outputs": [
    {
     "data": {
      "text/plain": [
       "35-element Vector{Float64}:\n",
       " 19.220374934633316\n",
       " 19.59125471971066\n",
       " 20.211401960170605\n",
       " 18.9486069076709\n",
       " 19.555507389299628\n",
       " 20.85411098676891\n",
       " 19.349526359215556\n",
       " 20.884871206884167\n",
       " 20.040525785877147\n",
       " 21.10056220092389\n",
       " 15.568590817719235\n",
       " 16.864310767748428\n",
       " 19.508993695641568\n",
       "  ⋮\n",
       " 16.885939573765704\n",
       " 19.605078248184306\n",
       " 19.440908381738023\n",
       " 20.41510092284246\n",
       " 18.235269972254493\n",
       " 17.73726371711646\n",
       " 16.37027067296148\n",
       " 17.290722176406756\n",
       " 17.753309184196564\n",
       " 15.920103592211023\n",
       " 18.083698357376086\n",
       " 16.30960982121488"
      ]
     },
     "execution_count": 21,
     "metadata": {},
     "output_type": "execute_result"
    }
   ],
   "source": [
    "# This was required for 2014 for some reason. Must have been an error in a previous step I couldn't implement. \n",
    "#δ_hat = δ_hat[1:end-2]"
   ]
  },
  {
   "cell_type": "code",
   "execution_count": 22,
   "id": "152891e3",
   "metadata": {},
   "outputs": [],
   "source": [
    "avg_price_df = combine(groupby(df, :product_id), :PRICE => mean => :AVG_PRICE)\n",
    "avg_price_dict = Dict(zip(avg_price_df.product_id, avg_price_df.AVG_PRICE))\n",
    "price_vector = []\n",
    "for (prod_id,price) in enumerate(avg_price_dict)\n",
    "    push!(price_vector, avg_price_dict[prod_id])\n",
    "end\n",
    "other_prices_list = []\n",
    "for row in eachrow(df)\n",
    "    new_dict = copy(avg_price_dict)\n",
    "    new_dict[row.product_id] = row.PRICE\n",
    "    price_vector = []\n",
    "    for (prod_id,price) in enumerate(new_dict)\n",
    "        push!(price_vector, new_dict[prod_id])\n",
    "    end\n",
    "    push!(other_prices_list, price_vector)\n",
    "end;"
   ]
  },
  {
   "cell_type": "code",
   "execution_count": 231,
   "id": "6a6c81dc",
   "metadata": {},
   "outputs": [],
   "source": [
    "# δ_hat = [16.759160102440646,\n",
    "#     20.108844785905873,\n",
    "#     14.27283197366383,\n",
    "#     20.388565499734508,\n",
    "#     18.33452707834806,\n",
    "#     17.64026642093988,\n",
    "#     14.270707383296973,\n",
    "#     14.274409774733833,\n",
    "#     17.88309100731989,\n",
    "#     14.274409700854104,\n",
    "#     15.650850124743782,\n",
    "#     16.839173501997514,\n",
    "#     18.124193273511132,\n",
    "#     14.273631417363939];"
   ]
  },
  {
   "cell_type": "code",
   "execution_count": 232,
   "id": "5ac13530",
   "metadata": {},
   "outputs": [],
   "source": [
    "# α_hat = 0.1105473018673869"
   ]
  },
  {
   "cell_type": "code",
   "execution_count": 23,
   "id": "f39f2d48",
   "metadata": {},
   "outputs": [],
   "source": [
    "vector_δ_hat = fill(δ_hat,size(df,1));"
   ]
  },
  {
   "cell_type": "code",
   "execution_count": 24,
   "id": "889c3b27",
   "metadata": {},
   "outputs": [],
   "source": [
    "est_numerator_list = choice_prob_numerator_v4(α_hat,δ_hat[df.product_id],prices,coinsurance,copay);"
   ]
  },
  {
   "cell_type": "code",
   "execution_count": 25,
   "id": "4860e328",
   "metadata": {},
   "outputs": [],
   "source": [
    "est_denominator_list = choice_prob_denominator_v2(α_hat,vector_δ_hat,other_prices_list,coinsurance,copay);"
   ]
  },
  {
   "cell_type": "code",
   "execution_count": 26,
   "id": "8eff36d9",
   "metadata": {},
   "outputs": [],
   "source": [
    "df.s_ij = est_numerator_list ./ est_denominator_list;"
   ]
  },
  {
   "cell_type": "code",
   "execution_count": 27,
   "id": "dc513c16",
   "metadata": {},
   "outputs": [],
   "source": [
    "rows = length(δ_hat)\n",
    "cols = length(δ_hat)\n",
    "adj_matrix = zeros(Float64, rows, cols);"
   ]
  },
  {
   "cell_type": "code",
   "execution_count": 28,
   "id": "16db3806",
   "metadata": {},
   "outputs": [],
   "source": [
    "for k in 1:length(δ_hat)\n",
    "    for j in 1:length(δ_hat)\n",
    "            ϵ_jk = 0\n",
    "            for i in 1:size(df,1)\n",
    "                if df.product_id[i] == j\n",
    "                    s_ik_numerator = choice_prob_numerator_v4(α_hat,δ_hat[k],other_prices_list[i][k],coinsurance[i],copay[i])\n",
    "                    s_ik_denominator = choice_prob_denominator_v2(α_hat,vector_δ_hat[i],other_prices_list[i],coinsurance[i],copay[i])\n",
    "                    s_ik = s_ik_numerator / sum(s_ik_denominator)\n",
    "                    if j == k\n",
    "                        ϵ_ijk = -α_hat * df.s_ij[i] * (1 - df.s_ij[i])    \n",
    "                        ϵ_jk += ϵ_ijk\n",
    "                    else\n",
    "                        ϵ_ijk = -α_hat * df.s_ij[i] * s_ik    \n",
    "                        ϵ_jk += ϵ_ijk\n",
    "                    end\n",
    "                end\n",
    "            end\n",
    "        #println(\"ϵ($j, $k): \", ϵ_jk)\n",
    "        adj_matrix[j,k] = ϵ_jk\n",
    "    end\n",
    "end"
   ]
  },
  {
   "cell_type": "code",
   "execution_count": 29,
   "id": "71dbd3c0",
   "metadata": {},
   "outputs": [
    {
     "data": {
      "text/html": [
       "<div><div style = \"float: left;\"><span>35×35 DataFrame</span></div><div style = \"float: right;\"><span style = \"font-style: italic;\">10 rows omitted</span></div><div style = \"clear: both;\"></div></div><div class = \"data-frame\" style = \"overflow-x: scroll;\"><table class = \"data-frame\" style = \"margin-bottom: 6px;\"><thead><tr class = \"header\"><th class = \"rowNumber\" style = \"font-weight: bold; text-align: right;\">Row</th><th style = \"text-align: left;\">x1</th><th style = \"text-align: left;\">x2</th><th style = \"text-align: left;\">x3</th><th style = \"text-align: left;\">x4</th><th style = \"text-align: left;\">x5</th><th style = \"text-align: left;\">x6</th><th style = \"text-align: left;\">x7</th><th style = \"text-align: left;\">x8</th><th style = \"text-align: left;\">x9</th><th style = \"text-align: left;\">x10</th><th style = \"text-align: left;\">x11</th><th style = \"text-align: left;\">x12</th><th style = \"text-align: left;\">x13</th><th style = \"text-align: left;\">x14</th><th style = \"text-align: left;\">x15</th><th style = \"text-align: left;\">x16</th><th style = \"text-align: left;\">x17</th><th style = \"text-align: left;\">x18</th><th style = \"text-align: left;\">x19</th><th style = \"text-align: left;\">x20</th><th style = \"text-align: left;\">x21</th><th style = \"text-align: left;\">x22</th><th style = \"text-align: left;\">x23</th><th style = \"text-align: left;\">x24</th><th style = \"text-align: left;\">x25</th><th style = \"text-align: left;\">x26</th><th style = \"text-align: left;\">x27</th><th style = \"text-align: left;\">x28</th><th style = \"text-align: left;\">x29</th><th style = \"text-align: left;\">x30</th><th style = \"text-align: left;\">x31</th><th style = \"text-align: left;\">x32</th><th style = \"text-align: left;\">x33</th><th style = \"text-align: left;\">x34</th><th style = \"text-align: left;\">x35</th></tr><tr class = \"subheader headerLastRow\"><th class = \"rowNumber\" style = \"font-weight: bold; text-align: right;\"></th><th title = \"Float64\" style = \"text-align: left;\">Float64</th><th title = \"Float64\" style = \"text-align: left;\">Float64</th><th title = \"Float64\" style = \"text-align: left;\">Float64</th><th title = \"Float64\" style = \"text-align: left;\">Float64</th><th title = \"Float64\" style = \"text-align: left;\">Float64</th><th title = \"Float64\" style = \"text-align: left;\">Float64</th><th title = \"Float64\" style = \"text-align: left;\">Float64</th><th title = \"Float64\" style = \"text-align: left;\">Float64</th><th title = \"Float64\" style = \"text-align: left;\">Float64</th><th title = \"Float64\" style = \"text-align: left;\">Float64</th><th title = \"Float64\" style = \"text-align: left;\">Float64</th><th title = \"Float64\" style = \"text-align: left;\">Float64</th><th title = \"Float64\" style = \"text-align: left;\">Float64</th><th title = \"Float64\" style = \"text-align: left;\">Float64</th><th title = \"Float64\" style = \"text-align: left;\">Float64</th><th title = \"Float64\" style = \"text-align: left;\">Float64</th><th title = \"Float64\" style = \"text-align: left;\">Float64</th><th title = \"Float64\" style = \"text-align: left;\">Float64</th><th title = \"Float64\" style = \"text-align: left;\">Float64</th><th title = \"Float64\" style = \"text-align: left;\">Float64</th><th title = \"Float64\" style = \"text-align: left;\">Float64</th><th title = \"Float64\" style = \"text-align: left;\">Float64</th><th title = \"Float64\" style = \"text-align: left;\">Float64</th><th title = \"Float64\" style = \"text-align: left;\">Float64</th><th title = \"Float64\" style = \"text-align: left;\">Float64</th><th title = \"Float64\" style = \"text-align: left;\">Float64</th><th title = \"Float64\" style = \"text-align: left;\">Float64</th><th title = \"Float64\" style = \"text-align: left;\">Float64</th><th title = \"Float64\" style = \"text-align: left;\">Float64</th><th title = \"Float64\" style = \"text-align: left;\">Float64</th><th title = \"Float64\" style = \"text-align: left;\">Float64</th><th title = \"Float64\" style = \"text-align: left;\">Float64</th><th title = \"Float64\" style = \"text-align: left;\">Float64</th><th title = \"Float64\" style = \"text-align: left;\">Float64</th><th title = \"Float64\" style = \"text-align: left;\">Float64</th></tr></thead><tbody><tr><td class = \"rowNumber\" style = \"font-weight: bold; text-align: right;\">1</td><td style = \"text-align: right;\">4.03737</td><td style = \"text-align: right;\">0.122878</td><td style = \"text-align: right;\">0.227525</td><td style = \"text-align: right;\">0.0637926</td><td style = \"text-align: right;\">0.118422</td><td style = \"text-align: right;\">0.418453</td><td style = \"text-align: right;\">0.0925948</td><td style = \"text-align: right;\">0.438338</td><td style = \"text-align: right;\">0.187008</td><td style = \"text-align: right;\">0.553105</td><td style = \"text-align: right;\">0.00220053</td><td style = \"text-align: right;\">0.00807026</td><td style = \"text-align: right;\">0.113578</td><td style = \"text-align: right;\">0.0185747</td><td style = \"text-align: right;\">0.0148431</td><td style = \"text-align: right;\">0.0202603</td><td style = \"text-align: right;\">0.116652</td><td style = \"text-align: right;\">0.171929</td><td style = \"text-align: right;\">0.544812</td><td style = \"text-align: right;\">0.00574109</td><td style = \"text-align: right;\">0.030716</td><td style = \"text-align: right;\">0.124257</td><td style = \"text-align: right;\">0.019728</td><td style = \"text-align: right;\">0.00816506</td><td style = \"text-align: right;\">0.119867</td><td style = \"text-align: right;\">0.105806</td><td style = \"text-align: right;\">0.27008</td><td style = \"text-align: right;\">0.0312758</td><td style = \"text-align: right;\">0.018488</td><td style = \"text-align: right;\">0.00453811</td><td style = \"text-align: right;\">0.0117892</td><td style = \"text-align: right;\">0.0196313</td><td style = \"text-align: right;\">0.00300651</td><td style = \"text-align: right;\">0.0266657</td><td style = \"text-align: right;\">0.00458498</td></tr><tr><td class = \"rowNumber\" style = \"font-weight: bold; text-align: right;\">2</td><td style = \"text-align: right;\">0.169714</td><td style = \"text-align: right;\">8.00206</td><td style = \"text-align: right;\">0.463491</td><td style = \"text-align: right;\">0.127406</td><td style = \"text-align: right;\">0.243064</td><td style = \"text-align: right;\">0.809626</td><td style = \"text-align: right;\">0.178745</td><td style = \"text-align: right;\">0.862243</td><td style = \"text-align: right;\">0.364414</td><td style = \"text-align: right;\">1.12428</td><td style = \"text-align: right;\">0.00453372</td><td style = \"text-align: right;\">0.0168116</td><td style = \"text-align: right;\">0.236332</td><td style = \"text-align: right;\">0.0364236</td><td style = \"text-align: right;\">0.028808</td><td style = \"text-align: right;\">0.0393045</td><td style = \"text-align: right;\">0.225397</td><td style = \"text-align: right;\">0.355212</td><td style = \"text-align: right;\">1.12178</td><td style = \"text-align: right;\">0.0116459</td><td style = \"text-align: right;\">0.0635078</td><td style = \"text-align: right;\">0.250316</td><td style = \"text-align: right;\">0.0410726</td><td style = \"text-align: right;\">0.0165541</td><td style = \"text-align: right;\">0.231742</td><td style = \"text-align: right;\">0.218351</td><td style = \"text-align: right;\">0.522987</td><td style = \"text-align: right;\">0.0625314</td><td style = \"text-align: right;\">0.0357122</td><td style = \"text-align: right;\">0.00877479</td><td style = \"text-align: right;\">0.022733</td><td style = \"text-align: right;\">0.0408876</td><td style = \"text-align: right;\">0.0058103</td><td style = \"text-align: right;\">0.0525762</td><td style = \"text-align: right;\">0.00927924</td></tr><tr><td class = \"rowNumber\" style = \"font-weight: bold; text-align: right;\">3</td><td style = \"text-align: right;\">0.618579</td><td style = \"text-align: right;\">0.936228</td><td style = \"text-align: right;\">28.5007</td><td style = \"text-align: right;\">0.462287</td><td style = \"text-align: right;\">0.896682</td><td style = \"text-align: right;\">2.93528</td><td style = \"text-align: right;\">0.648583</td><td style = \"text-align: right;\">3.11923</td><td style = \"text-align: right;\">1.31893</td><td style = \"text-align: right;\">4.1165</td><td style = \"text-align: right;\">0.0167818</td><td style = \"text-align: right;\">0.0629427</td><td style = \"text-align: right;\">0.883695</td><td style = \"text-align: right;\">0.131759</td><td style = \"text-align: right;\">0.104349</td><td style = \"text-align: right;\">0.142386</td><td style = \"text-align: right;\">0.819273</td><td style = \"text-align: right;\">1.31836</td><td style = \"text-align: right;\">4.14995</td><td style = \"text-align: right;\">0.0425834</td><td style = \"text-align: right;\">0.235881</td><td style = \"text-align: right;\">0.911627</td><td style = \"text-align: right;\">0.153675</td><td style = \"text-align: right;\">0.0605096</td><td style = \"text-align: right;\">0.840396</td><td style = \"text-align: right;\">0.809511</td><td style = \"text-align: right;\">1.89557</td><td style = \"text-align: right;\">0.226979</td><td style = \"text-align: right;\">0.12955</td><td style = \"text-align: right;\">0.0318889</td><td style = \"text-align: right;\">0.0825267</td><td style = \"text-align: right;\">0.153052</td><td style = \"text-align: right;\">0.0210736</td><td style = \"text-align: right;\">0.19023</td><td style = \"text-align: right;\">0.0338809</td></tr><tr><td class = \"rowNumber\" style = \"font-weight: bold; text-align: right;\">4</td><td style = \"text-align: right;\">0.0476475</td><td style = \"text-align: right;\">0.0694537</td><td style = \"text-align: right;\">0.128734</td><td style = \"text-align: right;\">2.30706</td><td style = \"text-align: right;\">0.0669539</td><td style = \"text-align: right;\">0.239728</td><td style = \"text-align: right;\">0.0531403</td><td style = \"text-align: right;\">0.249456</td><td style = \"text-align: right;\">0.106748</td><td style = \"text-align: right;\">0.313021</td><td style = \"text-align: right;\">0.00124375</td><td style = \"text-align: right;\">0.00455759</td><td style = \"text-align: right;\">0.0641471</td><td style = \"text-align: right;\">0.01058</td><td style = \"text-align: right;\">0.00848801</td><td style = \"text-align: right;\">0.0115885</td><td style = \"text-align: right;\">0.0682111</td><td style = \"text-align: right;\">0.0971526</td><td style = \"text-align: right;\">0.307945</td><td style = \"text-align: right;\">0.00324984</td><td style = \"text-align: right;\">0.0173558</td><td style = \"text-align: right;\">0.0703986</td><td style = \"text-align: right;\">0.0111416</td><td style = \"text-align: right;\">0.00462225</td><td style = \"text-align: right;\">0.0687073</td><td style = \"text-align: right;\">0.0597935</td><td style = \"text-align: right;\">0.154644</td><td style = \"text-align: right;\">0.0177393</td><td style = \"text-align: right;\">0.0106045</td><td style = \"text-align: right;\">0.002656</td><td style = \"text-align: right;\">0.00677315</td><td style = \"text-align: right;\">0.0110867</td><td style = \"text-align: right;\">0.00172383</td><td style = \"text-align: right;\">0.0151664</td><td style = \"text-align: right;\">0.00259611</td></tr><tr><td class = \"rowNumber\" style = \"font-weight: bold; text-align: right;\">5</td><td style = \"text-align: right;\">0.185124</td><td style = \"text-align: right;\">0.289261</td><td style = \"text-align: right;\">0.517272</td><td style = \"text-align: right;\">0.135388</td><td style = \"text-align: right;\">8.48069</td><td style = \"text-align: right;\">0.770976</td><td style = \"text-align: right;\">0.168032</td><td style = \"text-align: right;\">0.876241</td><td style = \"text-align: right;\">0.358193</td><td style = \"text-align: right;\">1.24843</td><td style = \"text-align: right;\">0.00518802</td><td style = \"text-align: right;\">0.0196819</td><td style = \"text-align: right;\">0.276048</td><td style = \"text-align: right;\">0.0366311</td><td style = \"text-align: right;\">0.0278461</td><td style = \"text-align: right;\">0.0379156</td><td style = \"text-align: right;\">0.196003</td><td style = \"text-align: right;\">0.408886</td><td style = \"text-align: right;\">1.28198</td><td style = \"text-align: right;\">0.0128701</td><td style = \"text-align: right;\">0.0732178</td><td style = \"text-align: right;\">0.27201</td><td style = \"text-align: right;\">0.0480291</td><td style = \"text-align: right;\">0.018271</td><td style = \"text-align: right;\">0.219783</td><td style = \"text-align: right;\">0.250745</td><td style = \"text-align: right;\">0.500124</td><td style = \"text-align: right;\">0.0666411</td><td style = \"text-align: right;\">0.0337015</td><td style = \"text-align: right;\">0.00761419</td><td style = \"text-align: right;\">0.0212159</td><td style = \"text-align: right;\">0.047851</td><td style = \"text-align: right;\">0.00549847</td><td style = \"text-align: right;\">0.053829</td><td style = \"text-align: right;\">0.0101982</td></tr><tr><td class = \"rowNumber\" style = \"font-weight: bold; text-align: right;\">6</td><td style = \"text-align: right;\">2.07513</td><td style = \"text-align: right;\">3.03234</td><td style = \"text-align: right;\">5.61327</td><td style = \"text-align: right;\">1.57402</td><td style = \"text-align: right;\">2.92207</td><td style = \"text-align: right;\">91.5259</td><td style = \"text-align: right;\">2.29797</td><td style = \"text-align: right;\">10.8264</td><td style = \"text-align: right;\">4.62561</td><td style = \"text-align: right;\">13.6452</td><td style = \"text-align: right;\">0.054305</td><td style = \"text-align: right;\">0.19925</td><td style = \"text-align: right;\">2.80404</td><td style = \"text-align: right;\">0.458949</td><td style = \"text-align: right;\">0.367517</td><td style = \"text-align: right;\">0.501719</td><td style = \"text-align: right;\">2.94184</td><td style = \"text-align: right;\">4.2433</td><td style = \"text-align: right;\">13.4446</td><td style = \"text-align: right;\">0.141631</td><td style = \"text-align: right;\">0.758111</td><td style = \"text-align: right;\">3.06539</td><td style = \"text-align: right;\">0.48706</td><td style = \"text-align: right;\">0.201429</td><td style = \"text-align: right;\">2.97233</td><td style = \"text-align: right;\">2.61124</td><td style = \"text-align: right;\">6.69253</td><td style = \"text-align: right;\">0.771673</td><td style = \"text-align: right;\">0.458655</td><td style = \"text-align: right;\">0.114551</td><td style = \"text-align: right;\">0.2928</td><td style = \"text-align: right;\">0.484682</td><td style = \"text-align: right;\">0.0745667</td><td style = \"text-align: right;\">0.658458</td><td style = \"text-align: right;\">0.113109</td></tr><tr><td class = \"rowNumber\" style = \"font-weight: bold; text-align: right;\">7</td><td style = \"text-align: right;\">0.0979195</td><td style = \"text-align: right;\">0.143942</td><td style = \"text-align: right;\">0.26566</td><td style = \"text-align: right;\">0.0740119</td><td style = \"text-align: right;\">0.138586</td><td style = \"text-align: right;\">0.479456</td><td style = \"text-align: right;\">4.67565</td><td style = \"text-align: right;\">0.505802</td><td style = \"text-align: right;\">0.214976</td><td style = \"text-align: right;\">0.645374</td><td style = \"text-align: right;\">0.00257812</td><td style = \"text-align: right;\">0.00948534</td><td style = \"text-align: right;\">0.13345</td><td style = \"text-align: right;\">0.0214076</td><td style = \"text-align: right;\">0.0170325</td><td style = \"text-align: right;\">0.023244</td><td style = \"text-align: right;\">0.133278</td><td style = \"text-align: right;\">0.201595</td><td style = \"text-align: right;\">0.63818</td><td style = \"text-align: right;\">0.00669456</td><td style = \"text-align: right;\">0.0360239</td><td style = \"text-align: right;\">0.144574</td><td style = \"text-align: right;\">0.0231833</td><td style = \"text-align: right;\">0.0095195</td><td style = \"text-align: right;\">0.137288</td><td style = \"text-align: right;\">0.124021</td><td style = \"text-align: right;\">0.309581</td><td style = \"text-align: right;\">0.0362993</td><td style = \"text-align: right;\">0.0211652</td><td style = \"text-align: right;\">0.00518673</td><td style = \"text-align: right;\">0.013483</td><td style = \"text-align: right;\">0.0230723</td><td style = \"text-align: right;\">0.00344275</td><td style = \"text-align: right;\">0.0307969</td><td style = \"text-align: right;\">0.00534256</td></tr><tr><td class = \"rowNumber\" style = \"font-weight: bold; text-align: right;\">8</td><td style = \"text-align: right;\">2.20951</td><td style = \"text-align: right;\">3.22953</td><td style = \"text-align: right;\">5.97789</td><td style = \"text-align: right;\">1.67534</td><td style = \"text-align: right;\">3.11207</td><td style = \"text-align: right;\">11.001</td><td style = \"text-align: right;\">2.43542</td><td style = \"text-align: right;\">96.8258</td><td style = \"text-align: right;\">4.91286</td><td style = \"text-align: right;\">14.5311</td><td style = \"text-align: right;\">0.0578362</td><td style = \"text-align: right;\">0.212192</td><td style = \"text-align: right;\">2.98621</td><td style = \"text-align: right;\">0.487844</td><td style = \"text-align: right;\">0.390063</td><td style = \"text-align: right;\">0.532449</td><td style = \"text-align: right;\">3.09486</td><td style = \"text-align: right;\">4.5192</td><td style = \"text-align: right;\">14.3189</td><td style = \"text-align: right;\">0.150822</td><td style = \"text-align: right;\">0.8074</td><td style = \"text-align: right;\">3.26376</td><td style = \"text-align: right;\">0.518699</td><td style = \"text-align: right;\">0.214498</td><td style = \"text-align: right;\">3.15169</td><td style = \"text-align: right;\">2.78103</td><td style = \"text-align: right;\">7.09944</td><td style = \"text-align: right;\">0.821387</td><td style = \"text-align: right;\">0.486197</td><td style = \"text-align: right;\">0.12047</td><td style = \"text-align: right;\">0.310175</td><td style = \"text-align: right;\">0.516164</td><td style = \"text-align: right;\">0.0790568</td><td style = \"text-align: right;\">0.700278</td><td style = \"text-align: right;\">0.120443</td></tr><tr><td class = \"rowNumber\" style = \"font-weight: bold; text-align: right;\">9</td><td style = \"text-align: right;\">0.381251</td><td style = \"text-align: right;\">0.553807</td><td style = \"text-align: right;\">1.02834</td><td style = \"text-align: right;\">0.290116</td><td style = \"text-align: right;\">0.53416</td><td style = \"text-align: right;\">1.93761</td><td style = \"text-align: right;\">0.429968</td><td style = \"text-align: right;\">2.00628</td><td style = \"text-align: right;\">17.9378</td><td style = \"text-align: right;\">2.50137</td><td style = \"text-align: right;\">0.00991657</td><td style = \"text-align: right;\">0.0362748</td><td style = \"text-align: right;\">0.510651</td><td style = \"text-align: right;\">0.0851564</td><td style = \"text-align: right;\">0.0685229</td><td style = \"text-align: right;\">0.0935679</td><td style = \"text-align: right;\">0.556706</td><td style = \"text-align: right;\">0.774264</td><td style = \"text-align: right;\">2.45553</td><td style = \"text-align: right;\">0.0259788</td><td style = \"text-align: right;\">0.138302</td><td style = \"text-align: right;\">0.563451</td><td style = \"text-align: right;\">0.0886862</td><td style = \"text-align: right;\">0.0369531</td><td style = \"text-align: right;\">0.555513</td><td style = \"text-align: right;\">0.476615</td><td style = \"text-align: right;\">1.24949</td><td style = \"text-align: right;\">0.142181</td><td style = \"text-align: right;\">0.0857749</td><td style = \"text-align: right;\">0.0216845</td><td style = \"text-align: right;\">0.0548371</td><td style = \"text-align: right;\">0.0882438</td><td style = \"text-align: right;\">0.01394</td><td style = \"text-align: right;\">0.121912</td><td style = \"text-align: right;\">0.0207614</td></tr><tr><td class = \"rowNumber\" style = \"font-weight: bold; text-align: right;\">10</td><td style = \"text-align: right;\">3.20874</td><td style = \"text-align: right;\">4.68429</td><td style = \"text-align: right;\">8.67512</td><td style = \"text-align: right;\">2.4356</td><td style = \"text-align: right;\">4.51449</td><td style = \"text-align: right;\">16.1143</td><td style = \"text-align: right;\">3.57195</td><td style = \"text-align: right;\">16.7766</td><td style = \"text-align: right;\">7.17668</td><td style = \"text-align: right;\">136.694</td><td style = \"text-align: right;\">0.0838876</td><td style = \"text-align: right;\">0.307698</td><td style = \"text-align: right;\">4.33033</td><td style = \"text-align: right;\">0.71145</td><td style = \"text-align: right;\">0.570589</td><td style = \"text-align: right;\">0.779009</td><td style = \"text-align: right;\">4.58908</td><td style = \"text-align: right;\">6.55425</td><td style = \"text-align: right;\">20.7691</td><td style = \"text-align: right;\">0.218934</td><td style = \"text-align: right;\">1.17096</td><td style = \"text-align: right;\">4.74041</td><td style = \"text-align: right;\">0.752166</td><td style = \"text-align: right;\">0.311378</td><td style = \"text-align: right;\">4.61839</td><td style = \"text-align: right;\">4.03349</td><td style = \"text-align: right;\">10.3951</td><td style = \"text-align: right;\">1.19397</td><td style = \"text-align: right;\">0.712809</td><td style = \"text-align: right;\">0.178703</td><td style = \"text-align: right;\">0.455275</td><td style = \"text-align: right;\">0.748487</td><td style = \"text-align: right;\">0.115872</td><td style = \"text-align: right;\">1.02008</td><td style = \"text-align: right;\">0.174866</td></tr><tr><td class = \"rowNumber\" style = \"font-weight: bold; text-align: right;\">11</td><td style = \"text-align: right;\">5.69651e-5</td><td style = \"text-align: right;\">8.39776e-5</td><td style = \"text-align: right;\">0.000154773</td><td style = \"text-align: right;\">4.29779e-5</td><td style = \"text-align: right;\">8.08208e-5</td><td style = \"text-align: right;\">0.000275442</td><td style = \"text-align: right;\">6.07674e-5</td><td style = \"text-align: right;\">0.000292642</td><td style = \"text-align: right;\">0.00012397</td><td style = \"text-align: right;\">0.000375879</td><td style = \"text-align: right;\">0.0027699</td><td style = \"text-align: right;\">5.54088e-6</td><td style = \"text-align: right;\">7.79462e-5</td><td style = \"text-align: right;\">1.23738e-5</td><td style = \"text-align: right;\">9.80338e-6</td><td style = \"text-align: right;\">1.33753e-5</td><td style = \"text-align: right;\">7.51582e-5</td><td style = \"text-align: right;\">0.000117658</td><td style = \"text-align: right;\">0.000372316</td><td style = \"text-align: right;\">3.89788e-6</td><td style = \"text-align: right;\">2.10265e-5</td><td style = \"text-align: right;\">8.40854e-5</td><td style = \"text-align: right;\">1.35418e-5</td><td style = \"text-align: right;\">5.54225e-6</td><td style = \"text-align: right;\">7.88271e-5</td><td style = \"text-align: right;\">7.23737e-5</td><td style = \"text-align: right;\">0.000177948</td><td style = \"text-align: right;\">2.10831e-5</td><td style = \"text-align: right;\">1.21442e-5</td><td style = \"text-align: right;\">2.92295e-6</td><td style = \"text-align: right;\">7.72363e-6</td><td style = \"text-align: right;\">1.34775e-5</td><td style = \"text-align: right;\">1.97615e-6</td><td style = \"text-align: right;\">1.783e-5</td><td style = \"text-align: right;\">3.10959e-6</td></tr><tr><td class = \"rowNumber\" style = \"font-weight: bold; text-align: right;\">12</td><td style = \"text-align: right;\">0.000741265</td><td style = \"text-align: right;\">0.0010741</td><td style = \"text-align: right;\">0.00199697</td><td style = \"text-align: right;\">0.000564867</td><td style = \"text-align: right;\">0.00103638</td><td style = \"text-align: right;\">0.00379749</td><td style = \"text-align: right;\">0.000843458</td><td style = \"text-align: right;\">0.00391611</td><td style = \"text-align: right;\">0.0016833</td><td style = \"text-align: right;\">0.00485879</td><td style = \"text-align: right;\">1.9232e-5</td><td style = \"text-align: right;\">0.0365602</td><td style = \"text-align: right;\">0.00098928</td><td style = \"text-align: right;\">0.00016632</td><td style = \"text-align: right;\">0.000134162</td><td style = \"text-align: right;\">0.000183222</td><td style = \"text-align: right;\">0.00110036</td><td style = \"text-align: right;\">0.00150112</td><td style = \"text-align: right;\">0.00476254</td><td style = \"text-align: right;\">5.04754e-5</td><td style = \"text-align: right;\">0.000268115</td><td style = \"text-align: right;\">0.00109574</td><td style = \"text-align: right;\">0.000171801</td><td style = \"text-align: right;\">7.18028e-5</td><td style = \"text-align: right;\">0.00108905</td><td style = \"text-align: right;\">0.000924166</td><td style = \"text-align: right;\">0.00244814</td><td style = \"text-align: right;\">0.000276788</td><td style = \"text-align: right;\">0.000168216</td><td style = \"text-align: right;\">4.28735e-5</td><td style = \"text-align: right;\">0.000107631</td><td style = \"text-align: right;\">0.000170937</td><td style = \"text-align: right;\">2.73328e-5</td><td style = \"text-align: right;\">0.00023786</td><td style = \"text-align: right;\">4.03501e-5</td></tr><tr><td class = \"rowNumber\" style = \"font-weight: bold; text-align: right;\">13</td><td style = \"text-align: right;\">0.148977</td><td style = \"text-align: right;\">0.218774</td><td style = \"text-align: right;\">0.403989</td><td style = \"text-align: right;\">0.112659</td><td style = \"text-align: right;\">0.210669</td><td style = \"text-align: right;\">0.730493</td><td style = \"text-align: right;\">0.161427</td><td style = \"text-align: right;\">0.770425</td><td style = \"text-align: right;\">0.327538</td><td style = \"text-align: right;\">0.981527</td><td style = \"text-align: right;\">0.00391834</td><td style = \"text-align: right;\">0.0144083</td><td style = \"text-align: right;\">7.07207</td><td style = \"text-align: right;\">0.0326111</td><td style = \"text-align: right;\">0.0259518</td><td style = \"text-align: right;\">0.0354159</td><td style = \"text-align: right;\">0.201841</td><td style = \"text-align: right;\">0.30635</td><td style = \"text-align: right;\">0.969963</td><td style = \"text-align: right;\">0.0101826</td><td style = \"text-align: right;\">0.054741</td><td style = \"text-align: right;\">0.219975</td><td style = \"text-align: right;\">0.0352167</td><td style = \"text-align: right;\">0.0144797</td><td style = \"text-align: right;\">0.209163</td><td style = \"text-align: right;\">0.188477</td><td style = \"text-align: right;\">0.471685</td><td style = \"text-align: right;\">0.0552508</td><td style = \"text-align: right;\">0.0322444</td><td style = \"text-align: right;\">0.00785106</td><td style = \"text-align: right;\">0.0205375</td><td style = \"text-align: right;\">0.0350474</td><td style = \"text-align: right;\">0.00524507</td><td style = \"text-align: right;\">0.0469047</td><td style = \"text-align: right;\">0.00812706</td></tr><tr><td style = \"text-align: right;\">&vellip;</td><td style = \"text-align: right;\">&vellip;</td><td style = \"text-align: right;\">&vellip;</td><td style = \"text-align: right;\">&vellip;</td><td style = \"text-align: right;\">&vellip;</td><td style = \"text-align: right;\">&vellip;</td><td style = \"text-align: right;\">&vellip;</td><td style = \"text-align: right;\">&vellip;</td><td style = \"text-align: right;\">&vellip;</td><td style = \"text-align: right;\">&vellip;</td><td style = \"text-align: right;\">&vellip;</td><td style = \"text-align: right;\">&vellip;</td><td style = \"text-align: right;\">&vellip;</td><td style = \"text-align: right;\">&vellip;</td><td style = \"text-align: right;\">&vellip;</td><td style = \"text-align: right;\">&vellip;</td><td style = \"text-align: right;\">&vellip;</td><td style = \"text-align: right;\">&vellip;</td><td style = \"text-align: right;\">&vellip;</td><td style = \"text-align: right;\">&vellip;</td><td style = \"text-align: right;\">&vellip;</td><td style = \"text-align: right;\">&vellip;</td><td style = \"text-align: right;\">&vellip;</td><td style = \"text-align: right;\">&vellip;</td><td style = \"text-align: right;\">&vellip;</td><td style = \"text-align: right;\">&vellip;</td><td style = \"text-align: right;\">&vellip;</td><td style = \"text-align: right;\">&vellip;</td><td style = \"text-align: right;\">&vellip;</td><td style = \"text-align: right;\">&vellip;</td><td style = \"text-align: right;\">&vellip;</td><td style = \"text-align: right;\">&vellip;</td><td style = \"text-align: right;\">&vellip;</td><td style = \"text-align: right;\">&vellip;</td><td style = \"text-align: right;\">&vellip;</td><td style = \"text-align: right;\">&vellip;</td></tr><tr><td class = \"rowNumber\" style = \"font-weight: bold; text-align: right;\">24</td><td style = \"text-align: right;\">0.000788397</td><td style = \"text-align: right;\">0.00123555</td><td style = \"text-align: right;\">0.00220457</td><td style = \"text-align: right;\">0.000577071</td><td style = \"text-align: right;\">0.00117748</td><td style = \"text-align: right;\">0.00336884</td><td style = \"text-align: right;\">0.000738169</td><td style = \"text-align: right;\">0.00375665</td><td style = \"text-align: right;\">0.00154819</td><td style = \"text-align: right;\">0.00531922</td><td style = \"text-align: right;\">2.21629e-5</td><td style = \"text-align: right;\">8.43741e-5</td><td style = \"text-align: right;\">0.0011829</td><td style = \"text-align: right;\">0.00015739</td><td style = \"text-align: right;\">0.000121004</td><td style = \"text-align: right;\">0.000164877</td><td style = \"text-align: right;\">0.000899165</td><td style = \"text-align: right;\">0.0017481</td><td style = \"text-align: right;\">0.00547564</td><td style = \"text-align: right;\">5.48245e-5</td><td style = \"text-align: right;\">0.000313095</td><td style = \"text-align: right;\">0.00115844</td><td style = \"text-align: right;\">0.000205852</td><td style = \"text-align: right;\">0.0375807</td><td style = \"text-align: right;\">0.000961929</td><td style = \"text-align: right;\">0.00107165</td><td style = \"text-align: right;\">0.00218177</td><td style = \"text-align: right;\">0.000283996</td><td style = \"text-align: right;\">0.000147806</td><td style = \"text-align: right;\">3.49786e-5</td><td style = \"text-align: right;\">9.35054e-5</td><td style = \"text-align: right;\">0.000205118</td><td style = \"text-align: right;\">2.40868e-5</td><td style = \"text-align: right;\">0.000230463</td><td style = \"text-align: right;\">4.34358e-5</td></tr><tr><td class = \"rowNumber\" style = \"font-weight: bold; text-align: right;\">25</td><td style = \"text-align: right;\">0.164322</td><td style = \"text-align: right;\">0.238985</td><td style = \"text-align: right;\">0.443489</td><td style = \"text-align: right;\">0.124953</td><td style = \"text-align: right;\">0.230466</td><td style = \"text-align: right;\">0.831557</td><td style = \"text-align: right;\">0.18443</td><td style = \"text-align: right;\">0.862977</td><td style = \"text-align: right;\">0.369799</td><td style = \"text-align: right;\">1.07862</td><td style = \"text-align: right;\">0.00427942</td><td style = \"text-align: right;\">0.0156631</td><td style = \"text-align: right;\">0.220481</td><td style = \"text-align: right;\">0.0366169</td><td style = \"text-align: right;\">0.0294246</td><td style = \"text-align: right;\">0.0401763</td><td style = \"text-align: right;\">0.237642</td><td style = \"text-align: right;\">0.334178</td><td style = \"text-align: right;\">1.05963</td><td style = \"text-align: right;\">0.0112009</td><td style = \"text-align: right;\">0.0596945</td><td style = \"text-align: right;\">0.242827</td><td style = \"text-align: right;\">0.0382927</td><td style = \"text-align: right;\">0.015932</td><td style = \"text-align: right;\">7.85395</td><td style = \"text-align: right;\">0.205698</td><td style = \"text-align: right;\">0.536327</td><td style = \"text-align: right;\">0.0612423</td><td style = \"text-align: right;\">0.0367982</td><td style = \"text-align: right;\">0.00925457</td><td style = \"text-align: right;\">0.0235143</td><td style = \"text-align: right;\">0.0381024</td><td style = \"text-align: right;\">0.00598109</td><td style = \"text-align: right;\">0.0524506</td><td style = \"text-align: right;\">0.0089501</td></tr><tr><td class = \"rowNumber\" style = \"font-weight: bold; text-align: right;\">26</td><td style = \"text-align: right;\">0.124978</td><td style = \"text-align: right;\">0.182845</td><td style = \"text-align: right;\">0.338226</td><td style = \"text-align: right;\">0.0947681</td><td style = \"text-align: right;\">0.176154</td><td style = \"text-align: right;\">0.624894</td><td style = \"text-align: right;\">0.138463</td><td style = \"text-align: right;\">0.651799</td><td style = \"text-align: right;\">0.278554</td><td style = \"text-align: right;\">0.82209</td><td style = \"text-align: right;\">0.00327461</td><td style = \"text-align: right;\">0.0120262</td><td style = \"text-align: right;\">0.169226</td><td style = \"text-align: right;\">0.0276323</td><td style = \"text-align: right;\">0.0221363</td><td style = \"text-align: right;\">0.0302203</td><td style = \"text-align: right;\">0.177178</td><td style = \"text-align: right;\">0.255929</td><td style = \"text-align: right;\">0.81068</td><td style = \"text-align: right;\">0.00853202</td><td style = \"text-align: right;\">0.0457273</td><td style = \"text-align: right;\">0.184606</td><td style = \"text-align: right;\">0.029396</td><td style = \"text-align: right;\">0.012134</td><td style = \"text-align: right;\">0.179075</td><td style = \"text-align: right;\">5.98254</td><td style = \"text-align: right;\">0.403161</td><td style = \"text-align: right;\">0.0464617</td><td style = \"text-align: right;\">0.0276346</td><td style = \"text-align: right;\">0.00689795</td><td style = \"text-align: right;\">0.0176443</td><td style = \"text-align: right;\">0.0292536</td><td style = \"text-align: right;\">0.00449258</td><td style = \"text-align: right;\">0.039641</td><td style = \"text-align: right;\">0.00681305</td></tr><tr><td class = \"rowNumber\" style = \"font-weight: bold; text-align: right;\">27</td><td style = \"text-align: right;\">0.859218</td><td style = \"text-align: right;\">1.25962</td><td style = \"text-align: right;\">2.32799</td><td style = \"text-align: right;\">0.650436</td><td style = \"text-align: right;\">1.21325</td><td style = \"text-align: right;\">4.24167</td><td style = \"text-align: right;\">0.938191</td><td style = \"text-align: right;\">4.45702</td><td style = \"text-align: right;\">1.89817</td><td style = \"text-align: right;\">5.6571</td><td style = \"text-align: right;\">0.0225595</td><td style = \"text-align: right;\">0.0828917</td><td style = \"text-align: right;\">1.16637</td><td style = \"text-align: right;\">0.188758</td><td style = \"text-align: right;\">0.150546</td><td style = \"text-align: right;\">0.205473</td><td style = \"text-align: right;\">1.1828</td><td style = \"text-align: right;\">1.76343</td><td style = \"text-align: right;\">5.58474</td><td style = \"text-align: right;\">0.0586983</td><td style = \"text-align: right;\">0.315087</td><td style = \"text-align: right;\">1.26888</td><td style = \"text-align: right;\">0.202611</td><td style = \"text-align: right;\">0.0834737</td><td style = \"text-align: right;\">1.21486</td><td style = \"text-align: right;\">1.08501</td><td style = \"text-align: right;\">39.3008</td><td style = \"text-align: right;\">0.318953</td><td style = \"text-align: right;\">0.187347</td><td style = \"text-align: right;\">0.0460219</td><td style = \"text-align: right;\">0.119426</td><td style = \"text-align: right;\">0.201632</td><td style = \"text-align: right;\">0.030469</td><td style = \"text-align: right;\">0.271254</td><td style = \"text-align: right;\">0.0468589</td></tr><tr><td class = \"rowNumber\" style = \"font-weight: bold; text-align: right;\">28</td><td style = \"text-align: right;\">0.0116688</td><td style = \"text-align: right;\">0.0169522</td><td style = \"text-align: right;\">0.0314759</td><td style = \"text-align: right;\">0.00887885</td><td style = \"text-align: right;\">0.0163505</td><td style = \"text-align: right;\">0.0592814</td><td style = \"text-align: right;\">0.0131545</td><td style = \"text-align: right;\">0.0613936</td><td style = \"text-align: right;\">0.0263342</td><td style = \"text-align: right;\">0.0765622</td><td style = \"text-align: right;\">0.00030355</td><td style = \"text-align: right;\">0.00111044</td><td style = \"text-align: right;\">0.015632</td><td style = \"text-align: right;\">0.00260576</td><td style = \"text-align: right;\">0.00209655</td><td style = \"text-align: right;\">0.00286282</td><td style = \"text-align: right;\">0.0170337</td><td style = \"text-align: right;\">0.0237008</td><td style = \"text-align: right;\">0.0751645</td><td style = \"text-align: right;\">0.000795151</td><td style = \"text-align: right;\">0.00423355</td><td style = \"text-align: right;\">0.0172452</td><td style = \"text-align: right;\">0.00271486</td><td style = \"text-align: right;\">0.00113105</td><td style = \"text-align: right;\">0.0169959</td><td style = \"text-align: right;\">0.0145895</td><td style = \"text-align: right;\">0.0382286</td><td style = \"text-align: right;\">0.570956</td><td style = \"text-align: right;\">0.00262424</td><td style = \"text-align: right;\">0.000663504</td><td style = \"text-align: right;\">0.00167767</td><td style = \"text-align: right;\">0.00270132</td><td style = \"text-align: right;\">0.000426491</td><td style = \"text-align: right;\">0.00373065</td><td style = \"text-align: right;\">0.000635449</td></tr><tr><td class = \"rowNumber\" style = \"font-weight: bold; text-align: right;\">29</td><td style = \"text-align: right;\">0.00351611</td><td style = \"text-align: right;\">0.00522328</td><td style = \"text-align: right;\">0.00958656</td><td style = \"text-align: right;\">0.00264383</td><td style = \"text-align: right;\">0.00502044</td><td style = \"text-align: right;\">0.0168468</td><td style = \"text-align: right;\">0.00371866</td><td style = \"text-align: right;\">0.0179275</td><td style = \"text-align: right;\">0.0075824</td><td style = \"text-align: right;\">0.0232629</td><td style = \"text-align: right;\">9.35765e-5</td><td style = \"text-align: right;\">0.000346249</td><td style = \"text-align: right;\">0.00486855</td><td style = \"text-align: right;\">0.000757537</td><td style = \"text-align: right;\">0.00059948</td><td style = \"text-align: right;\">0.000817905</td><td style = \"text-align: right;\">0.00467066</td><td style = \"text-align: right;\">0.0073277</td><td style = \"text-align: right;\">0.0231563</td><td style = \"text-align: right;\">0.000241057</td><td style = \"text-align: right;\">0.00130992</td><td style = \"text-align: right;\">0.00518734</td><td style = \"text-align: right;\">0.000846022</td><td style = \"text-align: right;\">0.000342682</td><td style = \"text-align: right;\">0.00482191</td><td style = \"text-align: right;\">0.00450537</td><td style = \"text-align: right;\">0.0108827</td><td style = \"text-align: right;\">0.00129739</td><td style = \"text-align: right;\">0.170304</td><td style = \"text-align: right;\">0.000181809</td><td style = \"text-align: right;\">0.000472865</td><td style = \"text-align: right;\">0.000842144</td><td style = \"text-align: right;\">0.000120892</td><td style = \"text-align: right;\">0.00109287</td><td style = \"text-align: right;\">0.000192146</td></tr><tr><td class = \"rowNumber\" style = \"font-weight: bold; text-align: right;\">30</td><td style = \"text-align: right;\">0.000236569</td><td style = \"text-align: right;\">0.000343721</td><td style = \"text-align: right;\">0.000638167</td><td style = \"text-align: right;\">0.000179993</td><td style = \"text-align: right;\">0.000331517</td><td style = \"text-align: right;\">0.00120127</td><td style = \"text-align: right;\">0.000266546</td><td style = \"text-align: right;\">0.0012444</td><td style = \"text-align: right;\">0.000533707</td><td style = \"text-align: right;\">0.00155226</td><td style = \"text-align: right;\">6.15477e-6</td><td style = \"text-align: right;\">2.25164e-5</td><td style = \"text-align: right;\">0.000316967</td><td style = \"text-align: right;\">5.28148e-5</td><td style = \"text-align: right;\">4.24872e-5</td><td style = \"text-align: right;\">5.80153e-5</td><td style = \"text-align: right;\">0.000345027</td><td style = \"text-align: right;\">0.000480564</td><td style = \"text-align: right;\">0.00152403</td><td style = \"text-align: right;\">1.61211e-5</td><td style = \"text-align: right;\">8.58408e-5</td><td style = \"text-align: right;\">0.000349618</td><td style = \"text-align: right;\">5.50489e-5</td><td style = \"text-align: right;\">2.29311e-5</td><td style = \"text-align: right;\">0.000344396</td><td style = \"text-align: right;\">0.000295818</td><td style = \"text-align: right;\">0.000774677</td><td style = \"text-align: right;\">8.8213e-5</td><td style = \"text-align: right;\">5.31751e-5</td><td style = \"text-align: right;\">0.0116485</td><td style = \"text-align: right;\">3.39929e-5</td><td style = \"text-align: right;\">5.47744e-5</td><td style = \"text-align: right;\">8.64213e-6</td><td style = \"text-align: right;\">7.56193e-5</td><td style = \"text-align: right;\">1.28831e-5</td></tr><tr><td class = \"rowNumber\" style = \"font-weight: bold; text-align: right;\">31</td><td style = \"text-align: right;\">0.00148241</td><td style = \"text-align: right;\">0.00221098</td><td style = \"text-align: right;\">0.00404998</td><td style = \"text-align: right;\">0.00111182</td><td style = \"text-align: right;\">0.00212393</td><td style = \"text-align: right;\">0.00698705</td><td style = \"text-align: right;\">0.001539</td><td style = \"text-align: right;\">0.00750206</td><td style = \"text-align: right;\">0.00315948</td><td style = \"text-align: right;\">0.00982345</td><td style = \"text-align: right;\">3.96136e-5</td><td style = \"text-align: right;\">0.000146827</td><td style = \"text-align: right;\">0.00206417</td><td style = \"text-align: right;\">0.0003166</td><td style = \"text-align: right;\">0.0002492</td><td style = \"text-align: right;\">0.000339896</td><td style = \"text-align: right;\">0.00189757</td><td style = \"text-align: right;\">0.00310344</td><td style = \"text-align: right;\">0.0098017</td><td style = \"text-align: right;\">0.000101751</td><td style = \"text-align: right;\">0.000554844</td><td style = \"text-align: right;\">0.00218622</td><td style = \"text-align: right;\">0.000358725</td><td style = \"text-align: right;\">0.000144631</td><td style = \"text-align: right;\">0.00199853</td><td style = \"text-align: right;\">0.00190777</td><td style = \"text-align: right;\">0.00451652</td><td style = \"text-align: right;\">0.000545755</td><td style = \"text-align: right;\">0.000307704</td><td style = \"text-align: right;\">7.38093e-5</td><td style = \"text-align: right;\">0.0715914</td><td style = \"text-align: right;\">0.000357101</td><td style = \"text-align: right;\">5.00882e-5</td><td style = \"text-align: right;\">0.000457733</td><td style = \"text-align: right;\">8.10652e-5</td></tr><tr><td class = \"rowNumber\" style = \"font-weight: bold; text-align: right;\">32</td><td style = \"text-align: right;\">0.0045265</td><td style = \"text-align: right;\">0.00666569</td><td style = \"text-align: right;\">0.0122878</td><td style = \"text-align: right;\">0.00342116</td><td style = \"text-align: right;\">0.00641506</td><td style = \"text-align: right;\">0.0223213</td><td style = \"text-align: right;\">0.00494171</td><td style = \"text-align: right;\">0.023414</td><td style = \"text-align: right;\">0.00997486</td><td style = \"text-align: right;\">0.0298458</td><td style = \"text-align: right;\">0.000119396</td><td style = \"text-align: right;\">0.000440021</td><td style = \"text-align: right;\">0.0061895</td><td style = \"text-align: right;\">0.000991584</td><td style = \"text-align: right;\">0.000791591</td><td style = \"text-align: right;\">0.00108051</td><td style = \"text-align: right;\">0.00631461</td><td style = \"text-align: right;\">0.00933969</td><td style = \"text-align: right;\">0.0295524</td><td style = \"text-align: right;\">0.000309552</td><td style = \"text-align: right;\">0.00166913</td><td style = \"text-align: right;\">0.00668288</td><td style = \"text-align: right;\">0.00107536</td><td style = \"text-align: right;\">0.00044016</td><td style = \"text-align: right;\">0.00639479</td><td style = \"text-align: right;\">0.00574486</td><td style = \"text-align: right;\">0.0144053</td><td style = \"text-align: right;\">0.00167787</td><td style = \"text-align: right;\">0.000986511</td><td style = \"text-align: right;\">0.000245884</td><td style = \"text-align: right;\">0.000629445</td><td style = \"text-align: right;\">0.220727</td><td style = \"text-align: right;\">0.000160407</td><td style = \"text-align: right;\">0.00142508</td><td style = \"text-align: right;\">0.000247003</td></tr><tr><td class = \"rowNumber\" style = \"font-weight: bold; text-align: right;\">33</td><td style = \"text-align: right;\">0.000112524</td><td style = \"text-align: right;\">0.000163048</td><td style = \"text-align: right;\">0.00030314</td><td style = \"text-align: right;\">8.57469e-5</td><td style = \"text-align: right;\">0.000157323</td><td style = \"text-align: right;\">0.000576459</td><td style = \"text-align: right;\">0.000128037</td><td style = \"text-align: right;\">0.000594466</td><td style = \"text-align: right;\">0.000255525</td><td style = \"text-align: right;\">0.000737566</td><td style = \"text-align: right;\">2.91942e-6</td><td style = \"text-align: right;\">1.06665e-5</td><td style = \"text-align: right;\">0.000150173</td><td style = \"text-align: right;\">2.52474e-5</td><td style = \"text-align: right;\">2.03658e-5</td><td style = \"text-align: right;\">2.78132e-5</td><td style = \"text-align: right;\">0.000167035</td><td style = \"text-align: right;\">0.000227871</td><td style = \"text-align: right;\">0.000722954</td><td style = \"text-align: right;\">7.66217e-6</td><td style = \"text-align: right;\">4.06999e-5</td><td style = \"text-align: right;\">0.000166333</td><td style = \"text-align: right;\">2.60794e-5</td><td style = \"text-align: right;\">1.08997e-5</td><td style = \"text-align: right;\">0.000165318</td><td style = \"text-align: right;\">0.000140289</td><td style = \"text-align: right;\">0.000371628</td><td style = \"text-align: right;\">4.20165e-5</td><td style = \"text-align: right;\">2.55352e-5</td><td style = \"text-align: right;\">6.5082e-6</td><td style = \"text-align: right;\">1.63384e-5</td><td style = \"text-align: right;\">2.59482e-5</td><td style = \"text-align: right;\">0.00555637</td><td style = \"text-align: right;\">3.61072e-5</td><td style = \"text-align: right;\">6.12515e-6</td></tr><tr><td class = \"rowNumber\" style = \"font-weight: bold; text-align: right;\">34</td><td style = \"text-align: right;\">0.00862733</td><td style = \"text-align: right;\">0.0126666</td><td style = \"text-align: right;\">0.0233956</td><td style = \"text-align: right;\">0.00652171</td><td style = \"text-align: right;\">0.0121985</td><td style = \"text-align: right;\">0.0419295</td><td style = \"text-align: right;\">0.0092433</td><td style = \"text-align: right;\">0.044522</td><td style = \"text-align: right;\">0.0188789</td><td style = \"text-align: right;\">0.0568428</td><td style = \"text-align: right;\">0.00022686</td><td style = \"text-align: right;\">0.000833821</td><td style = \"text-align: right;\">0.0117324</td><td style = \"text-align: right;\">0.00188331</td><td style = \"text-align: right;\">0.00149293</td><td style = \"text-align: right;\">0.00203683</td><td style = \"text-align: right;\">0.0110384</td><td style = \"text-align: right;\">0.017735</td><td style = \"text-align: right;\">0.0561591</td><td style = \"text-align: right;\">0.000589702</td><td style = \"text-align: right;\">0.00316894</td><td style = \"text-align: right;\">0.0127385</td><td style = \"text-align: right;\">0.00203808</td><td style = \"text-align: right;\">0.000838563</td><td style = \"text-align: right;\">0.0119972</td><td style = \"text-align: right;\">0.0109117</td><td style = \"text-align: right;\">0.0270928</td><td style = \"text-align: right;\">0.00319862</td><td style = \"text-align: right;\">0.00184776</td><td style = \"text-align: right;\">0.000427833</td><td style = \"text-align: right;\">0.00117406</td><td style = \"text-align: right;\">0.00202824</td><td style = \"text-align: right;\">0.000300727</td><td style = \"text-align: right;\">0.416788</td><td style = \"text-align: right;\">0.000470658</td></tr><tr><td class = \"rowNumber\" style = \"font-weight: bold; text-align: right;\">35</td><td style = \"text-align: right;\">0.000243175</td><td style = \"text-align: right;\">0.000363167</td><td style = \"text-align: right;\">0.000664975</td><td style = \"text-align: right;\">0.000182059</td><td style = \"text-align: right;\">0.000348849</td><td style = \"text-align: right;\">0.00112238</td><td style = \"text-align: right;\">0.000246199</td><td style = \"text-align: right;\">0.00122216</td><td style = \"text-align: right;\">0.000511633</td><td style = \"text-align: right;\">0.00161269</td><td style = \"text-align: right;\">6.50679e-6</td><td style = \"text-align: right;\">2.41131e-5</td><td style = \"text-align: right;\">0.000339009</td><td style = \"text-align: right;\">5.14924e-5</td><td style = \"text-align: right;\">4.01966e-5</td><td style = \"text-align: right;\">5.47978e-5</td><td style = \"text-align: right;\">0.0002902</td><td style = \"text-align: right;\">0.000509762</td><td style = \"text-align: right;\">0.00160999</td><td style = \"text-align: right;\">1.67012e-5</td><td style = \"text-align: right;\">9.11367e-5</td><td style = \"text-align: right;\">0.000358555</td><td style = \"text-align: right;\">5.89141e-5</td><td style = \"text-align: right;\">2.37383e-5</td><td style = \"text-align: right;\">0.000320639</td><td style = \"text-align: right;\">0.000313366</td><td style = \"text-align: right;\">0.000726417</td><td style = \"text-align: right;\">8.93881e-5</td><td style = \"text-align: right;\">4.92887e-5</td><td style = \"text-align: right;\">1.12662e-5</td><td style = \"text-align: right;\">3.11856e-5</td><td style = \"text-align: right;\">5.86466e-5</td><td style = \"text-align: right;\">8.0305e-6</td><td style = \"text-align: right;\">7.46486e-5</td><td style = \"text-align: right;\">0.0116753</td></tr></tbody></table></div>"
      ],
      "text/latex": [
       "\\begin{tabular}{r|cccccccc}\n",
       "\t& x1 & x2 & x3 & x4 & x5 & x6 & x7 & \\\\\n",
       "\t\\hline\n",
       "\t& Float64 & Float64 & Float64 & Float64 & Float64 & Float64 & Float64 & \\\\\n",
       "\t\\hline\n",
       "\t1 & 4.03737 & 0.122878 & 0.227525 & 0.0637926 & 0.118422 & 0.418453 & 0.0925948 & $\\dots$ \\\\\n",
       "\t2 & 0.169714 & 8.00206 & 0.463491 & 0.127406 & 0.243064 & 0.809626 & 0.178745 & $\\dots$ \\\\\n",
       "\t3 & 0.618579 & 0.936228 & 28.5007 & 0.462287 & 0.896682 & 2.93528 & 0.648583 & $\\dots$ \\\\\n",
       "\t4 & 0.0476475 & 0.0694537 & 0.128734 & 2.30706 & 0.0669539 & 0.239728 & 0.0531403 & $\\dots$ \\\\\n",
       "\t5 & 0.185124 & 0.289261 & 0.517272 & 0.135388 & 8.48069 & 0.770976 & 0.168032 & $\\dots$ \\\\\n",
       "\t6 & 2.07513 & 3.03234 & 5.61327 & 1.57402 & 2.92207 & 91.5259 & 2.29797 & $\\dots$ \\\\\n",
       "\t7 & 0.0979195 & 0.143942 & 0.26566 & 0.0740119 & 0.138586 & 0.479456 & 4.67565 & $\\dots$ \\\\\n",
       "\t8 & 2.20951 & 3.22953 & 5.97789 & 1.67534 & 3.11207 & 11.001 & 2.43542 & $\\dots$ \\\\\n",
       "\t9 & 0.381251 & 0.553807 & 1.02834 & 0.290116 & 0.53416 & 1.93761 & 0.429968 & $\\dots$ \\\\\n",
       "\t10 & 3.20874 & 4.68429 & 8.67512 & 2.4356 & 4.51449 & 16.1143 & 3.57195 & $\\dots$ \\\\\n",
       "\t11 & 5.69651e-5 & 8.39776e-5 & 0.000154773 & 4.29779e-5 & 8.08208e-5 & 0.000275442 & 6.07674e-5 & $\\dots$ \\\\\n",
       "\t12 & 0.000741265 & 0.0010741 & 0.00199697 & 0.000564867 & 0.00103638 & 0.00379749 & 0.000843458 & $\\dots$ \\\\\n",
       "\t13 & 0.148977 & 0.218774 & 0.403989 & 0.112659 & 0.210669 & 0.730493 & 0.161427 & $\\dots$ \\\\\n",
       "\t14 & 0.00416155 & 0.00606575 & 0.0112433 & 0.00316092 & 0.00584748 & 0.0209568 & 0.00464668 & $\\dots$ \\\\\n",
       "\t15 & 0.0024542 & 0.00363066 & 0.00667997 & 0.0018474 & 0.00349246 & 0.0116705 & 0.0025678 & $\\dots$ \\\\\n",
       "\t16 & 0.00509148 & 0.0073776 & 0.0137165 & 0.00387987 & 0.00711853 & 0.0260836 & 0.00579341 & $\\dots$ \\\\\n",
       "\t17 & 0.174788 & 0.254946 & 0.472414 & 0.132685 & 0.245752 & 0.875583 & 0.193955 & $\\dots$ \\\\\n",
       "\t18 & 0.332656 & 0.49737 & 0.909206 & 0.249786 & 0.477413 & 1.60199 & 0.354192 & $\\dots$ \\\\\n",
       "\t19 & 3.27372 & 4.87501 & 8.93116 & 2.46262 & 4.68255 & 15.854 & 3.50516 & $\\dots$ \\\\\n",
       "\t20 & 0.000375215 & 0.000550084 & 0.00101672 & 0.000283942 & 0.000529855 & 0.00184157 & 0.00040678 & $\\dots$ \\\\\n",
       "\t21 & 0.0112818 & 0.016751 & 0.0307581 & 0.0084794 & 0.0161034 & 0.053578 & 0.0118037 & $\\dots$ \\\\\n",
       "\t22 & 0.171886 & 0.252146 & 0.465877 & 0.130052 & 0.242846 & 0.844803 & 0.186722 & $\\dots$ \\\\\n",
       "\t23 & 0.0043533 & 0.00651559 & 0.0119102 & 0.00326197 & 0.00625483 & 0.0206149 & 0.00454972 & $\\dots$ \\\\\n",
       "\t24 & 0.000788397 & 0.00123555 & 0.00220457 & 0.000577071 & 0.00117748 & 0.00336884 & 0.000738169 & $\\dots$ \\\\\n",
       "\t25 & 0.164322 & 0.238985 & 0.443489 & 0.124953 & 0.230466 & 0.831557 & 0.18443 & $\\dots$ \\\\\n",
       "\t26 & 0.124978 & 0.182845 & 0.338226 & 0.0947681 & 0.176154 & 0.624894 & 0.138463 & $\\dots$ \\\\\n",
       "\t27 & 0.859218 & 1.25962 & 2.32799 & 0.650436 & 1.21325 & 4.24167 & 0.938191 & $\\dots$ \\\\\n",
       "\t28 & 0.0116688 & 0.0169522 & 0.0314759 & 0.00887885 & 0.0163505 & 0.0592814 & 0.0131545 & $\\dots$ \\\\\n",
       "\t29 & 0.00351611 & 0.00522328 & 0.00958656 & 0.00264383 & 0.00502044 & 0.0168468 & 0.00371866 & $\\dots$ \\\\\n",
       "\t30 & 0.000236569 & 0.000343721 & 0.000638167 & 0.000179993 & 0.000331517 & 0.00120127 & 0.000266546 & $\\dots$ \\\\\n",
       "\t$\\dots$ & $\\dots$ & $\\dots$ & $\\dots$ & $\\dots$ & $\\dots$ & $\\dots$ & $\\dots$ &  \\\\\n",
       "\\end{tabular}\n"
      ],
      "text/plain": [
       "\u001b[1m35×35 DataFrame\u001b[0m\n",
       "\u001b[1m Row \u001b[0m│\u001b[1m x1          \u001b[0m\u001b[1m x2          \u001b[0m\u001b[1m x3           \u001b[0m\u001b[1m x4          \u001b[0m\u001b[1m x5          \u001b[0m\u001b[1m x6   \u001b[0m ⋯\n",
       "     │\u001b[90m Float64     \u001b[0m\u001b[90m Float64     \u001b[0m\u001b[90m Float64      \u001b[0m\u001b[90m Float64     \u001b[0m\u001b[90m Float64     \u001b[0m\u001b[90m Float\u001b[0m ⋯\n",
       "─────┼──────────────────────────────────────────────────────────────────────────\n",
       "   1 │ 4.03737      0.122878      0.227525     0.0637926    0.118422      0.41 ⋯\n",
       "   2 │ 0.169714     8.00206       0.463491     0.127406     0.243064      0.80\n",
       "   3 │ 0.618579     0.936228     28.5007       0.462287     0.896682      2.93\n",
       "   4 │ 0.0476475    0.0694537     0.128734     2.30706      0.0669539     0.23\n",
       "   5 │ 0.185124     0.289261      0.517272     0.135388     8.48069       0.77 ⋯\n",
       "   6 │ 2.07513      3.03234       5.61327      1.57402      2.92207      91.52\n",
       "   7 │ 0.0979195    0.143942      0.26566      0.0740119    0.138586      0.47\n",
       "   8 │ 2.20951      3.22953       5.97789      1.67534      3.11207      11.00\n",
       "   9 │ 0.381251     0.553807      1.02834      0.290116     0.53416       1.93 ⋯\n",
       "  10 │ 3.20874      4.68429       8.67512      2.4356       4.51449      16.11\n",
       "  11 │ 5.69651e-5   8.39776e-5    0.000154773  4.29779e-5   8.08208e-5    0.00\n",
       "  ⋮  │      ⋮            ⋮            ⋮             ⋮            ⋮             ⋱\n",
       "  26 │ 0.124978     0.182845      0.338226     0.0947681    0.176154      0.62\n",
       "  27 │ 0.859218     1.25962       2.32799      0.650436     1.21325       4.24 ⋯\n",
       "  28 │ 0.0116688    0.0169522     0.0314759    0.00887885   0.0163505     0.05\n",
       "  29 │ 0.00351611   0.00522328    0.00958656   0.00264383   0.00502044    0.01\n",
       "  30 │ 0.000236569  0.000343721   0.000638167  0.000179993  0.000331517   0.00\n",
       "  31 │ 0.00148241   0.00221098    0.00404998   0.00111182   0.00212393    0.00 ⋯\n",
       "  32 │ 0.0045265    0.00666569    0.0122878    0.00342116   0.00641506    0.02\n",
       "  33 │ 0.000112524  0.000163048   0.00030314   8.57469e-5   0.000157323   0.00\n",
       "  34 │ 0.00862733   0.0126666     0.0233956    0.00652171   0.0121985     0.04\n",
       "  35 │ 0.000243175  0.000363167   0.000664975  0.000182059  0.000348849   0.00 ⋯\n",
       "\u001b[36m                                                  30 columns and 14 rows omitted\u001b[0m"
      ]
     },
     "execution_count": 29,
     "metadata": {},
     "output_type": "execute_result"
    }
   ],
   "source": [
    "adj_matrix_df = DataFrame(adj_matrix,:auto)"
   ]
  },
  {
   "cell_type": "code",
   "execution_count": 240,
   "id": "5cd394fe",
   "metadata": {},
   "outputs": [],
   "source": [
    "#CSV.write(\"adj_matrix_2012.csv\", adj_matrix_df)"
   ]
  },
  {
   "cell_type": "code",
   "execution_count": 241,
   "id": "878fe806",
   "metadata": {},
   "outputs": [],
   "source": [
    "#adj_matrix_df = CSV.read(\"adj_matrix_2012.csv\", DataFrame)"
   ]
  },
  {
   "cell_type": "code",
   "execution_count": 30,
   "id": "d774842d",
   "metadata": {},
   "outputs": [
    {
     "data": {
      "text/plain": [
       "Dict{Int64, String} with 35 entries:\n",
       "  5  => \"Hydrocodone Bitartrate and Acetaminophen\"\n",
       "  35 => \"DEXTROAMPHETAMINE SULFATE\"\n",
       "  20 => \"Dextroamphetamine Saccharate and Amphetamine Aspartate and Dextroamphe…\n",
       "  16 => \"Oxymorphone hydrochloride\"\n",
       "  12 => \"Methadone Hydrochloride\"\n",
       "  30 => \"FENTANYL TRANSDERMAL\"\n",
       "  28 => \"Oxycodone Hydrochloride\"\n",
       "  8  => \"Methylphenidate Hydrochloride\"\n",
       "  17 => \"FENTANYL\"\n",
       "  24 => \"Hydrocodone Bitartrate and Ibuprofen\"\n",
       "  1  => \"Morphine Sulfate\"\n",
       "  19 => \"OXYCODONE HYDROCHLORIDE\"\n",
       "  32 => \"Hydromet\"\n",
       "  22 => \"Oxycodone and Acetaminophen\"\n",
       "  6  => \"Vyvanse\"\n",
       "  23 => \"Hydrocodone Bitartrate and Homatropine Methylbromide\"\n",
       "  11 => \"Codeine sulfate\"\n",
       "  9  => \"Dextroamphetamine saccharate, amphetamine aspartate monohydrate, dextr…\n",
       "  31 => \"CONCERTA\"\n",
       "  14 => \"Ritalin\"\n",
       "  3  => \"OXYCODONE AND ACETAMINOPHEN\"\n",
       "  29 => \"Daytrana\"\n",
       "  7  => \"Focalin\"\n",
       "  25 => \"Adderall\"\n",
       "  33 => \"PERCOCET\"\n",
       "  ⋮  => ⋮"
      ]
     },
     "execution_count": 30,
     "metadata": {},
     "output_type": "execute_result"
    }
   ],
   "source": [
    "swapped_dict = Dict(value => key for (key, value) in product_dict)"
   ]
  },
  {
   "cell_type": "code",
   "execution_count": 31,
   "id": "f93c7176",
   "metadata": {},
   "outputs": [],
   "source": [
    "for (i, col) in enumerate(names(adj_matrix_df))\n",
    "    rename!(adj_matrix_df, Symbol(col) => Symbol(swapped_dict[parse(Int, col[2:end])]))\n",
    "end"
   ]
  },
  {
   "cell_type": "code",
   "execution_count": 32,
   "id": "074a342d",
   "metadata": {},
   "outputs": [
    {
     "data": {
      "text/html": [
       "<div><div style = \"float: left;\"><span>35×36 DataFrame</span></div><div style = \"float: right;\"><span style = \"font-style: italic;\">10 rows omitted</span></div><div style = \"clear: both;\"></div></div><div class = \"data-frame\" style = \"overflow-x: scroll;\"><table class = \"data-frame\" style = \"margin-bottom: 6px;\"><thead><tr class = \"header\"><th class = \"rowNumber\" style = \"font-weight: bold; text-align: right;\">Row</th><th style = \"text-align: left;\">Products</th><th style = \"text-align: left;\">Morphine Sulfate</th><th style = \"text-align: left;\">HYDROCODONE BITARTRATE AND ACETAMINOPHEN</th><th style = \"text-align: left;\">OXYCODONE AND ACETAMINOPHEN</th><th style = \"text-align: left;\">MORPHINE SULFATE</th><th style = \"text-align: left;\">Hydrocodone Bitartrate and Acetaminophen</th><th style = \"text-align: left;\">Vyvanse</th><th style = \"text-align: left;\">Focalin</th><th style = \"text-align: left;\">Methylphenidate Hydrochloride</th><th style = \"text-align: left;\">Dextroamphetamine saccharate, amphetamine aspartate monohydrate, dextroamphetamine sulfate, amphetamine sulfate</th><th style = \"text-align: left;\">Dextroamphetamine Saccharate, Amphetamine Aspartate, Dextroamphetamine Sulfate and Amphetamine Sulfate</th><th style = \"text-align: left;\">Codeine sulfate</th><th style = \"text-align: left;\">Methadone Hydrochloride</th><th style = \"text-align: left;\">METHADONE HYDROCHLORIDE</th><th style = \"text-align: left;\">Ritalin</th><th style = \"text-align: left;\">Dexmethylphenidate Hydrochloride</th><th style = \"text-align: left;\">Oxymorphone hydrochloride</th><th style = \"text-align: left;\">FENTANYL</th><th style = \"text-align: left;\">Hydromorphone Hydrochloride</th><th style = \"text-align: left;\">OXYCODONE HYDROCHLORIDE</th><th style = \"text-align: left;\">Dextroamphetamine Saccharate and Amphetamine Aspartate and Dextroamphetamine Sulfate and Amphetamine Sulfate</th><th style = \"text-align: left;\">Hydrocodone Bitartrate And Acetaminophen</th><th style = \"text-align: left;\">Oxycodone and Acetaminophen</th><th style = \"text-align: left;\">Hydrocodone Bitartrate and Homatropine Methylbromide</th><th style = \"text-align: left;\">Hydrocodone Bitartrate and Ibuprofen</th><th style = \"text-align: left;\">Adderall</th><th style = \"text-align: left;\">oxycodone hydrochloride</th><th style = \"text-align: left;\">OxyContin</th><th style = \"text-align: left;\">Oxycodone Hydrochloride</th><th style = \"text-align: left;\">Daytrana</th><th style = \"text-align: left;\">FENTANYL TRANSDERMAL</th><th style = \"text-align: left;\">CONCERTA</th><th style = \"text-align: left;\">Hydromet</th><th style = \"text-align: left;\">PERCOCET</th><th style = \"text-align: left;\">Dextroamphetamine Sulfate</th><th style = \"text-align: left;\">DEXTROAMPHETAMINE SULFATE</th></tr><tr class = \"subheader headerLastRow\"><th class = \"rowNumber\" style = \"font-weight: bold; text-align: right;\"></th><th title = \"String\" style = \"text-align: left;\">String</th><th title = \"Float64\" style = \"text-align: left;\">Float64</th><th title = \"Float64\" style = \"text-align: left;\">Float64</th><th title = \"Float64\" style = \"text-align: left;\">Float64</th><th title = \"Float64\" style = \"text-align: left;\">Float64</th><th title = \"Float64\" style = \"text-align: left;\">Float64</th><th title = \"Float64\" style = \"text-align: left;\">Float64</th><th title = \"Float64\" style = \"text-align: left;\">Float64</th><th title = \"Float64\" style = \"text-align: left;\">Float64</th><th title = \"Float64\" style = \"text-align: left;\">Float64</th><th title = \"Float64\" style = \"text-align: left;\">Float64</th><th title = \"Float64\" style = \"text-align: left;\">Float64</th><th title = \"Float64\" style = \"text-align: left;\">Float64</th><th title = \"Float64\" style = \"text-align: left;\">Float64</th><th title = \"Float64\" style = \"text-align: left;\">Float64</th><th title = \"Float64\" style = \"text-align: left;\">Float64</th><th title = \"Float64\" style = \"text-align: left;\">Float64</th><th title = \"Float64\" style = \"text-align: left;\">Float64</th><th title = \"Float64\" style = \"text-align: left;\">Float64</th><th title = \"Float64\" style = \"text-align: left;\">Float64</th><th title = \"Float64\" style = \"text-align: left;\">Float64</th><th title = \"Float64\" style = \"text-align: left;\">Float64</th><th title = \"Float64\" style = \"text-align: left;\">Float64</th><th title = \"Float64\" style = \"text-align: left;\">Float64</th><th title = \"Float64\" style = \"text-align: left;\">Float64</th><th title = \"Float64\" style = \"text-align: left;\">Float64</th><th title = \"Float64\" style = \"text-align: left;\">Float64</th><th title = \"Float64\" style = \"text-align: left;\">Float64</th><th title = \"Float64\" style = \"text-align: left;\">Float64</th><th title = \"Float64\" style = \"text-align: left;\">Float64</th><th title = \"Float64\" style = \"text-align: left;\">Float64</th><th title = \"Float64\" style = \"text-align: left;\">Float64</th><th title = \"Float64\" style = \"text-align: left;\">Float64</th><th title = \"Float64\" style = \"text-align: left;\">Float64</th><th title = \"Float64\" style = \"text-align: left;\">Float64</th><th title = \"Float64\" style = \"text-align: left;\">Float64</th></tr></thead><tbody><tr><td class = \"rowNumber\" style = \"font-weight: bold; text-align: right;\">1</td><td style = \"text-align: left;\">Morphine Sulfate</td><td style = \"text-align: right;\">4.03737</td><td style = \"text-align: right;\">0.122878</td><td style = \"text-align: right;\">0.227525</td><td style = \"text-align: right;\">0.0637926</td><td style = \"text-align: right;\">0.118422</td><td style = \"text-align: right;\">0.418453</td><td style = \"text-align: right;\">0.0925948</td><td style = \"text-align: right;\">0.438338</td><td style = \"text-align: right;\">0.187008</td><td style = \"text-align: right;\">0.553105</td><td style = \"text-align: right;\">0.00220053</td><td style = \"text-align: right;\">0.00807026</td><td style = \"text-align: right;\">0.113578</td><td style = \"text-align: right;\">0.0185747</td><td style = \"text-align: right;\">0.0148431</td><td style = \"text-align: right;\">0.0202603</td><td style = \"text-align: right;\">0.116652</td><td style = \"text-align: right;\">0.171929</td><td style = \"text-align: right;\">0.544812</td><td style = \"text-align: right;\">0.00574109</td><td style = \"text-align: right;\">0.030716</td><td style = \"text-align: right;\">0.124257</td><td style = \"text-align: right;\">0.019728</td><td style = \"text-align: right;\">0.00816506</td><td style = \"text-align: right;\">0.119867</td><td style = \"text-align: right;\">0.105806</td><td style = \"text-align: right;\">0.27008</td><td style = \"text-align: right;\">0.0312758</td><td style = \"text-align: right;\">0.018488</td><td style = \"text-align: right;\">0.00453811</td><td style = \"text-align: right;\">0.0117892</td><td style = \"text-align: right;\">0.0196313</td><td style = \"text-align: right;\">0.00300651</td><td style = \"text-align: right;\">0.0266657</td><td style = \"text-align: right;\">0.00458498</td></tr><tr><td class = \"rowNumber\" style = \"font-weight: bold; text-align: right;\">2</td><td style = \"text-align: left;\">HYDROCODONE BITARTRATE AND ACETAMINOPHEN</td><td style = \"text-align: right;\">0.169714</td><td style = \"text-align: right;\">8.00206</td><td style = \"text-align: right;\">0.463491</td><td style = \"text-align: right;\">0.127406</td><td style = \"text-align: right;\">0.243064</td><td style = \"text-align: right;\">0.809626</td><td style = \"text-align: right;\">0.178745</td><td style = \"text-align: right;\">0.862243</td><td style = \"text-align: right;\">0.364414</td><td style = \"text-align: right;\">1.12428</td><td style = \"text-align: right;\">0.00453372</td><td style = \"text-align: right;\">0.0168116</td><td style = \"text-align: right;\">0.236332</td><td style = \"text-align: right;\">0.0364236</td><td style = \"text-align: right;\">0.028808</td><td style = \"text-align: right;\">0.0393045</td><td style = \"text-align: right;\">0.225397</td><td style = \"text-align: right;\">0.355212</td><td style = \"text-align: right;\">1.12178</td><td style = \"text-align: right;\">0.0116459</td><td style = \"text-align: right;\">0.0635078</td><td style = \"text-align: right;\">0.250316</td><td style = \"text-align: right;\">0.0410726</td><td style = \"text-align: right;\">0.0165541</td><td style = \"text-align: right;\">0.231742</td><td style = \"text-align: right;\">0.218351</td><td style = \"text-align: right;\">0.522987</td><td style = \"text-align: right;\">0.0625314</td><td style = \"text-align: right;\">0.0357122</td><td style = \"text-align: right;\">0.00877479</td><td style = \"text-align: right;\">0.022733</td><td style = \"text-align: right;\">0.0408876</td><td style = \"text-align: right;\">0.0058103</td><td style = \"text-align: right;\">0.0525762</td><td style = \"text-align: right;\">0.00927924</td></tr><tr><td class = \"rowNumber\" style = \"font-weight: bold; text-align: right;\">3</td><td style = \"text-align: left;\">OXYCODONE AND ACETAMINOPHEN</td><td style = \"text-align: right;\">0.618579</td><td style = \"text-align: right;\">0.936228</td><td style = \"text-align: right;\">28.5007</td><td style = \"text-align: right;\">0.462287</td><td style = \"text-align: right;\">0.896682</td><td style = \"text-align: right;\">2.93528</td><td style = \"text-align: right;\">0.648583</td><td style = \"text-align: right;\">3.11923</td><td style = \"text-align: right;\">1.31893</td><td style = \"text-align: right;\">4.1165</td><td style = \"text-align: right;\">0.0167818</td><td style = \"text-align: right;\">0.0629427</td><td style = \"text-align: right;\">0.883695</td><td style = \"text-align: right;\">0.131759</td><td style = \"text-align: right;\">0.104349</td><td style = \"text-align: right;\">0.142386</td><td style = \"text-align: right;\">0.819273</td><td style = \"text-align: right;\">1.31836</td><td style = \"text-align: right;\">4.14995</td><td style = \"text-align: right;\">0.0425834</td><td style = \"text-align: right;\">0.235881</td><td style = \"text-align: right;\">0.911627</td><td style = \"text-align: right;\">0.153675</td><td style = \"text-align: right;\">0.0605096</td><td style = \"text-align: right;\">0.840396</td><td style = \"text-align: right;\">0.809511</td><td style = \"text-align: right;\">1.89557</td><td style = \"text-align: right;\">0.226979</td><td style = \"text-align: right;\">0.12955</td><td style = \"text-align: right;\">0.0318889</td><td style = \"text-align: right;\">0.0825267</td><td style = \"text-align: right;\">0.153052</td><td style = \"text-align: right;\">0.0210736</td><td style = \"text-align: right;\">0.19023</td><td style = \"text-align: right;\">0.0338809</td></tr><tr><td class = \"rowNumber\" style = \"font-weight: bold; text-align: right;\">4</td><td style = \"text-align: left;\">MORPHINE SULFATE</td><td style = \"text-align: right;\">0.0476475</td><td style = \"text-align: right;\">0.0694537</td><td style = \"text-align: right;\">0.128734</td><td style = \"text-align: right;\">2.30706</td><td style = \"text-align: right;\">0.0669539</td><td style = \"text-align: right;\">0.239728</td><td style = \"text-align: right;\">0.0531403</td><td style = \"text-align: right;\">0.249456</td><td style = \"text-align: right;\">0.106748</td><td style = \"text-align: right;\">0.313021</td><td style = \"text-align: right;\">0.00124375</td><td style = \"text-align: right;\">0.00455759</td><td style = \"text-align: right;\">0.0641471</td><td style = \"text-align: right;\">0.01058</td><td style = \"text-align: right;\">0.00848801</td><td style = \"text-align: right;\">0.0115885</td><td style = \"text-align: right;\">0.0682111</td><td style = \"text-align: right;\">0.0971526</td><td style = \"text-align: right;\">0.307945</td><td style = \"text-align: right;\">0.00324984</td><td style = \"text-align: right;\">0.0173558</td><td style = \"text-align: right;\">0.0703986</td><td style = \"text-align: right;\">0.0111416</td><td style = \"text-align: right;\">0.00462225</td><td style = \"text-align: right;\">0.0687073</td><td style = \"text-align: right;\">0.0597935</td><td style = \"text-align: right;\">0.154644</td><td style = \"text-align: right;\">0.0177393</td><td style = \"text-align: right;\">0.0106045</td><td style = \"text-align: right;\">0.002656</td><td style = \"text-align: right;\">0.00677315</td><td style = \"text-align: right;\">0.0110867</td><td style = \"text-align: right;\">0.00172383</td><td style = \"text-align: right;\">0.0151664</td><td style = \"text-align: right;\">0.00259611</td></tr><tr><td class = \"rowNumber\" style = \"font-weight: bold; text-align: right;\">5</td><td style = \"text-align: left;\">Hydrocodone Bitartrate and Acetaminophen</td><td style = \"text-align: right;\">0.185124</td><td style = \"text-align: right;\">0.289261</td><td style = \"text-align: right;\">0.517272</td><td style = \"text-align: right;\">0.135388</td><td style = \"text-align: right;\">8.48069</td><td style = \"text-align: right;\">0.770976</td><td style = \"text-align: right;\">0.168032</td><td style = \"text-align: right;\">0.876241</td><td style = \"text-align: right;\">0.358193</td><td style = \"text-align: right;\">1.24843</td><td style = \"text-align: right;\">0.00518802</td><td style = \"text-align: right;\">0.0196819</td><td style = \"text-align: right;\">0.276048</td><td style = \"text-align: right;\">0.0366311</td><td style = \"text-align: right;\">0.0278461</td><td style = \"text-align: right;\">0.0379156</td><td style = \"text-align: right;\">0.196003</td><td style = \"text-align: right;\">0.408886</td><td style = \"text-align: right;\">1.28198</td><td style = \"text-align: right;\">0.0128701</td><td style = \"text-align: right;\">0.0732178</td><td style = \"text-align: right;\">0.27201</td><td style = \"text-align: right;\">0.0480291</td><td style = \"text-align: right;\">0.018271</td><td style = \"text-align: right;\">0.219783</td><td style = \"text-align: right;\">0.250745</td><td style = \"text-align: right;\">0.500124</td><td style = \"text-align: right;\">0.0666411</td><td style = \"text-align: right;\">0.0337015</td><td style = \"text-align: right;\">0.00761419</td><td style = \"text-align: right;\">0.0212159</td><td style = \"text-align: right;\">0.047851</td><td style = \"text-align: right;\">0.00549847</td><td style = \"text-align: right;\">0.053829</td><td style = \"text-align: right;\">0.0101982</td></tr><tr><td class = \"rowNumber\" style = \"font-weight: bold; text-align: right;\">6</td><td style = \"text-align: left;\">Vyvanse</td><td style = \"text-align: right;\">2.07513</td><td style = \"text-align: right;\">3.03234</td><td style = \"text-align: right;\">5.61327</td><td style = \"text-align: right;\">1.57402</td><td style = \"text-align: right;\">2.92207</td><td style = \"text-align: right;\">91.5259</td><td style = \"text-align: right;\">2.29797</td><td style = \"text-align: right;\">10.8264</td><td style = \"text-align: right;\">4.62561</td><td style = \"text-align: right;\">13.6452</td><td style = \"text-align: right;\">0.054305</td><td style = \"text-align: right;\">0.19925</td><td style = \"text-align: right;\">2.80404</td><td style = \"text-align: right;\">0.458949</td><td style = \"text-align: right;\">0.367517</td><td style = \"text-align: right;\">0.501719</td><td style = \"text-align: right;\">2.94184</td><td style = \"text-align: right;\">4.2433</td><td style = \"text-align: right;\">13.4446</td><td style = \"text-align: right;\">0.141631</td><td style = \"text-align: right;\">0.758111</td><td style = \"text-align: right;\">3.06539</td><td style = \"text-align: right;\">0.48706</td><td style = \"text-align: right;\">0.201429</td><td style = \"text-align: right;\">2.97233</td><td style = \"text-align: right;\">2.61124</td><td style = \"text-align: right;\">6.69253</td><td style = \"text-align: right;\">0.771673</td><td style = \"text-align: right;\">0.458655</td><td style = \"text-align: right;\">0.114551</td><td style = \"text-align: right;\">0.2928</td><td style = \"text-align: right;\">0.484682</td><td style = \"text-align: right;\">0.0745667</td><td style = \"text-align: right;\">0.658458</td><td style = \"text-align: right;\">0.113109</td></tr><tr><td class = \"rowNumber\" style = \"font-weight: bold; text-align: right;\">7</td><td style = \"text-align: left;\">Focalin</td><td style = \"text-align: right;\">0.0979195</td><td style = \"text-align: right;\">0.143942</td><td style = \"text-align: right;\">0.26566</td><td style = \"text-align: right;\">0.0740119</td><td style = \"text-align: right;\">0.138586</td><td style = \"text-align: right;\">0.479456</td><td style = \"text-align: right;\">4.67565</td><td style = \"text-align: right;\">0.505802</td><td style = \"text-align: right;\">0.214976</td><td style = \"text-align: right;\">0.645374</td><td style = \"text-align: right;\">0.00257812</td><td style = \"text-align: right;\">0.00948534</td><td style = \"text-align: right;\">0.13345</td><td style = \"text-align: right;\">0.0214076</td><td style = \"text-align: right;\">0.0170325</td><td style = \"text-align: right;\">0.023244</td><td style = \"text-align: right;\">0.133278</td><td style = \"text-align: right;\">0.201595</td><td style = \"text-align: right;\">0.63818</td><td style = \"text-align: right;\">0.00669456</td><td style = \"text-align: right;\">0.0360239</td><td style = \"text-align: right;\">0.144574</td><td style = \"text-align: right;\">0.0231833</td><td style = \"text-align: right;\">0.0095195</td><td style = \"text-align: right;\">0.137288</td><td style = \"text-align: right;\">0.124021</td><td style = \"text-align: right;\">0.309581</td><td style = \"text-align: right;\">0.0362993</td><td style = \"text-align: right;\">0.0211652</td><td style = \"text-align: right;\">0.00518673</td><td style = \"text-align: right;\">0.013483</td><td style = \"text-align: right;\">0.0230723</td><td style = \"text-align: right;\">0.00344275</td><td style = \"text-align: right;\">0.0307969</td><td style = \"text-align: right;\">0.00534256</td></tr><tr><td class = \"rowNumber\" style = \"font-weight: bold; text-align: right;\">8</td><td style = \"text-align: left;\">Methylphenidate Hydrochloride</td><td style = \"text-align: right;\">2.20951</td><td style = \"text-align: right;\">3.22953</td><td style = \"text-align: right;\">5.97789</td><td style = \"text-align: right;\">1.67534</td><td style = \"text-align: right;\">3.11207</td><td style = \"text-align: right;\">11.001</td><td style = \"text-align: right;\">2.43542</td><td style = \"text-align: right;\">96.8258</td><td style = \"text-align: right;\">4.91286</td><td style = \"text-align: right;\">14.5311</td><td style = \"text-align: right;\">0.0578362</td><td style = \"text-align: right;\">0.212192</td><td style = \"text-align: right;\">2.98621</td><td style = \"text-align: right;\">0.487844</td><td style = \"text-align: right;\">0.390063</td><td style = \"text-align: right;\">0.532449</td><td style = \"text-align: right;\">3.09486</td><td style = \"text-align: right;\">4.5192</td><td style = \"text-align: right;\">14.3189</td><td style = \"text-align: right;\">0.150822</td><td style = \"text-align: right;\">0.8074</td><td style = \"text-align: right;\">3.26376</td><td style = \"text-align: right;\">0.518699</td><td style = \"text-align: right;\">0.214498</td><td style = \"text-align: right;\">3.15169</td><td style = \"text-align: right;\">2.78103</td><td style = \"text-align: right;\">7.09944</td><td style = \"text-align: right;\">0.821387</td><td style = \"text-align: right;\">0.486197</td><td style = \"text-align: right;\">0.12047</td><td style = \"text-align: right;\">0.310175</td><td style = \"text-align: right;\">0.516164</td><td style = \"text-align: right;\">0.0790568</td><td style = \"text-align: right;\">0.700278</td><td style = \"text-align: right;\">0.120443</td></tr><tr><td class = \"rowNumber\" style = \"font-weight: bold; text-align: right;\">9</td><td style = \"text-align: left;\">Dextroamphetamine saccharate, amphetamine aspartate monohydrate, dextroamphetamine sulfate, amphetamine sulfate</td><td style = \"text-align: right;\">0.381251</td><td style = \"text-align: right;\">0.553807</td><td style = \"text-align: right;\">1.02834</td><td style = \"text-align: right;\">0.290116</td><td style = \"text-align: right;\">0.53416</td><td style = \"text-align: right;\">1.93761</td><td style = \"text-align: right;\">0.429968</td><td style = \"text-align: right;\">2.00628</td><td style = \"text-align: right;\">17.9378</td><td style = \"text-align: right;\">2.50137</td><td style = \"text-align: right;\">0.00991657</td><td style = \"text-align: right;\">0.0362748</td><td style = \"text-align: right;\">0.510651</td><td style = \"text-align: right;\">0.0851564</td><td style = \"text-align: right;\">0.0685229</td><td style = \"text-align: right;\">0.0935679</td><td style = \"text-align: right;\">0.556706</td><td style = \"text-align: right;\">0.774264</td><td style = \"text-align: right;\">2.45553</td><td style = \"text-align: right;\">0.0259788</td><td style = \"text-align: right;\">0.138302</td><td style = \"text-align: right;\">0.563451</td><td style = \"text-align: right;\">0.0886862</td><td style = \"text-align: right;\">0.0369531</td><td style = \"text-align: right;\">0.555513</td><td style = \"text-align: right;\">0.476615</td><td style = \"text-align: right;\">1.24949</td><td style = \"text-align: right;\">0.142181</td><td style = \"text-align: right;\">0.0857749</td><td style = \"text-align: right;\">0.0216845</td><td style = \"text-align: right;\">0.0548371</td><td style = \"text-align: right;\">0.0882438</td><td style = \"text-align: right;\">0.01394</td><td style = \"text-align: right;\">0.121912</td><td style = \"text-align: right;\">0.0207614</td></tr><tr><td class = \"rowNumber\" style = \"font-weight: bold; text-align: right;\">10</td><td style = \"text-align: left;\">Dextroamphetamine Saccharate, Amphetamine Aspartate, Dextroamphetamine Sulfate and Amphetamine Sulfate</td><td style = \"text-align: right;\">3.20874</td><td style = \"text-align: right;\">4.68429</td><td style = \"text-align: right;\">8.67512</td><td style = \"text-align: right;\">2.4356</td><td style = \"text-align: right;\">4.51449</td><td style = \"text-align: right;\">16.1143</td><td style = \"text-align: right;\">3.57195</td><td style = \"text-align: right;\">16.7766</td><td style = \"text-align: right;\">7.17668</td><td style = \"text-align: right;\">136.694</td><td style = \"text-align: right;\">0.0838876</td><td style = \"text-align: right;\">0.307698</td><td style = \"text-align: right;\">4.33033</td><td style = \"text-align: right;\">0.71145</td><td style = \"text-align: right;\">0.570589</td><td style = \"text-align: right;\">0.779009</td><td style = \"text-align: right;\">4.58908</td><td style = \"text-align: right;\">6.55425</td><td style = \"text-align: right;\">20.7691</td><td style = \"text-align: right;\">0.218934</td><td style = \"text-align: right;\">1.17096</td><td style = \"text-align: right;\">4.74041</td><td style = \"text-align: right;\">0.752166</td><td style = \"text-align: right;\">0.311378</td><td style = \"text-align: right;\">4.61839</td><td style = \"text-align: right;\">4.03349</td><td style = \"text-align: right;\">10.3951</td><td style = \"text-align: right;\">1.19397</td><td style = \"text-align: right;\">0.712809</td><td style = \"text-align: right;\">0.178703</td><td style = \"text-align: right;\">0.455275</td><td style = \"text-align: right;\">0.748487</td><td style = \"text-align: right;\">0.115872</td><td style = \"text-align: right;\">1.02008</td><td style = \"text-align: right;\">0.174866</td></tr><tr><td class = \"rowNumber\" style = \"font-weight: bold; text-align: right;\">11</td><td style = \"text-align: left;\">Codeine sulfate</td><td style = \"text-align: right;\">5.69651e-5</td><td style = \"text-align: right;\">8.39776e-5</td><td style = \"text-align: right;\">0.000154773</td><td style = \"text-align: right;\">4.29779e-5</td><td style = \"text-align: right;\">8.08208e-5</td><td style = \"text-align: right;\">0.000275442</td><td style = \"text-align: right;\">6.07674e-5</td><td style = \"text-align: right;\">0.000292642</td><td style = \"text-align: right;\">0.00012397</td><td style = \"text-align: right;\">0.000375879</td><td style = \"text-align: right;\">0.0027699</td><td style = \"text-align: right;\">5.54088e-6</td><td style = \"text-align: right;\">7.79462e-5</td><td style = \"text-align: right;\">1.23738e-5</td><td style = \"text-align: right;\">9.80338e-6</td><td style = \"text-align: right;\">1.33753e-5</td><td style = \"text-align: right;\">7.51582e-5</td><td style = \"text-align: right;\">0.000117658</td><td style = \"text-align: right;\">0.000372316</td><td style = \"text-align: right;\">3.89788e-6</td><td style = \"text-align: right;\">2.10265e-5</td><td style = \"text-align: right;\">8.40854e-5</td><td style = \"text-align: right;\">1.35418e-5</td><td style = \"text-align: right;\">5.54225e-6</td><td style = \"text-align: right;\">7.88271e-5</td><td style = \"text-align: right;\">7.23737e-5</td><td style = \"text-align: right;\">0.000177948</td><td style = \"text-align: right;\">2.10831e-5</td><td style = \"text-align: right;\">1.21442e-5</td><td style = \"text-align: right;\">2.92295e-6</td><td style = \"text-align: right;\">7.72363e-6</td><td style = \"text-align: right;\">1.34775e-5</td><td style = \"text-align: right;\">1.97615e-6</td><td style = \"text-align: right;\">1.783e-5</td><td style = \"text-align: right;\">3.10959e-6</td></tr><tr><td class = \"rowNumber\" style = \"font-weight: bold; text-align: right;\">12</td><td style = \"text-align: left;\">Methadone Hydrochloride</td><td style = \"text-align: right;\">0.000741265</td><td style = \"text-align: right;\">0.0010741</td><td style = \"text-align: right;\">0.00199697</td><td style = \"text-align: right;\">0.000564867</td><td style = \"text-align: right;\">0.00103638</td><td style = \"text-align: right;\">0.00379749</td><td style = \"text-align: right;\">0.000843458</td><td style = \"text-align: right;\">0.00391611</td><td style = \"text-align: right;\">0.0016833</td><td style = \"text-align: right;\">0.00485879</td><td style = \"text-align: right;\">1.9232e-5</td><td style = \"text-align: right;\">0.0365602</td><td style = \"text-align: right;\">0.00098928</td><td style = \"text-align: right;\">0.00016632</td><td style = \"text-align: right;\">0.000134162</td><td style = \"text-align: right;\">0.000183222</td><td style = \"text-align: right;\">0.00110036</td><td style = \"text-align: right;\">0.00150112</td><td style = \"text-align: right;\">0.00476254</td><td style = \"text-align: right;\">5.04754e-5</td><td style = \"text-align: right;\">0.000268115</td><td style = \"text-align: right;\">0.00109574</td><td style = \"text-align: right;\">0.000171801</td><td style = \"text-align: right;\">7.18028e-5</td><td style = \"text-align: right;\">0.00108905</td><td style = \"text-align: right;\">0.000924166</td><td style = \"text-align: right;\">0.00244814</td><td style = \"text-align: right;\">0.000276788</td><td style = \"text-align: right;\">0.000168216</td><td style = \"text-align: right;\">4.28735e-5</td><td style = \"text-align: right;\">0.000107631</td><td style = \"text-align: right;\">0.000170937</td><td style = \"text-align: right;\">2.73328e-5</td><td style = \"text-align: right;\">0.00023786</td><td style = \"text-align: right;\">4.03501e-5</td></tr><tr><td class = \"rowNumber\" style = \"font-weight: bold; text-align: right;\">13</td><td style = \"text-align: left;\">METHADONE HYDROCHLORIDE</td><td style = \"text-align: right;\">0.148977</td><td style = \"text-align: right;\">0.218774</td><td style = \"text-align: right;\">0.403989</td><td style = \"text-align: right;\">0.112659</td><td style = \"text-align: right;\">0.210669</td><td style = \"text-align: right;\">0.730493</td><td style = \"text-align: right;\">0.161427</td><td style = \"text-align: right;\">0.770425</td><td style = \"text-align: right;\">0.327538</td><td style = \"text-align: right;\">0.981527</td><td style = \"text-align: right;\">0.00391834</td><td style = \"text-align: right;\">0.0144083</td><td style = \"text-align: right;\">7.07207</td><td style = \"text-align: right;\">0.0326111</td><td style = \"text-align: right;\">0.0259518</td><td style = \"text-align: right;\">0.0354159</td><td style = \"text-align: right;\">0.201841</td><td style = \"text-align: right;\">0.30635</td><td style = \"text-align: right;\">0.969963</td><td style = \"text-align: right;\">0.0101826</td><td style = \"text-align: right;\">0.054741</td><td style = \"text-align: right;\">0.219975</td><td style = \"text-align: right;\">0.0352167</td><td style = \"text-align: right;\">0.0144797</td><td style = \"text-align: right;\">0.209163</td><td style = \"text-align: right;\">0.188477</td><td style = \"text-align: right;\">0.471685</td><td style = \"text-align: right;\">0.0552508</td><td style = \"text-align: right;\">0.0322444</td><td style = \"text-align: right;\">0.00785106</td><td style = \"text-align: right;\">0.0205375</td><td style = \"text-align: right;\">0.0350474</td><td style = \"text-align: right;\">0.00524507</td><td style = \"text-align: right;\">0.0469047</td><td style = \"text-align: right;\">0.00812706</td></tr><tr><td style = \"text-align: right;\">&vellip;</td><td style = \"text-align: right;\">&vellip;</td><td style = \"text-align: right;\">&vellip;</td><td style = \"text-align: right;\">&vellip;</td><td style = \"text-align: right;\">&vellip;</td><td style = \"text-align: right;\">&vellip;</td><td style = \"text-align: right;\">&vellip;</td><td style = \"text-align: right;\">&vellip;</td><td style = \"text-align: right;\">&vellip;</td><td style = \"text-align: right;\">&vellip;</td><td style = \"text-align: right;\">&vellip;</td><td style = \"text-align: right;\">&vellip;</td><td style = \"text-align: right;\">&vellip;</td><td style = \"text-align: right;\">&vellip;</td><td style = \"text-align: right;\">&vellip;</td><td style = \"text-align: right;\">&vellip;</td><td style = \"text-align: right;\">&vellip;</td><td style = \"text-align: right;\">&vellip;</td><td style = \"text-align: right;\">&vellip;</td><td style = \"text-align: right;\">&vellip;</td><td style = \"text-align: right;\">&vellip;</td><td style = \"text-align: right;\">&vellip;</td><td style = \"text-align: right;\">&vellip;</td><td style = \"text-align: right;\">&vellip;</td><td style = \"text-align: right;\">&vellip;</td><td style = \"text-align: right;\">&vellip;</td><td style = \"text-align: right;\">&vellip;</td><td style = \"text-align: right;\">&vellip;</td><td style = \"text-align: right;\">&vellip;</td><td style = \"text-align: right;\">&vellip;</td><td style = \"text-align: right;\">&vellip;</td><td style = \"text-align: right;\">&vellip;</td><td style = \"text-align: right;\">&vellip;</td><td style = \"text-align: right;\">&vellip;</td><td style = \"text-align: right;\">&vellip;</td><td style = \"text-align: right;\">&vellip;</td><td style = \"text-align: right;\">&vellip;</td></tr><tr><td class = \"rowNumber\" style = \"font-weight: bold; text-align: right;\">24</td><td style = \"text-align: left;\">Hydrocodone Bitartrate and Ibuprofen</td><td style = \"text-align: right;\">0.000788397</td><td style = \"text-align: right;\">0.00123555</td><td style = \"text-align: right;\">0.00220457</td><td style = \"text-align: right;\">0.000577071</td><td style = \"text-align: right;\">0.00117748</td><td style = \"text-align: right;\">0.00336884</td><td style = \"text-align: right;\">0.000738169</td><td style = \"text-align: right;\">0.00375665</td><td style = \"text-align: right;\">0.00154819</td><td style = \"text-align: right;\">0.00531922</td><td style = \"text-align: right;\">2.21629e-5</td><td style = \"text-align: right;\">8.43741e-5</td><td style = \"text-align: right;\">0.0011829</td><td style = \"text-align: right;\">0.00015739</td><td style = \"text-align: right;\">0.000121004</td><td style = \"text-align: right;\">0.000164877</td><td style = \"text-align: right;\">0.000899165</td><td style = \"text-align: right;\">0.0017481</td><td style = \"text-align: right;\">0.00547564</td><td style = \"text-align: right;\">5.48245e-5</td><td style = \"text-align: right;\">0.000313095</td><td style = \"text-align: right;\">0.00115844</td><td style = \"text-align: right;\">0.000205852</td><td style = \"text-align: right;\">0.0375807</td><td style = \"text-align: right;\">0.000961929</td><td style = \"text-align: right;\">0.00107165</td><td style = \"text-align: right;\">0.00218177</td><td style = \"text-align: right;\">0.000283996</td><td style = \"text-align: right;\">0.000147806</td><td style = \"text-align: right;\">3.49786e-5</td><td style = \"text-align: right;\">9.35054e-5</td><td style = \"text-align: right;\">0.000205118</td><td style = \"text-align: right;\">2.40868e-5</td><td style = \"text-align: right;\">0.000230463</td><td style = \"text-align: right;\">4.34358e-5</td></tr><tr><td class = \"rowNumber\" style = \"font-weight: bold; text-align: right;\">25</td><td style = \"text-align: left;\">Adderall</td><td style = \"text-align: right;\">0.164322</td><td style = \"text-align: right;\">0.238985</td><td style = \"text-align: right;\">0.443489</td><td style = \"text-align: right;\">0.124953</td><td style = \"text-align: right;\">0.230466</td><td style = \"text-align: right;\">0.831557</td><td style = \"text-align: right;\">0.18443</td><td style = \"text-align: right;\">0.862977</td><td style = \"text-align: right;\">0.369799</td><td style = \"text-align: right;\">1.07862</td><td style = \"text-align: right;\">0.00427942</td><td style = \"text-align: right;\">0.0156631</td><td style = \"text-align: right;\">0.220481</td><td style = \"text-align: right;\">0.0366169</td><td style = \"text-align: right;\">0.0294246</td><td style = \"text-align: right;\">0.0401763</td><td style = \"text-align: right;\">0.237642</td><td style = \"text-align: right;\">0.334178</td><td style = \"text-align: right;\">1.05963</td><td style = \"text-align: right;\">0.0112009</td><td style = \"text-align: right;\">0.0596945</td><td style = \"text-align: right;\">0.242827</td><td style = \"text-align: right;\">0.0382927</td><td style = \"text-align: right;\">0.015932</td><td style = \"text-align: right;\">7.85395</td><td style = \"text-align: right;\">0.205698</td><td style = \"text-align: right;\">0.536327</td><td style = \"text-align: right;\">0.0612423</td><td style = \"text-align: right;\">0.0367982</td><td style = \"text-align: right;\">0.00925457</td><td style = \"text-align: right;\">0.0235143</td><td style = \"text-align: right;\">0.0381024</td><td style = \"text-align: right;\">0.00598109</td><td style = \"text-align: right;\">0.0524506</td><td style = \"text-align: right;\">0.0089501</td></tr><tr><td class = \"rowNumber\" style = \"font-weight: bold; text-align: right;\">26</td><td style = \"text-align: left;\">oxycodone hydrochloride</td><td style = \"text-align: right;\">0.124978</td><td style = \"text-align: right;\">0.182845</td><td style = \"text-align: right;\">0.338226</td><td style = \"text-align: right;\">0.0947681</td><td style = \"text-align: right;\">0.176154</td><td style = \"text-align: right;\">0.624894</td><td style = \"text-align: right;\">0.138463</td><td style = \"text-align: right;\">0.651799</td><td style = \"text-align: right;\">0.278554</td><td style = \"text-align: right;\">0.82209</td><td style = \"text-align: right;\">0.00327461</td><td style = \"text-align: right;\">0.0120262</td><td style = \"text-align: right;\">0.169226</td><td style = \"text-align: right;\">0.0276323</td><td style = \"text-align: right;\">0.0221363</td><td style = \"text-align: right;\">0.0302203</td><td style = \"text-align: right;\">0.177178</td><td style = \"text-align: right;\">0.255929</td><td style = \"text-align: right;\">0.81068</td><td style = \"text-align: right;\">0.00853202</td><td style = \"text-align: right;\">0.0457273</td><td style = \"text-align: right;\">0.184606</td><td style = \"text-align: right;\">0.029396</td><td style = \"text-align: right;\">0.012134</td><td style = \"text-align: right;\">0.179075</td><td style = \"text-align: right;\">5.98254</td><td style = \"text-align: right;\">0.403161</td><td style = \"text-align: right;\">0.0464617</td><td style = \"text-align: right;\">0.0276346</td><td style = \"text-align: right;\">0.00689795</td><td style = \"text-align: right;\">0.0176443</td><td style = \"text-align: right;\">0.0292536</td><td style = \"text-align: right;\">0.00449258</td><td style = \"text-align: right;\">0.039641</td><td style = \"text-align: right;\">0.00681305</td></tr><tr><td class = \"rowNumber\" style = \"font-weight: bold; text-align: right;\">27</td><td style = \"text-align: left;\">OxyContin</td><td style = \"text-align: right;\">0.859218</td><td style = \"text-align: right;\">1.25962</td><td style = \"text-align: right;\">2.32799</td><td style = \"text-align: right;\">0.650436</td><td style = \"text-align: right;\">1.21325</td><td style = \"text-align: right;\">4.24167</td><td style = \"text-align: right;\">0.938191</td><td style = \"text-align: right;\">4.45702</td><td style = \"text-align: right;\">1.89817</td><td style = \"text-align: right;\">5.6571</td><td style = \"text-align: right;\">0.0225595</td><td style = \"text-align: right;\">0.0828917</td><td style = \"text-align: right;\">1.16637</td><td style = \"text-align: right;\">0.188758</td><td style = \"text-align: right;\">0.150546</td><td style = \"text-align: right;\">0.205473</td><td style = \"text-align: right;\">1.1828</td><td style = \"text-align: right;\">1.76343</td><td style = \"text-align: right;\">5.58474</td><td style = \"text-align: right;\">0.0586983</td><td style = \"text-align: right;\">0.315087</td><td style = \"text-align: right;\">1.26888</td><td style = \"text-align: right;\">0.202611</td><td style = \"text-align: right;\">0.0834737</td><td style = \"text-align: right;\">1.21486</td><td style = \"text-align: right;\">1.08501</td><td style = \"text-align: right;\">39.3008</td><td style = \"text-align: right;\">0.318953</td><td style = \"text-align: right;\">0.187347</td><td style = \"text-align: right;\">0.0460219</td><td style = \"text-align: right;\">0.119426</td><td style = \"text-align: right;\">0.201632</td><td style = \"text-align: right;\">0.030469</td><td style = \"text-align: right;\">0.271254</td><td style = \"text-align: right;\">0.0468589</td></tr><tr><td class = \"rowNumber\" style = \"font-weight: bold; text-align: right;\">28</td><td style = \"text-align: left;\">Oxycodone Hydrochloride</td><td style = \"text-align: right;\">0.0116688</td><td style = \"text-align: right;\">0.0169522</td><td style = \"text-align: right;\">0.0314759</td><td style = \"text-align: right;\">0.00887885</td><td style = \"text-align: right;\">0.0163505</td><td style = \"text-align: right;\">0.0592814</td><td style = \"text-align: right;\">0.0131545</td><td style = \"text-align: right;\">0.0613936</td><td style = \"text-align: right;\">0.0263342</td><td style = \"text-align: right;\">0.0765622</td><td style = \"text-align: right;\">0.00030355</td><td style = \"text-align: right;\">0.00111044</td><td style = \"text-align: right;\">0.015632</td><td style = \"text-align: right;\">0.00260576</td><td style = \"text-align: right;\">0.00209655</td><td style = \"text-align: right;\">0.00286282</td><td style = \"text-align: right;\">0.0170337</td><td style = \"text-align: right;\">0.0237008</td><td style = \"text-align: right;\">0.0751645</td><td style = \"text-align: right;\">0.000795151</td><td style = \"text-align: right;\">0.00423355</td><td style = \"text-align: right;\">0.0172452</td><td style = \"text-align: right;\">0.00271486</td><td style = \"text-align: right;\">0.00113105</td><td style = \"text-align: right;\">0.0169959</td><td style = \"text-align: right;\">0.0145895</td><td style = \"text-align: right;\">0.0382286</td><td style = \"text-align: right;\">0.570956</td><td style = \"text-align: right;\">0.00262424</td><td style = \"text-align: right;\">0.000663504</td><td style = \"text-align: right;\">0.00167767</td><td style = \"text-align: right;\">0.00270132</td><td style = \"text-align: right;\">0.000426491</td><td style = \"text-align: right;\">0.00373065</td><td style = \"text-align: right;\">0.000635449</td></tr><tr><td class = \"rowNumber\" style = \"font-weight: bold; text-align: right;\">29</td><td style = \"text-align: left;\">Daytrana</td><td style = \"text-align: right;\">0.00351611</td><td style = \"text-align: right;\">0.00522328</td><td style = \"text-align: right;\">0.00958656</td><td style = \"text-align: right;\">0.00264383</td><td style = \"text-align: right;\">0.00502044</td><td style = \"text-align: right;\">0.0168468</td><td style = \"text-align: right;\">0.00371866</td><td style = \"text-align: right;\">0.0179275</td><td style = \"text-align: right;\">0.0075824</td><td style = \"text-align: right;\">0.0232629</td><td style = \"text-align: right;\">9.35765e-5</td><td style = \"text-align: right;\">0.000346249</td><td style = \"text-align: right;\">0.00486855</td><td style = \"text-align: right;\">0.000757537</td><td style = \"text-align: right;\">0.00059948</td><td style = \"text-align: right;\">0.000817905</td><td style = \"text-align: right;\">0.00467066</td><td style = \"text-align: right;\">0.0073277</td><td style = \"text-align: right;\">0.0231563</td><td style = \"text-align: right;\">0.000241057</td><td style = \"text-align: right;\">0.00130992</td><td style = \"text-align: right;\">0.00518734</td><td style = \"text-align: right;\">0.000846022</td><td style = \"text-align: right;\">0.000342682</td><td style = \"text-align: right;\">0.00482191</td><td style = \"text-align: right;\">0.00450537</td><td style = \"text-align: right;\">0.0108827</td><td style = \"text-align: right;\">0.00129739</td><td style = \"text-align: right;\">0.170304</td><td style = \"text-align: right;\">0.000181809</td><td style = \"text-align: right;\">0.000472865</td><td style = \"text-align: right;\">0.000842144</td><td style = \"text-align: right;\">0.000120892</td><td style = \"text-align: right;\">0.00109287</td><td style = \"text-align: right;\">0.000192146</td></tr><tr><td class = \"rowNumber\" style = \"font-weight: bold; text-align: right;\">30</td><td style = \"text-align: left;\">FENTANYL TRANSDERMAL</td><td style = \"text-align: right;\">0.000236569</td><td style = \"text-align: right;\">0.000343721</td><td style = \"text-align: right;\">0.000638167</td><td style = \"text-align: right;\">0.000179993</td><td style = \"text-align: right;\">0.000331517</td><td style = \"text-align: right;\">0.00120127</td><td style = \"text-align: right;\">0.000266546</td><td style = \"text-align: right;\">0.0012444</td><td style = \"text-align: right;\">0.000533707</td><td style = \"text-align: right;\">0.00155226</td><td style = \"text-align: right;\">6.15477e-6</td><td style = \"text-align: right;\">2.25164e-5</td><td style = \"text-align: right;\">0.000316967</td><td style = \"text-align: right;\">5.28148e-5</td><td style = \"text-align: right;\">4.24872e-5</td><td style = \"text-align: right;\">5.80153e-5</td><td style = \"text-align: right;\">0.000345027</td><td style = \"text-align: right;\">0.000480564</td><td style = \"text-align: right;\">0.00152403</td><td style = \"text-align: right;\">1.61211e-5</td><td style = \"text-align: right;\">8.58408e-5</td><td style = \"text-align: right;\">0.000349618</td><td style = \"text-align: right;\">5.50489e-5</td><td style = \"text-align: right;\">2.29311e-5</td><td style = \"text-align: right;\">0.000344396</td><td style = \"text-align: right;\">0.000295818</td><td style = \"text-align: right;\">0.000774677</td><td style = \"text-align: right;\">8.8213e-5</td><td style = \"text-align: right;\">5.31751e-5</td><td style = \"text-align: right;\">0.0116485</td><td style = \"text-align: right;\">3.39929e-5</td><td style = \"text-align: right;\">5.47744e-5</td><td style = \"text-align: right;\">8.64213e-6</td><td style = \"text-align: right;\">7.56193e-5</td><td style = \"text-align: right;\">1.28831e-5</td></tr><tr><td class = \"rowNumber\" style = \"font-weight: bold; text-align: right;\">31</td><td style = \"text-align: left;\">CONCERTA</td><td style = \"text-align: right;\">0.00148241</td><td style = \"text-align: right;\">0.00221098</td><td style = \"text-align: right;\">0.00404998</td><td style = \"text-align: right;\">0.00111182</td><td style = \"text-align: right;\">0.00212393</td><td style = \"text-align: right;\">0.00698705</td><td style = \"text-align: right;\">0.001539</td><td style = \"text-align: right;\">0.00750206</td><td style = \"text-align: right;\">0.00315948</td><td style = \"text-align: right;\">0.00982345</td><td style = \"text-align: right;\">3.96136e-5</td><td style = \"text-align: right;\">0.000146827</td><td style = \"text-align: right;\">0.00206417</td><td style = \"text-align: right;\">0.0003166</td><td style = \"text-align: right;\">0.0002492</td><td style = \"text-align: right;\">0.000339896</td><td style = \"text-align: right;\">0.00189757</td><td style = \"text-align: right;\">0.00310344</td><td style = \"text-align: right;\">0.0098017</td><td style = \"text-align: right;\">0.000101751</td><td style = \"text-align: right;\">0.000554844</td><td style = \"text-align: right;\">0.00218622</td><td style = \"text-align: right;\">0.000358725</td><td style = \"text-align: right;\">0.000144631</td><td style = \"text-align: right;\">0.00199853</td><td style = \"text-align: right;\">0.00190777</td><td style = \"text-align: right;\">0.00451652</td><td style = \"text-align: right;\">0.000545755</td><td style = \"text-align: right;\">0.000307704</td><td style = \"text-align: right;\">7.38093e-5</td><td style = \"text-align: right;\">0.0715914</td><td style = \"text-align: right;\">0.000357101</td><td style = \"text-align: right;\">5.00882e-5</td><td style = \"text-align: right;\">0.000457733</td><td style = \"text-align: right;\">8.10652e-5</td></tr><tr><td class = \"rowNumber\" style = \"font-weight: bold; text-align: right;\">32</td><td style = \"text-align: left;\">Hydromet</td><td style = \"text-align: right;\">0.0045265</td><td style = \"text-align: right;\">0.00666569</td><td style = \"text-align: right;\">0.0122878</td><td style = \"text-align: right;\">0.00342116</td><td style = \"text-align: right;\">0.00641506</td><td style = \"text-align: right;\">0.0223213</td><td style = \"text-align: right;\">0.00494171</td><td style = \"text-align: right;\">0.023414</td><td style = \"text-align: right;\">0.00997486</td><td style = \"text-align: right;\">0.0298458</td><td style = \"text-align: right;\">0.000119396</td><td style = \"text-align: right;\">0.000440021</td><td style = \"text-align: right;\">0.0061895</td><td style = \"text-align: right;\">0.000991584</td><td style = \"text-align: right;\">0.000791591</td><td style = \"text-align: right;\">0.00108051</td><td style = \"text-align: right;\">0.00631461</td><td style = \"text-align: right;\">0.00933969</td><td style = \"text-align: right;\">0.0295524</td><td style = \"text-align: right;\">0.000309552</td><td style = \"text-align: right;\">0.00166913</td><td style = \"text-align: right;\">0.00668288</td><td style = \"text-align: right;\">0.00107536</td><td style = \"text-align: right;\">0.00044016</td><td style = \"text-align: right;\">0.00639479</td><td style = \"text-align: right;\">0.00574486</td><td style = \"text-align: right;\">0.0144053</td><td style = \"text-align: right;\">0.00167787</td><td style = \"text-align: right;\">0.000986511</td><td style = \"text-align: right;\">0.000245884</td><td style = \"text-align: right;\">0.000629445</td><td style = \"text-align: right;\">0.220727</td><td style = \"text-align: right;\">0.000160407</td><td style = \"text-align: right;\">0.00142508</td><td style = \"text-align: right;\">0.000247003</td></tr><tr><td class = \"rowNumber\" style = \"font-weight: bold; text-align: right;\">33</td><td style = \"text-align: left;\">PERCOCET</td><td style = \"text-align: right;\">0.000112524</td><td style = \"text-align: right;\">0.000163048</td><td style = \"text-align: right;\">0.00030314</td><td style = \"text-align: right;\">8.57469e-5</td><td style = \"text-align: right;\">0.000157323</td><td style = \"text-align: right;\">0.000576459</td><td style = \"text-align: right;\">0.000128037</td><td style = \"text-align: right;\">0.000594466</td><td style = \"text-align: right;\">0.000255525</td><td style = \"text-align: right;\">0.000737566</td><td style = \"text-align: right;\">2.91942e-6</td><td style = \"text-align: right;\">1.06665e-5</td><td style = \"text-align: right;\">0.000150173</td><td style = \"text-align: right;\">2.52474e-5</td><td style = \"text-align: right;\">2.03658e-5</td><td style = \"text-align: right;\">2.78132e-5</td><td style = \"text-align: right;\">0.000167035</td><td style = \"text-align: right;\">0.000227871</td><td style = \"text-align: right;\">0.000722954</td><td style = \"text-align: right;\">7.66217e-6</td><td style = \"text-align: right;\">4.06999e-5</td><td style = \"text-align: right;\">0.000166333</td><td style = \"text-align: right;\">2.60794e-5</td><td style = \"text-align: right;\">1.08997e-5</td><td style = \"text-align: right;\">0.000165318</td><td style = \"text-align: right;\">0.000140289</td><td style = \"text-align: right;\">0.000371628</td><td style = \"text-align: right;\">4.20165e-5</td><td style = \"text-align: right;\">2.55352e-5</td><td style = \"text-align: right;\">6.5082e-6</td><td style = \"text-align: right;\">1.63384e-5</td><td style = \"text-align: right;\">2.59482e-5</td><td style = \"text-align: right;\">0.00555637</td><td style = \"text-align: right;\">3.61072e-5</td><td style = \"text-align: right;\">6.12515e-6</td></tr><tr><td class = \"rowNumber\" style = \"font-weight: bold; text-align: right;\">34</td><td style = \"text-align: left;\">Dextroamphetamine Sulfate</td><td style = \"text-align: right;\">0.00862733</td><td style = \"text-align: right;\">0.0126666</td><td style = \"text-align: right;\">0.0233956</td><td style = \"text-align: right;\">0.00652171</td><td style = \"text-align: right;\">0.0121985</td><td style = \"text-align: right;\">0.0419295</td><td style = \"text-align: right;\">0.0092433</td><td style = \"text-align: right;\">0.044522</td><td style = \"text-align: right;\">0.0188789</td><td style = \"text-align: right;\">0.0568428</td><td style = \"text-align: right;\">0.00022686</td><td style = \"text-align: right;\">0.000833821</td><td style = \"text-align: right;\">0.0117324</td><td style = \"text-align: right;\">0.00188331</td><td style = \"text-align: right;\">0.00149293</td><td style = \"text-align: right;\">0.00203683</td><td style = \"text-align: right;\">0.0110384</td><td style = \"text-align: right;\">0.017735</td><td style = \"text-align: right;\">0.0561591</td><td style = \"text-align: right;\">0.000589702</td><td style = \"text-align: right;\">0.00316894</td><td style = \"text-align: right;\">0.0127385</td><td style = \"text-align: right;\">0.00203808</td><td style = \"text-align: right;\">0.000838563</td><td style = \"text-align: right;\">0.0119972</td><td style = \"text-align: right;\">0.0109117</td><td style = \"text-align: right;\">0.0270928</td><td style = \"text-align: right;\">0.00319862</td><td style = \"text-align: right;\">0.00184776</td><td style = \"text-align: right;\">0.000427833</td><td style = \"text-align: right;\">0.00117406</td><td style = \"text-align: right;\">0.00202824</td><td style = \"text-align: right;\">0.000300727</td><td style = \"text-align: right;\">0.416788</td><td style = \"text-align: right;\">0.000470658</td></tr><tr><td class = \"rowNumber\" style = \"font-weight: bold; text-align: right;\">35</td><td style = \"text-align: left;\">DEXTROAMPHETAMINE SULFATE</td><td style = \"text-align: right;\">0.000243175</td><td style = \"text-align: right;\">0.000363167</td><td style = \"text-align: right;\">0.000664975</td><td style = \"text-align: right;\">0.000182059</td><td style = \"text-align: right;\">0.000348849</td><td style = \"text-align: right;\">0.00112238</td><td style = \"text-align: right;\">0.000246199</td><td style = \"text-align: right;\">0.00122216</td><td style = \"text-align: right;\">0.000511633</td><td style = \"text-align: right;\">0.00161269</td><td style = \"text-align: right;\">6.50679e-6</td><td style = \"text-align: right;\">2.41131e-5</td><td style = \"text-align: right;\">0.000339009</td><td style = \"text-align: right;\">5.14924e-5</td><td style = \"text-align: right;\">4.01966e-5</td><td style = \"text-align: right;\">5.47978e-5</td><td style = \"text-align: right;\">0.0002902</td><td style = \"text-align: right;\">0.000509762</td><td style = \"text-align: right;\">0.00160999</td><td style = \"text-align: right;\">1.67012e-5</td><td style = \"text-align: right;\">9.11367e-5</td><td style = \"text-align: right;\">0.000358555</td><td style = \"text-align: right;\">5.89141e-5</td><td style = \"text-align: right;\">2.37383e-5</td><td style = \"text-align: right;\">0.000320639</td><td style = \"text-align: right;\">0.000313366</td><td style = \"text-align: right;\">0.000726417</td><td style = \"text-align: right;\">8.93881e-5</td><td style = \"text-align: right;\">4.92887e-5</td><td style = \"text-align: right;\">1.12662e-5</td><td style = \"text-align: right;\">3.11856e-5</td><td style = \"text-align: right;\">5.86466e-5</td><td style = \"text-align: right;\">8.0305e-6</td><td style = \"text-align: right;\">7.46486e-5</td><td style = \"text-align: right;\">0.0116753</td></tr></tbody></table></div>"
      ],
      "text/latex": [
       "\\begin{tabular}{r|cc}\n",
       "\t& Products & \\\\\n",
       "\t\\hline\n",
       "\t& String & \\\\\n",
       "\t\\hline\n",
       "\t1 & Morphine Sulfate & $\\dots$ \\\\\n",
       "\t2 & HYDROCODONE BITARTRATE AND ACETAMINOPHEN & $\\dots$ \\\\\n",
       "\t3 & OXYCODONE AND ACETAMINOPHEN & $\\dots$ \\\\\n",
       "\t4 & MORPHINE SULFATE & $\\dots$ \\\\\n",
       "\t5 & Hydrocodone Bitartrate and Acetaminophen & $\\dots$ \\\\\n",
       "\t6 & Vyvanse & $\\dots$ \\\\\n",
       "\t7 & Focalin & $\\dots$ \\\\\n",
       "\t8 & Methylphenidate Hydrochloride & $\\dots$ \\\\\n",
       "\t9 & Dextroamphetamine saccharate, amphetamine aspartate monohydrate, dextroamphetamine sulfate, amphetamine sulfate & $\\dots$ \\\\\n",
       "\t10 & Dextroamphetamine Saccharate, Amphetamine Aspartate, Dextroamphetamine Sulfate and Amphetamine Sulfate & $\\dots$ \\\\\n",
       "\t11 & Codeine sulfate & $\\dots$ \\\\\n",
       "\t12 & Methadone Hydrochloride & $\\dots$ \\\\\n",
       "\t13 & METHADONE HYDROCHLORIDE & $\\dots$ \\\\\n",
       "\t14 & Ritalin & $\\dots$ \\\\\n",
       "\t15 & Dexmethylphenidate Hydrochloride & $\\dots$ \\\\\n",
       "\t16 & Oxymorphone hydrochloride & $\\dots$ \\\\\n",
       "\t17 & FENTANYL & $\\dots$ \\\\\n",
       "\t18 & Hydromorphone Hydrochloride & $\\dots$ \\\\\n",
       "\t19 & OXYCODONE HYDROCHLORIDE & $\\dots$ \\\\\n",
       "\t20 & Dextroamphetamine Saccharate and Amphetamine Aspartate and Dextroamphetamine Sulfate and Amphetamine Sulfate & $\\dots$ \\\\\n",
       "\t21 & Hydrocodone Bitartrate And Acetaminophen & $\\dots$ \\\\\n",
       "\t22 & Oxycodone and Acetaminophen & $\\dots$ \\\\\n",
       "\t23 & Hydrocodone Bitartrate and Homatropine Methylbromide & $\\dots$ \\\\\n",
       "\t24 & Hydrocodone Bitartrate and Ibuprofen & $\\dots$ \\\\\n",
       "\t25 & Adderall & $\\dots$ \\\\\n",
       "\t26 & oxycodone hydrochloride & $\\dots$ \\\\\n",
       "\t27 & OxyContin & $\\dots$ \\\\\n",
       "\t28 & Oxycodone Hydrochloride & $\\dots$ \\\\\n",
       "\t29 & Daytrana & $\\dots$ \\\\\n",
       "\t30 & FENTANYL TRANSDERMAL & $\\dots$ \\\\\n",
       "\t$\\dots$ & $\\dots$ &  \\\\\n",
       "\\end{tabular}\n"
      ],
      "text/plain": [
       "\u001b[1m35×36 DataFrame\u001b[0m\n",
       "\u001b[1m Row \u001b[0m│\u001b[1m Products                          \u001b[0m\u001b[1m Morphine Sulfate \u001b[0m\u001b[1m HYDROCODONE BITART\u001b[0m ⋯\n",
       "     │\u001b[90m String                            \u001b[0m\u001b[90m Float64          \u001b[0m\u001b[90m Float64           \u001b[0m ⋯\n",
       "─────┼──────────────────────────────────────────────────────────────────────────\n",
       "   1 │ Morphine Sulfate                        4.03737                         ⋯\n",
       "   2 │ HYDROCODONE BITARTRATE AND ACETA…       0.169714\n",
       "   3 │ OXYCODONE AND ACETAMINOPHEN             0.618579\n",
       "   4 │ MORPHINE SULFATE                        0.0476475\n",
       "   5 │ Hydrocodone Bitartrate and Aceta…       0.185124                        ⋯\n",
       "   6 │ Vyvanse                                 2.07513\n",
       "   7 │ Focalin                                 0.0979195\n",
       "   8 │ Methylphenidate Hydrochloride           2.20951\n",
       "   9 │ Dextroamphetamine saccharate, am…       0.381251                        ⋯\n",
       "  10 │ Dextroamphetamine Saccharate, Am…       3.20874\n",
       "  11 │ Codeine sulfate                         5.69651e-5\n",
       "  ⋮  │                 ⋮                         ⋮                             ⋱\n",
       "  26 │ oxycodone hydrochloride                 0.124978\n",
       "  27 │ OxyContin                               0.859218                        ⋯\n",
       "  28 │ Oxycodone Hydrochloride                 0.0116688\n",
       "  29 │ Daytrana                                0.00351611\n",
       "  30 │ FENTANYL TRANSDERMAL                    0.000236569\n",
       "  31 │ CONCERTA                                0.00148241                      ⋯\n",
       "  32 │ Hydromet                                0.0045265\n",
       "  33 │ PERCOCET                                0.000112524\n",
       "  34 │ Dextroamphetamine Sulfate               0.00862733\n",
       "  35 │ DEXTROAMPHETAMINE SULFATE               0.000243175                     ⋯\n",
       "\u001b[36m                                                  34 columns and 14 rows omitted\u001b[0m"
      ]
     },
     "execution_count": 32,
     "metadata": {},
     "output_type": "execute_result"
    }
   ],
   "source": [
    "insertcols!(adj_matrix_df, 1, :Products => names(adj_matrix_df))"
   ]
  },
  {
   "cell_type": "code",
   "execution_count": 33,
   "id": "b146c374",
   "metadata": {},
   "outputs": [
    {
     "data": {
      "text/plain": [
       "\"adj_matrix_2014.csv\""
      ]
     },
     "execution_count": 33,
     "metadata": {},
     "output_type": "execute_result"
    }
   ],
   "source": [
    "CSV.write(\"adj_matrix_2014.csv\", adj_matrix_df)"
   ]
  },
  {
   "cell_type": "code",
   "execution_count": null,
   "id": "a10442b5",
   "metadata": {},
   "outputs": [],
   "source": []
  }
 ],
 "metadata": {
  "kernelspec": {
   "display_name": "Julia 1.9.1",
   "language": "julia",
   "name": "julia-1.9"
  },
  "language_info": {
   "file_extension": ".jl",
   "mimetype": "application/julia",
   "name": "julia",
   "version": "1.9.1"
  }
 },
 "nbformat": 4,
 "nbformat_minor": 5
}
