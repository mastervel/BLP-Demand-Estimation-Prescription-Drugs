{
 "cells": [
  {
   "cell_type": "code",
   "execution_count": 1,
   "id": "86d0dec8",
   "metadata": {},
   "outputs": [],
   "source": [
    "using CSV, LinearAlgebra, Statistics, DataFrames, Optim, ForwardDiff, Distributed, FixedEffectModels, Random\n",
    "cd(\"C:\\\\Users\\\\Veli\\\\Downloads\\\\Code\\\\data\\\\clean\")"
   ]
  },
  {
   "cell_type": "code",
   "execution_count": 2,
   "id": "51a4491d",
   "metadata": {},
   "outputs": [
    {
     "name": "stdout",
     "output_type": "stream",
     "text": [
      "Julia Version 1.9.1\n",
      "Commit 147bdf428c (2023-06-07 08:27 UTC)\n",
      "Platform Info:\n",
      "  OS: Windows (x86_64-w64-mingw32)\n",
      "  CPU: 8 × Intel(R) Core(TM) i7-4770 CPU @ 3.40GHz\n",
      "  WORD_SIZE: 64\n",
      "  LIBM: libopenlibm\n",
      "  LLVM: libLLVM-14.0.6 (ORCJIT, haswell)\n",
      "  Threads: 5 on 8 virtual cores\n",
      "Environment:\n",
      "  JULIA_NUM_THREADS = 4\n"
     ]
    }
   ],
   "source": [
    "versioninfo()"
   ]
  },
  {
   "cell_type": "code",
   "execution_count": 3,
   "id": "5f03ba3b",
   "metadata": {},
   "outputs": [],
   "source": [
    "ENV[\"COLUMNS\"] = 10000\n",
    "ENV[\"LINES\"] = 10000\n",
    "ENV[\"LIMIT\"] = 10000;"
   ]
  },
  {
   "cell_type": "code",
   "execution_count": 45,
   "id": "38e243b0",
   "metadata": {},
   "outputs": [],
   "source": [
    "data = CSV.read(\"NH_MA_data_2020.csv\", DataFrame)\n",
    "df = data[data.DEASCHEDULE .== \"CII\",:]\n",
    "\n",
    "filter!(row -> row.QTY > 0, df)\n",
    "filter!(row -> row.AGE != \"90+\", df)\n",
    "df.AGE = string.(df.AGE)\n",
    "df.AGE = parse.(Int, df.AGE)\n",
    "filter!(row -> row.NH_COUNTY_CODE != 999, df)\n",
    "filter!(row -> row.MEMBER_COUNTY != 999, df)\n",
    "filter!(row -> row.PROPRIETARYNAME != \"ENDOCET\", df)\n",
    "filter!(row -> row.SV_STAT == \"P\", df)\n",
    "filter!(row -> row.AMT_BILLED != 0.0, df)\n",
    "\n",
    "df.PRICE = df.AMT_BILLED ./ df.QTY\n",
    "prices = collect(df.PRICE)\n",
    "product_ids = unique(df.PROPRIETARYNAME[1:length(prices)])\n",
    "product_dict = Dict{String, Int64}()\n",
    "\n",
    "for (index, value) in enumerate(product_ids)\n",
    "    product_dict[value] = index\n",
    "end\n",
    "\n",
    "df.product_id = map(x -> product_dict[x], df.PROPRIETARYNAME);"
   ]
  },
  {
   "cell_type": "code",
   "execution_count": 46,
   "id": "d45404f9",
   "metadata": {},
   "outputs": [],
   "source": [
    "prod_id_grped = groupby(df, :product_id);"
   ]
  },
  {
   "cell_type": "code",
   "execution_count": 47,
   "id": "24782ae4",
   "metadata": {},
   "outputs": [
    {
     "name": "stdout",
     "output_type": "stream",
     "text": [
      "Product 27 has 4 claims.\n",
      "Product 33 has 8 claims.\n",
      "Product 38 has 9 claims.\n",
      "Product 40 has 1 claims.\n",
      "Product 46 has 1 claims.\n",
      "Product 49 has 7 claims.\n",
      "Product 51 has 8 claims.\n",
      "Product 52 has 2 claims.\n",
      "Product 55 has 6 claims.\n",
      "Product 57 has 1 claims.\n",
      "Product 58 has 3 claims.\n",
      "Product 59 has 2 claims.\n",
      "Product 61 has 1 claims.\n",
      "Product 62 has 4 claims.\n",
      "Product 63 has 8 claims.\n",
      "Product 64 has 5 claims.\n",
      "Product 65 has 1 claims.\n"
     ]
    }
   ],
   "source": [
    "product_ids_to_drop = []\n",
    "for i in 1:length(prod_id_grped)\n",
    "    length = size(prod_id_grped[i],1)\n",
    "    product = prod_id_grped[i].product_id[1]\n",
    "    if length <= 10 \n",
    "        println(\"Product \", product, \" has \", length, \" claims.\")\n",
    "        push!(product_ids_to_drop, product)\n",
    "    end\n",
    "end"
   ]
  },
  {
   "cell_type": "code",
   "execution_count": 48,
   "id": "9d9fe851",
   "metadata": {},
   "outputs": [],
   "source": [
    "filter!(row -> !(row.product_id in product_ids_to_drop), df);"
   ]
  },
  {
   "cell_type": "code",
   "execution_count": 49,
   "id": "9748d86e",
   "metadata": {},
   "outputs": [],
   "source": [
    "avg_price_df = combine(groupby(df, :product_id), :PRICE => mean => :AVG_PRICE)\n",
    "avg_price_dict = Dict(zip(avg_price_df.product_id, avg_price_df.AVG_PRICE))\n",
    "df.OTHER_PRICES = zeros(size(df,1));"
   ]
  },
  {
   "cell_type": "code",
   "execution_count": 50,
   "id": "6d3ef470",
   "metadata": {},
   "outputs": [],
   "source": [
    "other_prices_list = []\n",
    "for row in eachrow(df)\n",
    "    new_dict = copy(avg_price_dict)\n",
    "    new_dict[row.product_id] = row.PRICE\n",
    "    price_vector = []\n",
    "    for (prod_id,price) in enumerate(new_dict)\n",
    "        push!(price_vector, price[2])\n",
    "    end\n",
    "    push!(other_prices_list, price_vector)\n",
    "end"
   ]
  },
  {
   "cell_type": "code",
   "execution_count": 51,
   "id": "82e258bb",
   "metadata": {},
   "outputs": [],
   "source": [
    "prices = collect(df.PRICE)\n",
    "df.COINS_PERCENT = df.AMT_COINS ./ df.AMT_BILLED\n",
    "coinsurance = collect(df.COINS_PERCENT)\n",
    "df.FLAT_PAY = (df.AMT_COPAY + df.AMT_DEDUCT) ./ df.QTY\n",
    "copay = collect(df.FLAT_PAY);"
   ]
  },
  {
   "cell_type": "code",
   "execution_count": 11,
   "id": "12ec7c4b",
   "metadata": {},
   "outputs": [
    {
     "data": {
      "text/plain": [
       "ll_fnc (generic function with 1 method)"
      ]
     },
     "execution_count": 11,
     "metadata": {},
     "output_type": "execute_result"
    }
   ],
   "source": [
    "function choice_prob_numerator(α,δ_j,price,coinsurance,copay)\n",
    "    util(α, p, δ_j) = exp.(α .* p .+ δ_j)\n",
    "    p = price .* coinsurance .+ copay\n",
    "    utility = util(α,p,δ_j)\n",
    "    return utility\n",
    "end\n",
    "\n",
    "function choice_prob_denominator(α_scalar,δ_vector,price_vector,coinsurance_scalar,copay_scalar)\n",
    "    util_values = choice_prob_numerator.(α_scalar, δ_vector, price_vector, coinsurance_scalar, copay_scalar)\n",
    "    total = sum.(util_values)\n",
    "    return total\n",
    "end\n",
    "\n",
    "function ll_fnc(params, prices, coinsurance, copay, df)\n",
    "    α = params[end]\n",
    "    δ = params[1:end-1]\n",
    "    vector_δ = fill(δ,length(prices))\n",
    "    \n",
    "    numerator_list = choice_prob_numerator(α,δ[df.product_id],prices,coinsurance,copay)\n",
    "    \n",
    "    denominator_list = choice_prob_denominator(α,vector_δ,other_prices_list,coinsurance,copay)\n",
    "        \n",
    "    ll = sum(log.(numerator_list ./ (1 .+ denominator_list)))\n",
    "    \n",
    "    return -ll\n",
    "end"
   ]
  },
  {
   "cell_type": "markdown",
   "id": "1ec15975",
   "metadata": {},
   "source": [
    "## Random Sampling Code"
   ]
  },
  {
   "cell_type": "code",
   "execution_count": 299,
   "id": "11082bc3",
   "metadata": {},
   "outputs": [],
   "source": [
    "prod_id_grped = groupby(df, :product_id)\n",
    "weights_dict = Dict{Int64, Float64}()\n",
    "for i in 1:length(prod_id_grped)\n",
    "    length = size(prod_id_grped[i],1)\n",
    "    product = prod_id_grped[i].product_id[1]\n",
    "    #println(\"Product \", product, \" has \", length, \" claims.\")\n",
    "    weights_dict[product] = length / size(df_21,1)\n",
    "end"
   ]
  },
  {
   "cell_type": "code",
   "execution_count": 301,
   "id": "81c52c5b",
   "metadata": {},
   "outputs": [],
   "source": [
    "n = 5000\n",
    "no_of_obs_dict = Dict{Int64, Int64}()\n",
    "for (prod_id, weight) in enumerate(weights_dict)\n",
    "    #println(\"Product \",weight[1], \" : \", Int(round(weight[2]*n)))\n",
    "    no_of_obs_dict[weight[1]] = Int(round(weight[2]*n))\n",
    "end"
   ]
  },
  {
   "cell_type": "code",
   "execution_count": 302,
   "id": "1a8a87ff",
   "metadata": {
    "scrolled": true
   },
   "outputs": [
    {
     "data": {
      "text/html": [
       "<div><div style = \"float: left;\"><span>0×54 DataFrame</span></div><div style = \"clear: both;\"></div></div><div class = \"data-frame\" style = \"overflow-x: scroll;\"><table class = \"data-frame\" style = \"margin-bottom: 6px;\"><thead><tr class = \"header\"><th class = \"rowNumber\" style = \"font-weight: bold; text-align: right;\">Row</th><th style = \"text-align: left;\">PROV_KEY</th><th style = \"text-align: left;\">PROV_CW_KEY</th><th style = \"text-align: left;\">FACILITY_NAME</th><th style = \"text-align: left;\">PROV_TYPE</th><th style = \"text-align: left;\">PROV_TYPE_ORIG</th><th style = \"text-align: left;\">PROV_CLINIC_STATE</th><th style = \"text-align: left;\">NH_COUNTY_CODE</th><th style = \"text-align: left;\">NDC</th><th style = \"text-align: left;\">COVERAGE_CLASS</th><th style = \"text-align: left;\">FROM_YEAR</th><th style = \"text-align: left;\">CLAIM_ID_KEY</th><th style = \"text-align: left;\">SV_LINE</th><th style = \"text-align: left;\">SV_STAT</th><th style = \"text-align: left;\">AGE</th><th style = \"text-align: left;\">SEX</th><th style = \"text-align: left;\">MEMBER_COUNTY</th><th style = \"text-align: left;\">MEMBER_STATE</th><th style = \"text-align: left;\">PHARMACY_COUNTY</th><th style = \"text-align: left;\">INSURANCE_TYPE</th><th style = \"text-align: left;\">BILL_PROV_CW_KEY</th><th style = \"text-align: left;\">QTY</th><th style = \"text-align: left;\">AMT_BILLED</th><th style = \"text-align: left;\">AMT_PAID</th><th style = \"text-align: left;\">AMT_DEDUCT</th><th style = \"text-align: left;\">AMT_COINS</th><th style = \"text-align: left;\">AMT_COPAY</th><th style = \"text-align: left;\">NDC_PROD_NAME</th><th style = \"text-align: left;\">BRAND_STATUS</th><th style = \"text-align: left;\">RX_DAYS_SUPPLY</th><th style = \"text-align: left;\">RX_INGR_COST</th><th style = \"text-align: left;\">RX_DISP_FEE</th><th style = \"text-align: left;\">RX_DAW</th><th style = \"text-align: left;\">RX_REFILLS</th><th style = \"text-align: left;\">COMPOUND</th><th style = \"text-align: left;\">CLAIM_STATUS_ORIG</th><th style = \"text-align: left;\">IMPUTED_SERVICE_KEY</th><th style = \"text-align: left;\">PRODUCTNDC</th><th style = \"text-align: left;\">PRODUCTTYPENAME</th><th style = \"text-align: left;\">PROPRIETARYNAME</th><th style = \"text-align: left;\">NONPROPRIETARYNAME</th><th style = \"text-align: left;\">DOSAGEFORMNAME</th><th style = \"text-align: left;\">SUBSTANCENAME</th><th style = \"text-align: left;\">ACTIVE_NUMERATOR_STRENGTH</th><th style = \"text-align: left;\">ACTIVE_INGRED_UNIT</th><th style = \"text-align: left;\">DEASCHEDULE</th><th style = \"text-align: left;\">NDCPACKAGECODE</th><th style = \"text-align: left;\">PACKAGEDESCRIPTION</th><th style = \"text-align: left;\">STARTMARKETINGDATE</th><th style = \"text-align: left;\">ENDMARKETINGDATE</th><th style = \"text-align: left;\">DISTANCE</th><th style = \"text-align: left;\">PRICE</th><th style = \"text-align: left;\">product_id</th><th style = \"text-align: left;\">COINS_PERCENT</th><th style = \"text-align: left;\">FLAT_PAY</th></tr><tr class = \"subheader headerLastRow\"><th class = \"rowNumber\" style = \"font-weight: bold; text-align: right;\"></th><th title = \"Any\" style = \"text-align: left;\">Any</th><th title = \"Any\" style = \"text-align: left;\">Any</th><th title = \"Any\" style = \"text-align: left;\">Any</th><th title = \"Any\" style = \"text-align: left;\">Any</th><th title = \"Any\" style = \"text-align: left;\">Any</th><th title = \"Any\" style = \"text-align: left;\">Any</th><th title = \"Any\" style = \"text-align: left;\">Any</th><th title = \"Any\" style = \"text-align: left;\">Any</th><th title = \"Any\" style = \"text-align: left;\">Any</th><th title = \"Any\" style = \"text-align: left;\">Any</th><th title = \"Any\" style = \"text-align: left;\">Any</th><th title = \"Any\" style = \"text-align: left;\">Any</th><th title = \"Any\" style = \"text-align: left;\">Any</th><th title = \"Any\" style = \"text-align: left;\">Any</th><th title = \"Any\" style = \"text-align: left;\">Any</th><th title = \"Any\" style = \"text-align: left;\">Any</th><th title = \"Any\" style = \"text-align: left;\">Any</th><th title = \"Any\" style = \"text-align: left;\">Any</th><th title = \"Any\" style = \"text-align: left;\">Any</th><th title = \"Any\" style = \"text-align: left;\">Any</th><th title = \"Any\" style = \"text-align: left;\">Any</th><th title = \"Any\" style = \"text-align: left;\">Any</th><th title = \"Any\" style = \"text-align: left;\">Any</th><th title = \"Any\" style = \"text-align: left;\">Any</th><th title = \"Any\" style = \"text-align: left;\">Any</th><th title = \"Any\" style = \"text-align: left;\">Any</th><th title = \"Any\" style = \"text-align: left;\">Any</th><th title = \"Any\" style = \"text-align: left;\">Any</th><th title = \"Any\" style = \"text-align: left;\">Any</th><th title = \"Any\" style = \"text-align: left;\">Any</th><th title = \"Any\" style = \"text-align: left;\">Any</th><th title = \"Any\" style = \"text-align: left;\">Any</th><th title = \"Any\" style = \"text-align: left;\">Any</th><th title = \"Any\" style = \"text-align: left;\">Any</th><th title = \"Any\" style = \"text-align: left;\">Any</th><th title = \"Any\" style = \"text-align: left;\">Any</th><th title = \"Any\" style = \"text-align: left;\">Any</th><th title = \"Any\" style = \"text-align: left;\">Any</th><th title = \"Any\" style = \"text-align: left;\">Any</th><th title = \"Any\" style = \"text-align: left;\">Any</th><th title = \"Any\" style = \"text-align: left;\">Any</th><th title = \"Any\" style = \"text-align: left;\">Any</th><th title = \"Any\" style = \"text-align: left;\">Any</th><th title = \"Any\" style = \"text-align: left;\">Any</th><th title = \"Any\" style = \"text-align: left;\">Any</th><th title = \"Any\" style = \"text-align: left;\">Any</th><th title = \"Any\" style = \"text-align: left;\">Any</th><th title = \"Any\" style = \"text-align: left;\">Any</th><th title = \"Any\" style = \"text-align: left;\">Any</th><th title = \"Any\" style = \"text-align: left;\">Any</th><th title = \"Any\" style = \"text-align: left;\">Any</th><th title = \"Any\" style = \"text-align: left;\">Any</th><th title = \"Any\" style = \"text-align: left;\">Any</th><th title = \"Any\" style = \"text-align: left;\">Any</th></tr></thead><tbody></tbody></table></div>"
      ],
      "text/latex": [
       "\\begin{tabular}{r|cccccccccccccccccccccccccccccccccccccccccccccccccccccc}\n",
       "\t& PROV\\_KEY & PROV\\_CW\\_KEY & FACILITY\\_NAME & PROV\\_TYPE & PROV\\_TYPE\\_ORIG & PROV\\_CLINIC\\_STATE & NH\\_COUNTY\\_CODE & NDC & COVERAGE\\_CLASS & FROM\\_YEAR & CLAIM\\_ID\\_KEY & SV\\_LINE & SV\\_STAT & AGE & SEX & MEMBER\\_COUNTY & MEMBER\\_STATE & PHARMACY\\_COUNTY & INSURANCE\\_TYPE & BILL\\_PROV\\_CW\\_KEY & QTY & AMT\\_BILLED & AMT\\_PAID & AMT\\_DEDUCT & AMT\\_COINS & AMT\\_COPAY & NDC\\_PROD\\_NAME & BRAND\\_STATUS & RX\\_DAYS\\_SUPPLY & RX\\_INGR\\_COST & RX\\_DISP\\_FEE & RX\\_DAW & RX\\_REFILLS & COMPOUND & CLAIM\\_STATUS\\_ORIG & IMPUTED\\_SERVICE\\_KEY & PRODUCTNDC & PRODUCTTYPENAME & PROPRIETARYNAME & NONPROPRIETARYNAME & DOSAGEFORMNAME & SUBSTANCENAME & ACTIVE\\_NUMERATOR\\_STRENGTH & ACTIVE\\_INGRED\\_UNIT & DEASCHEDULE & NDCPACKAGECODE & PACKAGEDESCRIPTION & STARTMARKETINGDATE & ENDMARKETINGDATE & DISTANCE & PRICE & product\\_id & COINS\\_PERCENT & FLAT\\_PAY\\\\\n",
       "\t\\hline\n",
       "\t& Any & Any & Any & Any & Any & Any & Any & Any & Any & Any & Any & Any & Any & Any & Any & Any & Any & Any & Any & Any & Any & Any & Any & Any & Any & Any & Any & Any & Any & Any & Any & Any & Any & Any & Any & Any & Any & Any & Any & Any & Any & Any & Any & Any & Any & Any & Any & Any & Any & Any & Any & Any & Any & Any\\\\\n",
       "\t\\hline\n",
       "\\end{tabular}\n"
      ],
      "text/plain": [
       "\u001b[1m0×54 DataFrame\u001b[0m\n",
       "\u001b[1m Row \u001b[0m│\u001b[1m PROV_KEY \u001b[0m\u001b[1m PROV_CW_KEY \u001b[0m\u001b[1m FACILITY_NAME \u001b[0m\u001b[1m PROV_TYPE \u001b[0m\u001b[1m PROV_TYPE_ORIG \u001b[0m\u001b[1m PROV_CLINIC_STATE \u001b[0m\u001b[1m NH_COUNTY_CODE \u001b[0m\u001b[1m NDC \u001b[0m\u001b[1m COVERAGE_CLASS \u001b[0m\u001b[1m FROM_YEAR \u001b[0m\u001b[1m CLAIM_ID_KEY \u001b[0m\u001b[1m SV_LINE \u001b[0m\u001b[1m SV_STAT \u001b[0m\u001b[1m AGE \u001b[0m\u001b[1m SEX \u001b[0m\u001b[1m MEMBER_COUNTY \u001b[0m\u001b[1m MEMBER_STATE \u001b[0m\u001b[1m PHARMACY_COUNTY \u001b[0m\u001b[1m INSURANCE_TYPE \u001b[0m\u001b[1m BILL_PROV_CW_KEY \u001b[0m\u001b[1m QTY \u001b[0m\u001b[1m AMT_BILLED \u001b[0m\u001b[1m AMT_PAID \u001b[0m\u001b[1m AMT_DEDUCT \u001b[0m\u001b[1m AMT_COINS \u001b[0m\u001b[1m AMT_COPAY \u001b[0m\u001b[1m NDC_PROD_NAME \u001b[0m\u001b[1m BRAND_STATUS \u001b[0m\u001b[1m RX_DAYS_SUPPLY \u001b[0m\u001b[1m RX_INGR_COST \u001b[0m\u001b[1m RX_DISP_FEE \u001b[0m\u001b[1m RX_DAW \u001b[0m\u001b[1m RX_REFILLS \u001b[0m\u001b[1m COMPOUND \u001b[0m\u001b[1m CLAIM_STATUS_ORIG \u001b[0m\u001b[1m IMPUTED_SERVICE_KEY \u001b[0m\u001b[1m PRODUCTNDC \u001b[0m\u001b[1m PRODUCTTYPENAME \u001b[0m\u001b[1m PROPRIETARYNAME \u001b[0m\u001b[1m NONPROPRIETARYNAME \u001b[0m\u001b[1m DOSAGEFORMNAME \u001b[0m\u001b[1m SUBSTANCENAME \u001b[0m\u001b[1m ACTIVE_NUMERATOR_STRENGTH \u001b[0m\u001b[1m ACTIVE_INGRED_UNIT \u001b[0m\u001b[1m DEASCHEDULE \u001b[0m\u001b[1m NDCPACKAGECODE \u001b[0m\u001b[1m PACKAGEDESCRIPTION \u001b[0m\u001b[1m STARTMARKETINGDATE \u001b[0m\u001b[1m ENDMARKETINGDATE \u001b[0m\u001b[1m DISTANCE \u001b[0m\u001b[1m PRICE \u001b[0m\u001b[1m product_id \u001b[0m\u001b[1m COINS_PERCENT \u001b[0m\u001b[1m FLAT_PAY \u001b[0m\n",
       "     │\u001b[90m Any      \u001b[0m\u001b[90m Any         \u001b[0m\u001b[90m Any           \u001b[0m\u001b[90m Any       \u001b[0m\u001b[90m Any            \u001b[0m\u001b[90m Any               \u001b[0m\u001b[90m Any            \u001b[0m\u001b[90m Any \u001b[0m\u001b[90m Any            \u001b[0m\u001b[90m Any       \u001b[0m\u001b[90m Any          \u001b[0m\u001b[90m Any     \u001b[0m\u001b[90m Any     \u001b[0m\u001b[90m Any \u001b[0m\u001b[90m Any \u001b[0m\u001b[90m Any           \u001b[0m\u001b[90m Any          \u001b[0m\u001b[90m Any             \u001b[0m\u001b[90m Any            \u001b[0m\u001b[90m Any              \u001b[0m\u001b[90m Any \u001b[0m\u001b[90m Any        \u001b[0m\u001b[90m Any      \u001b[0m\u001b[90m Any        \u001b[0m\u001b[90m Any       \u001b[0m\u001b[90m Any       \u001b[0m\u001b[90m Any           \u001b[0m\u001b[90m Any          \u001b[0m\u001b[90m Any            \u001b[0m\u001b[90m Any          \u001b[0m\u001b[90m Any         \u001b[0m\u001b[90m Any    \u001b[0m\u001b[90m Any        \u001b[0m\u001b[90m Any      \u001b[0m\u001b[90m Any               \u001b[0m\u001b[90m Any                 \u001b[0m\u001b[90m Any        \u001b[0m\u001b[90m Any             \u001b[0m\u001b[90m Any             \u001b[0m\u001b[90m Any                \u001b[0m\u001b[90m Any            \u001b[0m\u001b[90m Any           \u001b[0m\u001b[90m Any                       \u001b[0m\u001b[90m Any                \u001b[0m\u001b[90m Any         \u001b[0m\u001b[90m Any            \u001b[0m\u001b[90m Any                \u001b[0m\u001b[90m Any                \u001b[0m\u001b[90m Any              \u001b[0m\u001b[90m Any      \u001b[0m\u001b[90m Any   \u001b[0m\u001b[90m Any        \u001b[0m\u001b[90m Any           \u001b[0m\u001b[90m Any      \u001b[0m\n",
       "─────┴──────────────────────────────────────────────────────────────────────────────────────────────────────────────────────────────────────────────────────────────────────────────────────────────────────────────────────────────────────────────────────────────────────────────────────────────────────────────────────────────────────────────────────────────────────────────────────────────────────────────────────────────────────────────────────────────────────────────────────────────────────────────────────────────────────────────────────────────────────────────────────────────────────────────────────────────────────────────────────────────────────────────────────────────────────────────────────────────────────────────────────────────────────"
      ]
     },
     "execution_count": 302,
     "metadata": {},
     "output_type": "execute_result"
    }
   ],
   "source": [
    "column_names = names(df_21)\n",
    "sampled_df = DataFrame([Symbol(name) => Vector{Any}() for name in column_names])"
   ]
  },
  {
   "cell_type": "code",
   "execution_count": 303,
   "id": "f14c02c7",
   "metadata": {},
   "outputs": [],
   "source": [
    "for product_index in 1:size(prod_id_grped,1)\n",
    "    prod_id = unique(prod_id_grped[product_index].product_id)[1]\n",
    "    no_of_obs = no_of_obs_dict[prod_id]\n",
    "    for obs in randperm(size(prod_id_grped[product_index],1))[1:no_of_obs]\n",
    "        push!(sampled_df, prod_id_grped[product_index][obs,:])\n",
    "    end\n",
    "end"
   ]
  },
  {
   "cell_type": "markdown",
   "id": "10dfce8d",
   "metadata": {},
   "source": [
    " Need to reset the product_id index and other price list to fix the indexing problem related to $\\delta$."
   ]
  },
  {
   "cell_type": "code",
   "execution_count": 348,
   "id": "09b343dc",
   "metadata": {},
   "outputs": [],
   "source": [
    "product_ids = unique(sampled_df.PROPRIETARYNAME[1:length(sample_prices)])\n",
    "product_dict = Dict{String, Int64}()\n",
    "\n",
    "for (index, value) in enumerate(product_ids)\n",
    "    product_dict[value] = index\n",
    "end\n",
    "\n",
    "sampled_df.product_id = map(x -> product_dict[x], sampled_df.PROPRIETARYNAME);\n",
    "avg_price_df = combine(groupby(sampled_df, :product_id), :PRICE => mean => :AVG_PRICE)\n",
    "avg_price_dict = Dict(zip(avg_price_df.product_id, avg_price_df.AVG_PRICE))\n",
    "\n",
    "other_prices_list = []\n",
    "for row in eachrow(sampled_df)\n",
    "    new_dict = copy(avg_price_dict)\n",
    "    new_dict[row.product_id] = row.PRICE\n",
    "    price_vector = []\n",
    "    for (prod_id,price) in enumerate(new_dict)\n",
    "        push!(price_vector, price[2])\n",
    "    end\n",
    "    price_vector = convert(Vector{Float64}, price_vector)\n",
    "    push!(other_prices_list, price_vector)\n",
    "end"
   ]
  },
  {
   "cell_type": "code",
   "execution_count": 349,
   "id": "a5272d27",
   "metadata": {},
   "outputs": [],
   "source": [
    "sample_prices = convert(Vector{Float64}, sampled_df.PRICE)\n",
    "sample_coins = convert(Vector{Float64}, sampled_df.COINS_PERCENT);\n",
    "sample_copay = convert(Vector{Float64}, sampled_df.FLAT_PAY);\n",
    "α = 0.1\n",
    "δ = zeros(length(unique(sampled_df.PROPRIETARYNAME)))\n",
    "init_params = vcat(δ,α)\n",
    "lower = fill(-100.0, length(init_params))\n",
    "upper = fill(100.0, length(init_params));"
   ]
  },
  {
   "cell_type": "code",
   "execution_count": 342,
   "id": "f03bc42b",
   "metadata": {},
   "outputs": [
    {
     "name": "stdout",
     "output_type": "stream",
     "text": [
      "  0.035038 seconds (1.00 M allocations: 20.631 MiB)\n"
     ]
    },
    {
     "data": {
      "text/plain": [
       "19343.180551568934"
      ]
     },
     "execution_count": 342,
     "metadata": {},
     "output_type": "execute_result"
    }
   ],
   "source": [
    "@time ll_fnc(init_params,sample_prices,sample_coins,sample_copay,sampled_df)"
   ]
  },
  {
   "cell_type": "code",
   "execution_count": 19,
   "id": "3885290c",
   "metadata": {
    "scrolled": true
   },
   "outputs": [
    {
     "data": {
      "text/plain": [
       "optimize_function (generic function with 1 method)"
      ]
     },
     "execution_count": 19,
     "metadata": {},
     "output_type": "execute_result"
    }
   ],
   "source": [
    "function optimize_function(init_params,prices,coinsurance,copay,df,lower,upper, fnc)\n",
    "    res = optimize(params -> fnc(params, prices, coinsurance, copay,df), lower, upper, init_params)\n",
    "    return res\n",
    "end"
   ]
  },
  {
   "cell_type": "code",
   "execution_count": 352,
   "id": "7047a850",
   "metadata": {},
   "outputs": [
    {
     "name": "stdout",
     "output_type": "stream",
     "text": [
      "608.659152 seconds (3.21 G allocations: 597.148 GiB, 13.77% gc time, 0.10% compilation time)\n"
     ]
    },
    {
     "data": {
      "text/plain": [
       " * Status: success\n",
       "\n",
       " * Candidate solution\n",
       "    Final objective value:     1.521490e+04\n",
       "\n",
       " * Found with\n",
       "    Algorithm:     Fminbox with L-BFGS\n",
       "\n",
       " * Convergence measures\n",
       "    |x - x'|               = 8.93e-09 ≰ 0.0e+00\n",
       "    |x - x'|/|x'|          = 8.41e-11 ≰ 0.0e+00\n",
       "    |f(x) - f(x')|         = 0.00e+00 ≤ 0.0e+00\n",
       "    |f(x) - f(x')|/|f(x')| = 0.00e+00 ≤ 0.0e+00\n",
       "    |g(x)|                 = 1.28e-07 ≰ 1.0e-08\n",
       "\n",
       " * Work counters\n",
       "    Seconds run:   609  (vs limit Inf)\n",
       "    Iterations:    7\n",
       "    f(x) calls:    1322\n",
       "    ∇f(x) calls:   1322\n"
      ]
     },
     "execution_count": 352,
     "metadata": {},
     "output_type": "execute_result"
    }
   ],
   "source": [
    "@time res = optimize_function(init_params,sample_prices,sample_coins,sample_copay,sampled_df,lower,upper, ll_fnc)"
   ]
  },
  {
   "cell_type": "code",
   "execution_count": 356,
   "id": "121c617a",
   "metadata": {},
   "outputs": [],
   "source": [
    "δ_5000 = res.minimizer[1:end-1]\n",
    "α_5000 = res.minimizer[end];"
   ]
  },
  {
   "cell_type": "markdown",
   "id": "1ce4e8ea",
   "metadata": {},
   "source": [
    "## Full Data Analysis"
   ]
  },
  {
   "cell_type": "code",
   "execution_count": 52,
   "id": "afd8bcb5",
   "metadata": {},
   "outputs": [],
   "source": [
    "prices = convert(Vector{Float64}, df.PRICE)\n",
    "coins = convert(Vector{Float64}, df.COINS_PERCENT);\n",
    "copay = convert(Vector{Float64}, df.FLAT_PAY);\n",
    "α = -0.1\n",
    "δ = zeros(length(unique(df.PROPRIETARYNAME)))\n",
    "init_params = vcat(δ,α)\n",
    "lower = fill(-100.0, length(init_params))\n",
    "upper = fill(100.0, length(init_params))\n",
    "\n",
    "product_ids = unique(df.PROPRIETARYNAME[1:length(prices)])\n",
    "product_dict = Dict{String, Int64}()\n",
    "\n",
    "for (index, value) in enumerate(product_ids)\n",
    "    product_dict[value] = index\n",
    "end        \n",
    "\n",
    "df.product_id = map(x -> product_dict[x], df.PROPRIETARYNAME);\n",
    "avg_price_df = combine(groupby(df, :product_id), :PRICE => mean => :AVG_PRICE)\n",
    "avg_price_dict = Dict(zip(avg_price_df.product_id, avg_price_df.AVG_PRICE))\n",
    "\n",
    "other_prices_list = []\n",
    "for row in eachrow(df)\n",
    "    new_dict = copy(avg_price_dict)\n",
    "    new_dict[row.product_id] = row.PRICE\n",
    "    price_vector = []\n",
    "    for (prod_id,price) in enumerate(new_dict)\n",
    "        push!(price_vector, price[2])\n",
    "    end\n",
    "    price_vector = convert(Vector{Float64}, price_vector)\n",
    "    push!(other_prices_list, price_vector)\n",
    "end;"
   ]
  },
  {
   "cell_type": "code",
   "execution_count": 53,
   "id": "37894b94",
   "metadata": {},
   "outputs": [
    {
     "data": {
      "text/plain": [
       "0.0"
      ]
     },
     "execution_count": 53,
     "metadata": {},
     "output_type": "execute_result"
    }
   ],
   "source": [
    "lower[end] = -100.0\n",
    "upper[end] = 0.0"
   ]
  },
  {
   "cell_type": "code",
   "execution_count": 54,
   "id": "ded14188",
   "metadata": {},
   "outputs": [
    {
     "name": "stdout",
     "output_type": "stream",
     "text": [
      "  0.018084 seconds (92.94 k allocations: 17.723 MiB)\n"
     ]
    },
    {
     "data": {
      "text/plain": [
       "72385.4344119039"
      ]
     },
     "execution_count": 54,
     "metadata": {},
     "output_type": "execute_result"
    }
   ],
   "source": [
    "@time ll_fnc(init_params,prices,coins,copay,df)"
   ]
  },
  {
   "cell_type": "code",
   "execution_count": 55,
   "id": "bd843b44",
   "metadata": {},
   "outputs": [
    {
     "data": {
      "text/plain": [
       "48"
      ]
     },
     "execution_count": 55,
     "metadata": {},
     "output_type": "execute_result"
    }
   ],
   "source": [
    "length(δ)"
   ]
  },
  {
   "cell_type": "code",
   "execution_count": 56,
   "id": "62404525",
   "metadata": {},
   "outputs": [
    {
     "data": {
      "text/plain": [
       "18582"
      ]
     },
     "execution_count": 56,
     "metadata": {},
     "output_type": "execute_result"
    }
   ],
   "source": [
    "size(df,1)"
   ]
  },
  {
   "cell_type": "code",
   "execution_count": null,
   "id": "e7360b2f",
   "metadata": {
    "scrolled": false
   },
   "outputs": [],
   "source": [
    "@time res1 = optimize_function(init_params,prices,coins,copay,df,lower,upper, ll_fnc)"
   ]
  },
  {
   "cell_type": "code",
   "execution_count": 40,
   "id": "18cae954",
   "metadata": {},
   "outputs": [
    {
     "data": {
      "text/plain": [
       "40-element Vector{Float64}:\n",
       " 14.267161612455556\n",
       " 16.352143336649327\n",
       " 18.26638116616527\n",
       " 14.39232475944487\n",
       " 18.466866693835314\n",
       " 16.30693790131152\n",
       " 17.230141102132247\n",
       " 16.154231263661156\n",
       " 17.122353866428675\n",
       " 17.068499750807423\n",
       " 16.79200097608911\n",
       " 15.748766156790944\n",
       " 15.187886945875556\n",
       " 16.68901012989665\n",
       " 17.826944273728408\n",
       " 14.015847182150777\n",
       " 16.40067037927677\n",
       " 14.764564217382858\n",
       " 16.241242642171937\n",
       " 17.882274919228976\n",
       " 15.945296058855686\n",
       " 16.14747448189096\n",
       " 15.365773903493476\n",
       " 14.854948281285674\n",
       " 13.986859647928195\n",
       " 18.01116036954902\n",
       " 15.104890027023187\n",
       " 13.23308784827952\n",
       " 14.982287702377619\n",
       " 13.233087844998217\n",
       " 16.61323181973874\n",
       " 16.514938472622063\n",
       " 15.214089315822527\n",
       " 15.584463105037711\n",
       " 14.310646726250429\n",
       " 13.82779495587364\n",
       " 14.411742842014032\n",
       " 13.505021563519634\n",
       " 13.756335989283768\n",
       " 13.792703632855941"
      ]
     },
     "execution_count": 40,
     "metadata": {},
     "output_type": "execute_result"
    }
   ],
   "source": [
    "δ_full = res1.minimizer[1:end-1]"
   ]
  },
  {
   "cell_type": "code",
   "execution_count": 41,
   "id": "b7f12d44",
   "metadata": {},
   "outputs": [
    {
     "data": {
      "text/plain": [
       "-9.942298848989804e-25"
      ]
     },
     "execution_count": 41,
     "metadata": {},
     "output_type": "execute_result"
    }
   ],
   "source": [
    "α_full = res1.minimizer[end]"
   ]
  },
  {
   "cell_type": "code",
   "execution_count": 42,
   "id": "c0282e76",
   "metadata": {},
   "outputs": [
    {
     "data": {
      "text/plain": [
       "Dict{String, Any}()"
      ]
     },
     "execution_count": 42,
     "metadata": {},
     "output_type": "execute_result"
    }
   ],
   "source": [
    "estimates_dict = Dict{String, Any}()"
   ]
  },
  {
   "cell_type": "code",
   "execution_count": 43,
   "id": "56aa9ffa",
   "metadata": {},
   "outputs": [
    {
     "data": {
      "text/plain": [
       "-9.942298848989804e-25"
      ]
     },
     "execution_count": 43,
     "metadata": {},
     "output_type": "execute_result"
    }
   ],
   "source": [
    "estimates_dict[\"Year\"] = \"2017\"\n",
    "for (i,j) in enumerate(product_dict)\n",
    "    #println(j[1], \": \",δ_full[j[2]])\n",
    "    estimates_dict[j[1]] = δ_full[j[2]]\n",
    "end\n",
    "estimates_dict[\"α\"] = α_full"
   ]
  },
  {
   "cell_type": "code",
   "execution_count": 28,
   "id": "b478ef9b",
   "metadata": {},
   "outputs": [
    {
     "data": {
      "text/html": [
       "<div><div style = \"float: left;\"><span>1×30 DataFrame</span></div><div style = \"clear: both;\"></div></div><div class = \"data-frame\" style = \"overflow-x: scroll;\"><table class = \"data-frame\" style = \"margin-bottom: 6px;\"><thead><tr class = \"header\"><th class = \"rowNumber\" style = \"font-weight: bold; text-align: right;\">Row</th><th style = \"text-align: left;\">Adderall</th><th style = \"text-align: left;\">CONCERTA</th><th style = \"text-align: left;\">Daytrana</th><th style = \"text-align: left;\">Dextroamphetamine Saccharate, Amphetamine Aspartate, Dextroamphetamine Sulfate and Amphetamine Sulfate</th><th style = \"text-align: left;\">Dextroamphetamine Sulfate</th><th style = \"text-align: left;\">Dextroamphetamine saccharate, amphetamine aspartate monohydrate, dextroamphetamine sulfate, amphetamine sulfate</th><th style = \"text-align: left;\">FENTANYL</th><th style = \"text-align: left;\">Focalin</th><th style = \"text-align: left;\">Hydrocodone Bitartrate And Acetaminophen</th><th style = \"text-align: left;\">Hydrocodone Bitartrate and Acetaminophen</th><th style = \"text-align: left;\">Hydrocodone Bitartrate and Homatropine Methylbromide</th><th style = \"text-align: left;\">Hydromet</th><th style = \"text-align: left;\">Hydromorphone Hydrochloride</th><th style = \"text-align: left;\">METHADONE HYDROCHLORIDE</th><th style = \"text-align: left;\">MORPHINE SULFATE</th><th style = \"text-align: left;\">Methadone Hydrochloride</th><th style = \"text-align: left;\">Methylphenidate Hydrochloride</th><th style = \"text-align: left;\">Morphine Sulfate</th><th style = \"text-align: left;\">OXYCODONE AND ACETAMINOPHEN</th><th style = \"text-align: left;\">OXYCODONE HYDROCHLORIDE</th><th style = \"text-align: left;\">OxyContin</th><th style = \"text-align: left;\">Oxycodone Hydrochloride</th><th style = \"text-align: left;\">Oxycodone and Acetaminophen</th><th style = \"text-align: left;\">Oxymorphone Hydrochloride</th><th style = \"text-align: left;\">PERCOCET</th><th style = \"text-align: left;\">Ritalin</th><th style = \"text-align: left;\">Vyvanse</th><th style = \"text-align: left;\">Year</th><th style = \"text-align: left;\">oxycodone hydrochloride</th><th style = \"text-align: left;\">α</th></tr><tr class = \"subheader headerLastRow\"><th class = \"rowNumber\" style = \"font-weight: bold; text-align: right;\"></th><th title = \"Float64\" style = \"text-align: left;\">Float64</th><th title = \"Float64\" style = \"text-align: left;\">Float64</th><th title = \"Float64\" style = \"text-align: left;\">Float64</th><th title = \"Float64\" style = \"text-align: left;\">Float64</th><th title = \"Float64\" style = \"text-align: left;\">Float64</th><th title = \"Float64\" style = \"text-align: left;\">Float64</th><th title = \"Float64\" style = \"text-align: left;\">Float64</th><th title = \"Float64\" style = \"text-align: left;\">Float64</th><th title = \"Float64\" style = \"text-align: left;\">Float64</th><th title = \"Float64\" style = \"text-align: left;\">Float64</th><th title = \"Float64\" style = \"text-align: left;\">Float64</th><th title = \"Float64\" style = \"text-align: left;\">Float64</th><th title = \"Float64\" style = \"text-align: left;\">Float64</th><th title = \"Float64\" style = \"text-align: left;\">Float64</th><th title = \"Float64\" style = \"text-align: left;\">Float64</th><th title = \"Float64\" style = \"text-align: left;\">Float64</th><th title = \"Float64\" style = \"text-align: left;\">Float64</th><th title = \"Float64\" style = \"text-align: left;\">Float64</th><th title = \"Float64\" style = \"text-align: left;\">Float64</th><th title = \"Float64\" style = \"text-align: left;\">Float64</th><th title = \"Float64\" style = \"text-align: left;\">Float64</th><th title = \"Float64\" style = \"text-align: left;\">Float64</th><th title = \"Float64\" style = \"text-align: left;\">Float64</th><th title = \"Float64\" style = \"text-align: left;\">Float64</th><th title = \"Float64\" style = \"text-align: left;\">Float64</th><th title = \"Float64\" style = \"text-align: left;\">Float64</th><th title = \"Float64\" style = \"text-align: left;\">Float64</th><th title = \"String\" style = \"text-align: left;\">String</th><th title = \"Float64\" style = \"text-align: left;\">Float64</th><th title = \"Float64\" style = \"text-align: left;\">Float64</th></tr></thead><tbody><tr><td class = \"rowNumber\" style = \"font-weight: bold; text-align: right;\">1</td><td style = \"text-align: right;\">17.5796</td><td style = \"text-align: right;\">15.3725</td><td style = \"text-align: right;\">15.3498</td><td style = \"text-align: right;\">18.3893</td><td style = \"text-align: right;\">15.3265</td><td style = \"text-align: right;\">15.6023</td><td style = \"text-align: right;\">16.1971</td><td style = \"text-align: right;\">16.9886</td><td style = \"text-align: right;\">13.5229</td><td style = \"text-align: right;\">16.6042</td><td style = \"text-align: right;\">15.2013</td><td style = \"text-align: right;\">15.479</td><td style = \"text-align: right;\">17.269</td><td style = \"text-align: right;\">16.9864</td><td style = \"text-align: right;\">16.5572</td><td style = \"text-align: right;\">14.1027</td><td style = \"text-align: right;\">17.2724</td><td style = \"text-align: right;\">16.8474</td><td style = \"text-align: right;\">17.9409</td><td style = \"text-align: right;\">18.4041</td><td style = \"text-align: right;\">17.9235</td><td style = \"text-align: right;\">15.7122</td><td style = \"text-align: right;\">16.6738</td><td style = \"text-align: right;\">13.7742</td><td style = \"text-align: right;\">14.5727</td><td style = \"text-align: right;\">15.8326</td><td style = \"text-align: right;\">18.3948</td><td style = \"text-align: left;\">2012</td><td style = \"text-align: right;\">14.4948</td><td style = \"text-align: right;\">-8.92394e-43</td></tr></tbody></table></div>"
      ],
      "text/latex": [
       "\\begin{tabular}{r|cccccccccccccccccccccccccccccc}\n",
       "\t& Adderall & CONCERTA & Daytrana & Dextroamphetamine Saccharate, Amphetamine Aspartate, Dextroamphetamine Sulfate and Amphetamine Sulfate & Dextroamphetamine Sulfate & Dextroamphetamine saccharate, amphetamine aspartate monohydrate, dextroamphetamine sulfate, amphetamine sulfate & FENTANYL & Focalin & Hydrocodone Bitartrate And Acetaminophen & Hydrocodone Bitartrate and Acetaminophen & Hydrocodone Bitartrate and Homatropine Methylbromide & Hydromet & Hydromorphone Hydrochloride & METHADONE HYDROCHLORIDE & MORPHINE SULFATE & Methadone Hydrochloride & Methylphenidate Hydrochloride & Morphine Sulfate & OXYCODONE AND ACETAMINOPHEN & OXYCODONE HYDROCHLORIDE & OxyContin & Oxycodone Hydrochloride & Oxycodone and Acetaminophen & Oxymorphone Hydrochloride & PERCOCET & Ritalin & Vyvanse & Year & oxycodone hydrochloride & α\\\\\n",
       "\t\\hline\n",
       "\t& Float64 & Float64 & Float64 & Float64 & Float64 & Float64 & Float64 & Float64 & Float64 & Float64 & Float64 & Float64 & Float64 & Float64 & Float64 & Float64 & Float64 & Float64 & Float64 & Float64 & Float64 & Float64 & Float64 & Float64 & Float64 & Float64 & Float64 & String & Float64 & Float64\\\\\n",
       "\t\\hline\n",
       "\t1 & 17.5796 & 15.3725 & 15.3498 & 18.3893 & 15.3265 & 15.6023 & 16.1971 & 16.9886 & 13.5229 & 16.6042 & 15.2013 & 15.479 & 17.269 & 16.9864 & 16.5572 & 14.1027 & 17.2724 & 16.8474 & 17.9409 & 18.4041 & 17.9235 & 15.7122 & 16.6738 & 13.7742 & 14.5727 & 15.8326 & 18.3948 & 2012 & 14.4948 & -8.92394e-43 \\\\\n",
       "\\end{tabular}\n"
      ],
      "text/plain": [
       "\u001b[1m1×30 DataFrame\u001b[0m\n",
       "\u001b[1m Row \u001b[0m│\u001b[1m Adderall \u001b[0m\u001b[1m CONCERTA \u001b[0m\u001b[1m Daytrana \u001b[0m\u001b[1m Dextroamphetamine Saccharate, Amphetamine Aspartate, Dextroamphetamine Sulfate and Amphetamine Sulfate \u001b[0m\u001b[1m Dextroamphetamine Sulfate \u001b[0m\u001b[1m Dextroamphetamine saccharate, amphetamine aspartate monohydrate, dextroamphetamine sulfate, amphetamine sulfate \u001b[0m\u001b[1m FENTANYL \u001b[0m\u001b[1m Focalin \u001b[0m\u001b[1m Hydrocodone Bitartrate And Acetaminophen \u001b[0m\u001b[1m Hydrocodone Bitartrate and Acetaminophen \u001b[0m\u001b[1m Hydrocodone Bitartrate and Homatropine Methylbromide \u001b[0m\u001b[1m Hydromet \u001b[0m\u001b[1m Hydromorphone Hydrochloride \u001b[0m\u001b[1m METHADONE HYDROCHLORIDE \u001b[0m\u001b[1m MORPHINE SULFATE \u001b[0m\u001b[1m Methadone Hydrochloride \u001b[0m\u001b[1m Methylphenidate Hydrochloride \u001b[0m\u001b[1m Morphine Sulfate \u001b[0m\u001b[1m OXYCODONE AND ACETAMINOPHEN \u001b[0m\u001b[1m OXYCODONE HYDROCHLORIDE \u001b[0m\u001b[1m OxyContin \u001b[0m\u001b[1m Oxycodone Hydrochloride \u001b[0m\u001b[1m Oxycodone and Acetaminophen \u001b[0m\u001b[1m Oxymorphone Hydrochloride \u001b[0m\u001b[1m PERCOCET \u001b[0m\u001b[1m Ritalin \u001b[0m\u001b[1m Vyvanse \u001b[0m\u001b[1m Year   \u001b[0m\u001b[1m oxycodone hydrochloride \u001b[0m\u001b[1m α            \u001b[0m\n",
       "     │\u001b[90m Float64  \u001b[0m\u001b[90m Float64  \u001b[0m\u001b[90m Float64  \u001b[0m\u001b[90m Float64                                                                                                \u001b[0m\u001b[90m Float64                   \u001b[0m\u001b[90m Float64                                                                                                         \u001b[0m\u001b[90m Float64  \u001b[0m\u001b[90m Float64 \u001b[0m\u001b[90m Float64                                  \u001b[0m\u001b[90m Float64                                  \u001b[0m\u001b[90m Float64                                              \u001b[0m\u001b[90m Float64  \u001b[0m\u001b[90m Float64                     \u001b[0m\u001b[90m Float64                 \u001b[0m\u001b[90m Float64          \u001b[0m\u001b[90m Float64                 \u001b[0m\u001b[90m Float64                       \u001b[0m\u001b[90m Float64          \u001b[0m\u001b[90m Float64                     \u001b[0m\u001b[90m Float64                 \u001b[0m\u001b[90m Float64   \u001b[0m\u001b[90m Float64                 \u001b[0m\u001b[90m Float64                     \u001b[0m\u001b[90m Float64                   \u001b[0m\u001b[90m Float64  \u001b[0m\u001b[90m Float64 \u001b[0m\u001b[90m Float64 \u001b[0m\u001b[90m String \u001b[0m\u001b[90m Float64                 \u001b[0m\u001b[90m Float64      \u001b[0m\n",
       "─────┼────────────────────────────────────────────────────────────────────────────────────────────────────────────────────────────────────────────────────────────────────────────────────────────────────────────────────────────────────────────────────────────────────────────────────────────────────────────────────────────────────────────────────────────────────────────────────────────────────────────────────────────────────────────────────────────────────────────────────────────────────────────────────────────────────────────────────────────────────────────────────────────────────────────────────────────────────────────────────────────────────────────────────────────────────────────────────────────────────────────────────────────────────────────────────────────────────────────────────────────────────────\n",
       "   1 │  17.5796   15.3725   15.3498                                                                                                 18.3893                    15.3265                                                                                                          15.6023   16.1971  16.9886                                   13.5229                                   16.6042                                               15.2013    15.479                       17.269                  16.9864           16.5572                  14.1027                        17.2724           16.8474                      17.9409                  18.4041    17.9235                  15.7122                      16.6738                    13.7742   14.5727  15.8326  18.3948  2012                    14.4948  -8.92394e-43"
      ]
     },
     "execution_count": 28,
     "metadata": {},
     "output_type": "execute_result"
    }
   ],
   "source": [
    "estimated_df = DataFrame(estimates_dict)"
   ]
  },
  {
   "cell_type": "code",
   "execution_count": 44,
   "id": "eb579655",
   "metadata": {},
   "outputs": [
    {
     "data": {
      "text/plain": [
       "\"est_coefs_2017_v2.csv\""
      ]
     },
     "execution_count": 44,
     "metadata": {},
     "output_type": "execute_result"
    }
   ],
   "source": [
    "CSV.write(\"est_coefs_2017_v2.csv\", estimated_df)"
   ]
  },
  {
   "cell_type": "code",
   "execution_count": 385,
   "id": "ecdb6e77",
   "metadata": {},
   "outputs": [
    {
     "data": {
      "text/html": [
       "<div><div style = \"float: left;\"><span>0×5 DataFrame</span></div><div style = \"clear: both;\"></div></div><div class = \"data-frame\" style = \"overflow-x: scroll;\"><table class = \"data-frame\" style = \"margin-bottom: 6px;\"><thead><tr class = \"header\"><th class = \"rowNumber\" style = \"font-weight: bold; text-align: right;\">Row</th><th style = \"text-align: left;\">Column_A</th><th style = \"text-align: left;\">Column_B</th><th style = \"text-align: left;\">Column_C</th><th style = \"text-align: left;\">Column_D</th><th style = \"text-align: left;\">Column_E</th></tr><tr class = \"subheader headerLastRow\"><th class = \"rowNumber\" style = \"font-weight: bold; text-align: right;\"></th><th title = \"Any\" style = \"text-align: left;\">Any</th><th title = \"Any\" style = \"text-align: left;\">Any</th><th title = \"Any\" style = \"text-align: left;\">Any</th><th title = \"Any\" style = \"text-align: left;\">Any</th><th title = \"Any\" style = \"text-align: left;\">Any</th></tr></thead><tbody></tbody></table></div>"
      ],
      "text/latex": [
       "\\begin{tabular}{r|ccccc}\n",
       "\t& Column\\_A & Column\\_B & Column\\_C & Column\\_D & Column\\_E\\\\\n",
       "\t\\hline\n",
       "\t& Any & Any & Any & Any & Any\\\\\n",
       "\t\\hline\n",
       "\\end{tabular}\n"
      ],
      "text/plain": [
       "\u001b[1m0×5 DataFrame\u001b[0m\n",
       "\u001b[1m Row \u001b[0m│\u001b[1m Column_A \u001b[0m\u001b[1m Column_B \u001b[0m\u001b[1m Column_C \u001b[0m\u001b[1m Column_D \u001b[0m\u001b[1m Column_E \u001b[0m\n",
       "     │\u001b[90m Any      \u001b[0m\u001b[90m Any      \u001b[0m\u001b[90m Any      \u001b[0m\u001b[90m Any      \u001b[0m\u001b[90m Any      \u001b[0m\n",
       "─────┴──────────────────────────────────────────────────"
      ]
     },
     "execution_count": 385,
     "metadata": {},
     "output_type": "execute_result"
    }
   ],
   "source": [
    "column_names = [\"Column_A\", \"Column_B\", \"Column_C\", \"Column_D\", \"Column_E\"]\n",
    "estimated_df = DataFrame([Symbol(name) => Vector{Any}() for name in column_names])"
   ]
  },
  {
   "cell_type": "code",
   "execution_count": 395,
   "id": "d45cb375",
   "metadata": {},
   "outputs": [
    {
     "name": "stdout",
     "output_type": "stream",
     "text": [
      "\u001b[1m3×3 DataFrame\u001b[0m\n",
      "\u001b[1m Row \u001b[0m│\u001b[1m Age   \u001b[0m\u001b[1m City     \u001b[0m\u001b[1m Name    \u001b[0m\n",
      "     │\u001b[90m Int64 \u001b[0m\u001b[90m String   \u001b[0m\u001b[90m String  \u001b[0m\n",
      "─────┼──────────────────────────\n",
      "   1 │    25  New York  Alice\n",
      "   2 │    30  London    Bob\n",
      "   3 │    22  Tokyo     Charlie\n"
     ]
    }
   ],
   "source": [
    "my_dict = Dict(\"Name\" => [\"Alice\", \"Bob\", \"Charlie\"],\n",
    "               \"Age\" => [25, 30, 22],\n",
    "               \"City\" => [\"New York\", \"London\", \"Tokyo\"])\n",
    "\n",
    "# Convert the dictionary to a DataFrame\n",
    "df = DataFrame(my_dict)\n",
    "\n",
    "# Display the DataFrame\n",
    "println(df)"
   ]
  },
  {
   "cell_type": "code",
   "execution_count": 265,
   "id": "a820e96d",
   "metadata": {},
   "outputs": [],
   "source": [
    "# column_types = Dict(\n",
    "#     :PROV_KEY => String,\n",
    "#     :PROV_CW_KEY => String,\n",
    "#     :FACILITY_NAME => String,\n",
    "#     :PROV_TYPE => String,\n",
    "#     :PROV_TYPE_ORIG => String,\n",
    "#     :PROV_CLINIC_STATE => String,\n",
    "#     :NH_COUNTY_CODE => String,\n",
    "#     :NDC => String,\n",
    "#     :COVERAGE_CLASS => String,\n",
    "#     :FROM_YEAR => String,\n",
    "#     :CLAIM_ID_KEY => String,\n",
    "#     :SV_LINE => String,\n",
    "#     :SV_STAT => String,\n",
    "#     :AGE => String,\n",
    "#     :SEX => String,\n",
    "#     :MEMBER_COUNTY => String,\n",
    "#     :MEMBER_STATE => String,\n",
    "#     :PHARMACY_COUNTY => String,\n",
    "#     :BILL_PROV_CW_KEY => String,\n",
    "#     :QTY => String,\n",
    "#     :AMT_BILLED => String,\n",
    "#     :AMT_PAID => String,\n",
    "#     :AMT_DEDUCT => String,\n",
    "#     :AMT_COINS => String,\n",
    "#     :AMT_COPAY => String,\n",
    "#     :NDC_PROD_NAME => String,\n",
    "#     :BRAND_STATUS => String,\n",
    "#     :RX_DAYS_SUPPLY => String,\n",
    "#     :RX_INGR_COST => String,\n",
    "#     :RX_DISP_FEE => String,\n",
    "#     :RX_DAW => String,\n",
    "#     :RX_REFILLS=> Int, \n",
    "    \n",
    "# )\n",
    "\n",
    "# for (i,j) in enumerate(column_types)\n",
    "#     df[!,i] = convert(Vector{j[2]}, df[!,i])\n",
    "# end"
   ]
  }
 ],
 "metadata": {
  "kernelspec": {
   "display_name": "Julia 1.9.1",
   "language": "julia",
   "name": "julia-1.9"
  },
  "language_info": {
   "file_extension": ".jl",
   "mimetype": "application/julia",
   "name": "julia",
   "version": "1.9.1"
  }
 },
 "nbformat": 4,
 "nbformat_minor": 5
}
